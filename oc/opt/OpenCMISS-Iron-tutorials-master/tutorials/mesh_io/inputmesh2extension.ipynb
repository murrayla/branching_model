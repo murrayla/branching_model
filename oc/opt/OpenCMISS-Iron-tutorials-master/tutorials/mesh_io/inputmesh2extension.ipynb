{
 "cells": [
  {
   "cell_type": "code",
   "execution_count": 1,
   "metadata": {
    "lines_to_next_cell": 2
   },
   "outputs": [],
   "source": [
    "import numpy\n",
    "\n",
    "# Intialise OpenCMISS-Iron.\n",
    "from opencmiss.iron import iron"
   ]
  },
  {
   "cell_type": "code",
   "execution_count": 2,
   "metadata": {
    "lines_to_next_cell": 2
   },
   "outputs": [],
   "source": [
    "\n",
    "\n",
    "# Set constants\n",
    "X, Y, Z = (1, 2, 3)\n",
    "\n",
    "# Set model number to solve (these specify different loading conditions).\n",
    "model = 1\n",
    "\n",
    "# Specify the number of local element directions.\n",
    "number_of_xi = 3\n",
    "\n",
    "number_of_dimensions = 3\n",
    "interpolation_type = 1\n",
    "number_of_gauss_per_xi = 2 # Gauss points along each local element coordinate direction (xi).\n",
    "use_pressure_basis = False\n",
    "number_of_load_increments = 1"
   ]
  },
  {
   "cell_type": "code",
   "execution_count": 3,
   "metadata": {
    "lines_to_next_cell": 2
   },
   "outputs": [],
   "source": [
    "\n",
    "\n",
    "# Create coordinate system.\n",
    "coordinate_system_user_number = 1\n",
    "coordinate_system = iron.CoordinateSystem()\n",
    "coordinate_system.CreateStart(coordinate_system_user_number)\n",
    "coordinate_system.DimensionSet(3)\n",
    "coordinate_system.CreateFinish()"
   ]
  },
  {
   "cell_type": "code",
   "execution_count": 4,
   "metadata": {
    "lines_to_next_cell": 2
   },
   "outputs": [],
   "source": [
    "\n",
    "\n",
    "# File name\n",
    "file_name = 'gmsh2iron'\n",
    "\n",
    "#Inputing element file\n",
    "elem_file = open(file_name + '.ele', 'r')\n",
    "\n",
    "ele_file_list = list()\n",
    "element_nodes = list()\n",
    "for i, line in enumerate(elem_file):\n",
    "    ele_file_list.append(line)\n",
    "    if ele_file_list[i].split()[0] == \"second-order-tetrahedron\":\n",
    "        element_nodes.append(ele_file_list[i].split()[3])\n",
    "        element_nodes.append(ele_file_list[i].split()[4])\n",
    "        element_nodes.append(ele_file_list[i].split()[5])\n",
    "        element_nodes.append(ele_file_list[i].split()[6])\n",
    "    else:\n",
    "        continue\n",
    "        \n",
    "elem_nodes_used = set(element_nodes)\n",
    "\n",
    "# Reading node file\n",
    "node_file = open(file_name + '.node', 'r')\n",
    "\n",
    "node_file_list = list()\n",
    "for i, line in enumerate(node_file):\n",
    "    node_file_list.append(line)\n",
    "    if (node_file_list[-1][:].split()[0] in elem_nodes_used) or (i == 0):\n",
    "        continue\n",
    "    else: \n",
    "        node_file_list.pop()"
   ]
  },
  {
   "cell_type": "code",
   "execution_count": 5,
   "metadata": {
    "lines_to_next_cell": 2
   },
   "outputs": [],
   "source": [
    "\n",
    "\n",
    "# As formatted to gmsh documentation\n",
    "# numEntityBlocks(size_t) numNodes(size_t) minNodeTag(size_t) maxNodeTag(size_t)\n",
    "\n",
    "# Reading the mesh details from the first line of the node file\n",
    "numEntityBlocks, numNodes, minNodeTag, maxNodeTag = node_file_list[0].split()\n",
    "num_nodes = len(elem_nodes_used)\n",
    "num_coords= 3\n",
    "num_attributes=0\n",
    "boundary_markers=0\n",
    "# Creating variables to store node number & boundary marker\n",
    "NodeNums = [[0 for m in range(2)] for n in range(num_nodes)]\n",
    "# Creating array to store x and y coordinates\n",
    "NodeCoords = [[0 for m in range(num_coords)] for n in range(num_nodes)]\n",
    "\n",
    "nodeIDs = list()\n",
    "# Reading details from node fileb\n",
    "for i in range(num_nodes):\n",
    "    NodeNums[i][0], NodeCoords[i][0], NodeCoords[i][1], NodeCoords[i][2] = node_file_list[i+1].split()  #node number, x, y, z, boundary marker\n",
    "    # Converting from string to appropriate type\n",
    "    NodeNums[i][0] = int(NodeNums[i][0])\n",
    "    NodeCoords[i][0] = float(NodeCoords[i][0])\n",
    "    NodeCoords[i][1] = float(NodeCoords[i][1])\n",
    "    NodeCoords[i][2] = float(NodeCoords[i][2])\n",
    "    nodeIDs.append(NodeNums[i][0])\n",
    "\n",
    "# Closing the file\n",
    "node_file.close()"
   ]
  },
  {
   "cell_type": "code",
   "execution_count": 6,
   "metadata": {
    "lines_to_next_cell": 2
   },
   "outputs": [
    {
     "name": "stdout",
     "output_type": "stream",
     "text": [
      "{'second-order-tetrahedron': 24}\n"
     ]
    }
   ],
   "source": [
    "\n",
    "\n",
    "# gmsh .msh file format:\n",
    "# numEntityBlocks(size_t) numElements(size_t) minElementTag(size_t) maxElementTag(size_t)\n",
    "\n",
    "#Reading the values of the first line\n",
    "numEntityBlocks, numElements, minElementTag, maxElementTag = ele_file_list[0].split()\n",
    "\n",
    "# Set Element Types\n",
    "# types = {1: \"line\", 2: \"triangle\", 3: \"quadrangle\", 4: \"tetrahedron\", \n",
    "#          5: \"hexahedron\", 6: \"prism\", 7: \"pyramid\", 8: \"second-order-line\", \n",
    "#          9: \"second-order-triangle\", 10: \"second-order-quadrangle\", \n",
    "#          11: \"second-order-tetrahedron\", 15: \"point\"}\n",
    "types = {4: \"tetrahedron\", 11: \"second-order-tetrahedron\"}\n",
    "\n",
    "element_type = list()\n",
    "count = 0\n",
    "for i, line in enumerate(ele_file_list):\n",
    "    if line.split()[0] in types.values():\n",
    "        element_type.append(line.split()[0])\n",
    "\n",
    "# element_count.append(count)\n",
    "element_type_count = list()\n",
    "element_type_set = set(element_type)\n",
    "\n",
    "element_type_count = map(lambda x: element_type.count(x), element_type_set)\n",
    "\n",
    "elements_breakdown = dict(zip(element_type_set, list(element_type_count)))\n",
    "\n",
    "ele_attributes = 0\n",
    "\n",
    "# Condition on the different amount of mesh elements (3 dimensional)\n",
    "if len(elements_breakdown.values()) >= 3:\n",
    "    # element counts\n",
    "    num_ele_tetra = elements_breakdown[\"tetrahedron\"]\n",
    "    num_ele_quadr = elements_breakdown[\"quadrangle\"]\n",
    "    num_ele_pyram = elements_breakdown[\"pyramid\"]\n",
    "    # node counts\n",
    "    num_nodes_tetra = 4\n",
    "    num_nodes_quadr = 4\n",
    "    num_nodes_pyram = 5\n",
    "    # Creating variable to store the element map\n",
    "    ele_map_tetra = [[0 for x in range(num_nodes_tetra + ele_attributes)] for y in range(num_ele_tetra)]\n",
    "    ele_map_quadr = [[0 for x in range(num_nodes_quadr + ele_attributes)] for y in range(num_ele_quadr)]\n",
    "    ele_map_pyram = [[0 for x in range(num_nodes_pyram + ele_attributes)] for y in range(num_ele_pyram)]\n",
    "    # Element indexes\n",
    "    ele_idx_tetra = [[0 for m in range(1)] for n in range(num_ele_tetra)]\n",
    "    ele_idx_quadr = [[0 for m in range(1)] for n in range(num_ele_quadr)]\n",
    "    ele_idx_pyram = [[0 for m in range(1)] for n in range(num_ele_pyram)]\n",
    "    # Reading element data from elemfile\n",
    "    ele_idx_count_tetra = 0\n",
    "    ele_idx_count_quadr = 0\n",
    "    ele_idx_count_pyram = 0\n",
    "    check = 0\n",
    "    for line in ele_file_list:\n",
    "        if line.split()[0] == \"tetrahedron\":\n",
    "            _, _, _, ele_map_tetra[ele_idx_count_tetra][0], ele_map_tetra[ele_idx_count_tetra][1], ele_map_tetra[ele_idx_count_tetra][2], ele_map_tetra[ele_idx_count_tetra][3] = line.split()\n",
    "            ele_idx_count_tetra += 1\n",
    "            ele_idx_tetra[ele_idx_count_tetra-1][0] = ele_idx_count_tetra\n",
    "        elif line.split()[0] == \"quadrangle\":\n",
    "            _, _, _, ele_map_quadr[ele_idx_count_quadr][0], ele_map_quadr[ele_idx_count_quadr][1], ele_map_quadr[ele_idx_count_quadr][2], ele_map_quadr[ele_idx_count_quadr][3] = line.split()\n",
    "            ele_idx_count_quadr += 1\n",
    "            ele_idx_quadr[ele_idx_count_quadr-1][0] = ele_idx_count_quadr\n",
    "        elif line.split()[0] == \"pyramid\":\n",
    "            _, _, _, ele_map_pyram[ele_idx_count_pyram][0], ele_map_pyram[ele_idx_count_pyram][1], ele_map_pyram[ele_idx_count_pyram][2], ele_map_pyram[ele_idx_count_pyram][3], ele_map_pyram[ele_idx_count_pyram][4] = line.split()\n",
    "            ele_idx_count_pyram += 1\n",
    "            ele_idx_pyram[ele_idx_count_pyram-1][0] = ele_idx_count_pyram\n",
    "    \n",
    "elif len(elements_breakdown.values()) == 2:\n",
    "    # element counts\n",
    "    num_ele_tetra = elements_breakdown[\"tetrahedron\"]\n",
    "    num_ele_quadr = elements_breakdown[\"pyramid\"]\n",
    "    # node counts\n",
    "    num_nodes_tetra = 4\n",
    "    num_nodes_quadr = 4\n",
    "    # Creating variable to store the element map\n",
    "    ele_map_tetra = [[0 for x in range(num_nodes_tetra + ele_attributes)] for y in range(num_ele_tetra)]\n",
    "    ele_map_quadr = [[0 for x in range(num_nodes_quadr + ele_attributes)] for y in range(num_ele_quadr)]\n",
    "    # Element indexes\n",
    "    ele_idx_tetra = [[0 for m in range(1)] for n in range(num_ele_tetra)]\n",
    "    ele_idx_quadr = [[0 for m in range(1)] for n in range(num_ele_quadr)]\n",
    "    # Reading element data from elemfile\n",
    "    ele_idx_count_tetra = 0\n",
    "    ele_idx_count_quadr = 0\n",
    "    check = 0\n",
    "    for line in ele_file_list:\n",
    "        if line.split()[0] == \"tetrahedron\":\n",
    "            _, _, _, ele_map_tetra[ele_idx_count_tetra][0], ele_map_tetra[ele_idx_count_tetra][1], ele_map_tetra[ele_idx_count_tetra][2], ele_map_tetra[ele_idx_count_tetra][3] = line.split()\n",
    "            ele_idx_count_tetra += 1\n",
    "            ele_idx_tetra[ele_idx_count_tetra-1][0] = ele_idx_count_tetra\n",
    "        elif line.split()[0] == \"quadrangle\":\n",
    "            _, _, _, ele_map_quadr[ele_idx_count_quadr][0], ele_map_quadr[ele_idx_count_quadr][1], ele_map_quadr[ele_idx_count_quadr][2], ele_map_quadr[ele_idx_count_quadr][3] = line.split()\n",
    "            ele_idx_count_quadr += 1\n",
    "            ele_idx_quadr[ele_idx_count_quadr-1][0] = ele_idx_count_quadr\n",
    "            \n",
    "if len(elements_breakdown.values()) == 1:\n",
    "    num_ele_2Otetra = 0\n",
    "    num_ele_tetra = 0\n",
    "    print(elements_breakdown)\n",
    "    # quadrangle\n",
    "    if \"second-order-tetrahedron\" in elements_breakdown.keys():\n",
    "        # element counts\n",
    "        num_ele_2Otetra = elements_breakdown[\"second-order-tetrahedron\"]\n",
    "        # node counts\n",
    "        num_nodes_2Otetra = 10\n",
    "        # Creating variable to store the element map\n",
    "        ele_map_2Otetra = [[0 for x in range(num_nodes_2Otetra + ele_attributes)] for y in range(num_ele_2Otetra)]\n",
    "        # Element indexes\n",
    "        ele_idx_2Otetra = [[0 for m in range(1)] for n in range(num_ele_2Otetra)]\n",
    "        # Reading element data from elemfile\n",
    "        ele_idx_count = 0\n",
    "        check = 0\n",
    "        for line in ele_file_list:\n",
    "            if line.split()[0] == \"second-order-tetrahedron\":\n",
    "                _, _, _, \\\n",
    "                    ele_map_2Otetra[ele_idx_count][0], ele_map_2Otetra[ele_idx_count][1], ele_map_2Otetra[ele_idx_count][2], \\\n",
    "                        ele_map_2Otetra[ele_idx_count][3],  ele_map_2Otetra[ele_idx_count][4], ele_map_2Otetra[ele_idx_count][5], \\\n",
    "                            ele_map_2Otetra[ele_idx_count][6],  ele_map_2Otetra[ele_idx_count][7], ele_map_2Otetra[ele_idx_count][8], \\\n",
    "                                ele_map_2Otetra[ele_idx_count][9] = line.split()\n",
    "                ele_idx_count += 1\n",
    "                ele_idx_2Otetra[ele_idx_count-1][0] = ele_idx_count\n",
    "\n",
    "    # tetrahedral\n",
    "    elif \"tetrahedron\" in elements_breakdown.keys():\n",
    "        # element counts\n",
    "        num_ele_tetra = elements_breakdown[\"tetrahedron\"]\n",
    "        # node counts\n",
    "        num_nodes_tetra = 4\n",
    "        # Creating variable to store the element map\n",
    "        ele_map_tetra = [[0 for x in range(num_nodes_tetra + ele_attributes)] for y in range(num_ele_tetra)]\n",
    "        # Element indexes\n",
    "        ele_idx_tetra = [[0 for m in range(1)] for n in range(num_ele_tetra)]\n",
    "        # Reading element data from elemfile\n",
    "        ele_idx_count = 0\n",
    "        check = 0\n",
    "        for line in ele_file_list:\n",
    "            if line.split()[0] == \"tetrahedron\":\n",
    "                _, _, _, ele_map_tetra[ele_idx_count][0], ele_map_tetra[ele_idx_count][1], ele_map_tetra[ele_idx_count][2], ele_map_tetra[ele_idx_count][3] = line.split()\n",
    "                ele_idx_count += 1\n",
    "                ele_idx_tetra[ele_idx_count-1][0] = ele_idx_count\n",
    "\n",
    "# # converting 2d list into 1d\n",
    "# num_tetra_nodes = len(set(chain.from_iterable(ele_map_tetra)))\n",
    "\n",
    "# Closing the file\n",
    "elem_file.close()"
   ]
  },
  {
   "cell_type": "code",
   "execution_count": 8,
   "metadata": {
    "lines_to_next_cell": 2
   },
   "outputs": [],
   "source": [
    "\n",
    "basis_user_number = 1\n",
    "pressure_basis_user_number = 2\n",
    "\n",
    "if num_ele_2Otetra > 0:\n",
    "    xi_interpolation = [\n",
    "        iron.BasisInterpolationSpecifications.QUADRATIC_SIMPLEX,\n",
    "        iron.BasisInterpolationSpecifications.QUADRATIC_SIMPLEX,\n",
    "        iron.BasisInterpolationSpecifications.QUADRATIC_SIMPLEX]\n",
    "    number_of_guass_xi = [3, 3, 3]\n",
    "\n",
    "    # Define geometric basis.\n",
    "    basis = iron.Basis()\n",
    "    basis.CreateStart(basis_user_number)\n",
    "    basis.TypeSet(iron.BasisTypes.SIMPLEX)\n",
    "    basis.NumberOfXiSet(number_of_xi)\n",
    "    basis.InterpolationXiSet(\n",
    "        [iron.BasisInterpolationSpecifications.QUADRATIC_SIMPLEX]*number_of_xi)\n",
    "    basis.QuadratureNumberOfGaussXiSet( [number_of_gauss_per_xi]*number_of_xi)\n",
    "\n",
    "elif num_ele_tetra > 0:\n",
    "    xi_interpolation = [\n",
    "            iron.BasisInterpolationSpecifications.LINEAR_SIMPLEX,\n",
    "            iron.BasisInterpolationSpecifications.LINEAR_SIMPLEX,\n",
    "            iron.BasisInterpolationSpecifications.LINEAR_SIMPLEX]\n",
    "    number_of_guass_xi = [3, 3, 3]\n",
    "\n",
    "    # Define geometric basis.\n",
    "    basis = iron.Basis()\n",
    "    basis.CreateStart(basis_user_number)\n",
    "    basis.TypeSet(iron.BasisTypes.SIMPLEX)\n",
    "    basis.NumberOfXiSet(number_of_xi)\n",
    "    basis.InterpolationXiSet(xi_interpolation)\n",
    "    basis.QuadratureNumberOfGaussXiSet(number_of_guass_xi)\n",
    "\n",
    "basis.CreateFinish()"
   ]
  },
  {
   "cell_type": "code",
   "execution_count": 9,
   "metadata": {
    "lines_to_next_cell": 2
   },
   "outputs": [],
   "source": [
    "\n",
    "\n",
    "# Create region\n",
    "region_user_number = 1\n",
    "region = iron.Region()\n",
    "region.CreateStart(region_user_number, iron.WorldRegion)\n",
    "region.CoordinateSystemSet(coordinate_system)\n",
    "region.LabelSet(\"Region\")\n",
    "region.CreateFinish()"
   ]
  },
  {
   "cell_type": "code",
   "execution_count": 10,
   "metadata": {
    "lines_to_next_cell": 2
   },
   "outputs": [],
   "source": [
    "\n",
    "\n",
    "# Initialise Nodes\n",
    "nodes = iron.Nodes()\n",
    "nodes.CreateStart(region, num_nodes)\n",
    "nodes.CreateFinish()"
   ]
  },
  {
   "cell_type": "code",
   "execution_count": 12,
   "metadata": {
    "lines_to_next_cell": 2
   },
   "outputs": [],
   "source": [
    "\n",
    "\n",
    "# Initialise Elements\n",
    "meshElements = iron.MeshElements()\n",
    "meshElements.CreateStart(mesh, 1, basis)"
   ]
  },
  {
   "cell_type": "code",
   "execution_count": 13,
   "metadata": {},
   "outputs": [],
   "source": [
    "# ChatGPT reordering function\n",
    "def reorder_nodes(node_list):\n",
    "    old_order = [0, 1, 2, 3, 4, 5, 6, 7, 8, 9]\n",
    "    new_order = [0, 3, 5, 7, 9, 8, 6, 4, 2, 1]\n",
    "    new_list = [node_list[old_order.index(i)] for i in new_order]\n",
    "    return new_list"
   ]
  },
  {
   "cell_type": "code",
   "execution_count": 14,
   "metadata": {
    "lines_to_next_cell": 2
   },
   "outputs": [
    {
     "ename": "CMFEError",
     "evalue": "",
     "output_type": "error",
     "traceback": [
      "\u001b[0;31m---------------------------------------------------------------------------\u001b[0m",
      "\u001b[0;31mCMFEError\u001b[0m                                 Traceback (most recent call last)",
      "\u001b[0;32m<ipython-input-14-3bdff0a7c6ec>\u001b[0m in \u001b[0;36m<module>\u001b[0;34m\u001b[0m\n\u001b[1;32m     16\u001b[0m         \u001b[0miron_ordered_nodesList\u001b[0m \u001b[0;34m=\u001b[0m \u001b[0mreorder_nodes\u001b[0m\u001b[0;34m(\u001b[0m\u001b[0mnodesList\u001b[0m\u001b[0;34m)\u001b[0m\u001b[0;34m\u001b[0m\u001b[0;34m\u001b[0m\u001b[0m\n\u001b[1;32m     17\u001b[0m \u001b[0;34m\u001b[0m\u001b[0m\n\u001b[0;32m---> 18\u001b[0;31m         \u001b[0mmeshElements\u001b[0m\u001b[0;34m.\u001b[0m\u001b[0mNodesSet\u001b[0m\u001b[0;34m(\u001b[0m\u001b[0mint\u001b[0m\u001b[0;34m(\u001b[0m\u001b[0melement\u001b[0m\u001b[0;34m)\u001b[0m\u001b[0;34m,\u001b[0m \u001b[0miron_ordered_nodesList\u001b[0m\u001b[0;34m)\u001b[0m\u001b[0;34m\u001b[0m\u001b[0;34m\u001b[0m\u001b[0m\n\u001b[0m\u001b[1;32m     19\u001b[0m \u001b[0;31m#         except:\u001b[0m\u001b[0;34m\u001b[0m\u001b[0;34m\u001b[0m\u001b[0;34m\u001b[0m\u001b[0m\n\u001b[1;32m     20\u001b[0m \u001b[0;31m#             print(\"error at {}\".format(i+638))\u001b[0m\u001b[0;34m\u001b[0m\u001b[0;34m\u001b[0m\u001b[0;34m\u001b[0m\u001b[0m\n",
      "\u001b[0;32m~/opencmiss-build/opencmiss/install/lib/python3.8/opencmiss.iron/opencmiss/iron/iron.py\u001b[0m in \u001b[0;36mNodesSet\u001b[0;34m(self, globalElementNumber, elementUserNodes)\u001b[0m\n\u001b[1;32m   7053\u001b[0m \u001b[0;34m\u001b[0m\u001b[0m\n\u001b[1;32m   7054\u001b[0m         \u001b[0mmeshElements\u001b[0m \u001b[0;34m=\u001b[0m \u001b[0mself\u001b[0m\u001b[0;34m\u001b[0m\u001b[0;34m\u001b[0m\u001b[0m\n\u001b[0;32m-> 7055\u001b[0;31m         \u001b[0;32mreturn\u001b[0m \u001b[0m_wrap_routine\u001b[0m\u001b[0;34m(\u001b[0m\u001b[0m_iron_python\u001b[0m\u001b[0;34m.\u001b[0m\u001b[0mcmfe_MeshElements_NodesSet\u001b[0m\u001b[0;34m,\u001b[0m \u001b[0;34m[\u001b[0m\u001b[0mmeshElements\u001b[0m\u001b[0;34m,\u001b[0m \u001b[0mglobalElementNumber\u001b[0m\u001b[0;34m,\u001b[0m \u001b[0melementUserNodes\u001b[0m\u001b[0;34m]\u001b[0m\u001b[0;34m)\u001b[0m\u001b[0;34m\u001b[0m\u001b[0;34m\u001b[0m\u001b[0m\n\u001b[0m\u001b[1;32m   7056\u001b[0m \u001b[0;34m\u001b[0m\u001b[0m\n\u001b[1;32m   7057\u001b[0m     \u001b[0;32mdef\u001b[0m \u001b[0mUserNodeVersionSet\u001b[0m\u001b[0;34m(\u001b[0m\u001b[0mself\u001b[0m\u001b[0;34m,\u001b[0m \u001b[0mglobalElementNumber\u001b[0m\u001b[0;34m,\u001b[0m \u001b[0mversionNumber\u001b[0m\u001b[0;34m,\u001b[0m \u001b[0mderivativeNumber\u001b[0m\u001b[0;34m,\u001b[0m \u001b[0muserNodeNumber\u001b[0m\u001b[0;34m)\u001b[0m\u001b[0;34m:\u001b[0m\u001b[0;34m\u001b[0m\u001b[0;34m\u001b[0m\u001b[0m\n",
      "\u001b[0;32m~/opencmiss-build/opencmiss/install/lib/python3.8/opencmiss.iron/opencmiss/iron/_utils.py\u001b[0m in \u001b[0;36mwrap_cmiss_routine\u001b[0;34m(routine, args)\u001b[0m\n\u001b[1;32m     75\u001b[0m             \u001b[0;32mraise\u001b[0m \u001b[0mCMFEError\u001b[0m\u001b[0;34m(\u001b[0m\u001b[0;34m\"Error converting pointer\"\u001b[0m\u001b[0;34m)\u001b[0m\u001b[0;34m\u001b[0m\u001b[0;34m\u001b[0m\u001b[0m\n\u001b[1;32m     76\u001b[0m         \u001b[0;32melse\u001b[0m\u001b[0;34m:\u001b[0m\u001b[0;34m\u001b[0m\u001b[0;34m\u001b[0m\u001b[0m\n\u001b[0;32m---> 77\u001b[0;31m             \u001b[0;32mraise\u001b[0m \u001b[0mCMFEError\u001b[0m\u001b[0;34m(\u001b[0m\u001b[0m_iron_python\u001b[0m\u001b[0;34m.\u001b[0m\u001b[0mcmfe_ExtractErrorMessage\u001b[0m\u001b[0;34m(\u001b[0m\u001b[0;34m)\u001b[0m\u001b[0;34m[\u001b[0m\u001b[0;36m1\u001b[0m\u001b[0;34m]\u001b[0m\u001b[0;34m)\u001b[0m\u001b[0;34m\u001b[0m\u001b[0;34m\u001b[0m\u001b[0m\n\u001b[0m\u001b[1;32m     78\u001b[0m     \u001b[0;32mreturn\u001b[0m \u001b[0mreturn_val\u001b[0m\u001b[0;34m\u001b[0m\u001b[0;34m\u001b[0m\u001b[0m\n",
      "\u001b[0;31mCMFEError\u001b[0m: "
     ]
    }
   ],
   "source": [
    "\n",
    "if num_ele_2Otetra > 0:\n",
    "    \n",
    "    msh_node_order = [3, 2, 1, 6, 5, 4, 9, 8, 7, 10]\n",
    "\n",
    "    for i in range(num_ele_2Otetra):\n",
    "        element = ele_idx_2Otetra[i][0]\n",
    "        \n",
    "#         try:\n",
    "        nodesList = list(\n",
    "        map(int,[ele_map_2Otetra[i][0], ele_map_2Otetra[i][1], ele_map_2Otetra[i][2], \n",
    "                 ele_map_2Otetra[i][3], ele_map_2Otetra[i][4], ele_map_2Otetra[i][5],\n",
    "                 ele_map_2Otetra[i][6], ele_map_2Otetra[i][7], ele_map_2Otetra[i][8],\n",
    "                 ele_map_2Otetra[i][9]]))\n",
    "    \n",
    "        # reorder the nodes to convert from .msh to iron standard\n",
    "        iron_ordered_nodesList = reorder_nodes(nodesList)\n",
    "        \n",
    "        meshElements.NodesSet(int(element), iron_ordered_nodesList)\n",
    "#         except:\n",
    "#             print(\"error at {}\".format(i+638))\n",
    "#             print(\"with nodesList {}\".format(nodesList))\n",
    "        \n",
    "elif num_ele_tetra > 0:\n",
    "\n",
    "    for i in range(num_ele_tetra):\n",
    "        element = ele_idx_tetra[i][0]\n",
    "        \n",
    "        try: \n",
    "            nodesList = list(\n",
    "            map(int,[ele_map_tetra[i][0], ele_map_tetra[i][1], ele_map_tetra[i][2], ele_map_tetra[i][3]]))\n",
    "            meshElements.NodesSet(int(element), nodesList)   \n",
    "        except:\n",
    "            print(\"error at {}\".format(i+638))\n",
    "            print(\"with nodesList {}\".format(nodesList))\n",
    "            print((nodesList[0] in nodeIDs), (nodesList[1] in nodeIDs),(nodesList[2] in nodeIDs),(nodesList[3] in nodeIDs),)\n",
    "        \n",
    "meshElements.CreateFinish()"
   ]
  },
  {
   "cell_type": "code",
   "execution_count": null,
   "metadata": {
    "lines_to_next_cell": 2
   },
   "outputs": [],
   "source": [
    "\n",
    "\n",
    "# Finalise Mesh\n",
    "mesh.CreateFinish()"
   ]
  },
  {
   "cell_type": "code",
   "execution_count": null,
   "metadata": {
    "lines_to_next_cell": 2
   },
   "outputs": [],
   "source": [
    "\n",
    "\n",
    "# Get the number of computational nodes.\n",
    "number_of_computational_nodes = iron.ComputationalNumberOfNodesGet()\n",
    "\n",
    "# Perform mesh decomposition.\n",
    "decomposition_user_number = 1\n",
    "decomposition = iron.Decomposition()\n",
    "decomposition.CreateStart(decomposition_user_number, mesh)\n",
    "\n",
    "decomposition.TypeSet(iron.DecompositionTypes.CALCULATED)\n",
    "decomposition.NumberOfDomainsSet(number_of_computational_nodes)\n",
    "decomposition.CreateFinish()"
   ]
  },
  {
   "cell_type": "code",
   "execution_count": null,
   "metadata": {
    "lines_to_next_cell": 2
   },
   "outputs": [],
   "source": [
    "\n",
    "\n",
    "# Create a field for the geometry.\n",
    "geometric_field_user_number = 1\n",
    "geometric_field = iron.Field()\n",
    "geometric_field.CreateStart(geometric_field_user_number, region) #notice that the geometric field is associated with region in this function call.\n",
    "geometric_field.MeshDecompositionSet(decomposition)\n",
    "geometric_field.TypeSet(iron.FieldTypes.GEOMETRIC)\n",
    "geometric_field.VariableLabelSet(iron.FieldVariableTypes.U,\"Geometry\")\n",
    "geometric_field.ComponentMeshComponentSet(iron.FieldVariableTypes.U,1,1)\n",
    "geometric_field.ComponentMeshComponentSet(iron.FieldVariableTypes.U,2,1)\n",
    "geometric_field.ComponentMeshComponentSet(iron.FieldVariableTypes.U,3,1)\n",
    "geometric_field.CreateFinish()"
   ]
  },
  {
   "cell_type": "code",
   "execution_count": null,
   "metadata": {
    "lines_to_next_cell": 2
   },
   "outputs": [],
   "source": [
    "\n",
    "\n",
    "# Set geometric field values from customized mesh.\n",
    "computationalNodeNumber = iron.ComputationalNodeNumberGet()\n",
    "for node_idx in range(num_nodes):\n",
    "    try:\n",
    "        node_id = NodeNums[node_idx][0]\n",
    "        node_x = NodeCoords[node_idx][0]\n",
    "        node_y = NodeCoords[node_idx][1]\n",
    "        node_z = NodeCoords[node_idx][2]\n",
    "        geometric_field.ParameterSetUpdateNodeDP(\n",
    "          iron.FieldVariableTypes.U, iron.FieldParameterSetTypes.VALUES,\n",
    "          1, 1, node_id, 1, node_x)\n",
    "        geometric_field.ParameterSetUpdateNodeDP(\n",
    "          iron.FieldVariableTypes.U, iron.FieldParameterSetTypes.VALUES,\n",
    "          1, 1, node_id, 2, node_y)\n",
    "        geometric_field.ParameterSetUpdateNodeDP(\n",
    "          iron.FieldVariableTypes.U, iron.FieldParameterSetTypes.VALUES,\n",
    "          1, 1, node_id, 3, node_z)\n",
    "    except:\n",
    "        print(\"error at node_idx {}\".format(node_idx))\n",
    "        print(\"with node coordinates {}\".format([node_x, node_y, node_z]))"
   ]
  },
  {
   "cell_type": "code",
   "execution_count": null,
   "metadata": {},
   "outputs": [],
   "source": [
    "\n",
    "\n",
    "# Update the geometric field.\n",
    "geometric_field.ParameterSetUpdateStart(\n",
    "  iron.FieldVariableTypes.U, iron.FieldParameterSetTypes.VALUES)\n",
    "geometric_field.ParameterSetUpdateFinish(\n",
    "  iron.FieldVariableTypes.U, iron.FieldParameterSetTypes.VALUES)\n",
    "\n",
    "\n",
    "# ## /////////////////"
   ]
  },
  {
   "cell_type": "code",
   "execution_count": null,
   "metadata": {
    "lines_to_next_cell": 2
   },
   "outputs": [],
   "source": [
    "\n",
    "\n",
    "dependent_field_user_number = 2\n",
    "\n",
    "dependent_field = iron.Field()\n",
    "dependent_field.CreateStart(dependent_field_user_number, region)\n",
    "dependent_field.MeshDecompositionSet(decomposition)\n",
    "dependent_field.TypeSet(iron.FieldTypes.GEOMETRIC_GENERAL)\n",
    "dependent_field.GeometricFieldSet(geometric_field)\n",
    "dependent_field.DependentTypeSet(iron.FieldDependentTypes.DEPENDENT)\n",
    "dependent_field.VariableLabelSet(iron.FieldVariableTypes.U, \"Dependent\")\n",
    "dependent_field.NumberOfVariablesSet(2)\n",
    "\n",
    "# Set the number of componets for the U variable (position) and the DELUDELN\n",
    "# (forces).\n",
    "dependent_field.NumberOfComponentsSet(iron.FieldVariableTypes.U, 4)\n",
    "dependent_field.NumberOfComponentsSet(iron.FieldVariableTypes.DELUDELN, 4)\n",
    "\n",
    "if use_pressure_basis:\n",
    "    # Set the hydrostatic pressure to be nodally based and use the second mesh component.\n",
    "    # U variable (position)\n",
    "    dependent_field.ComponentInterpolationSet(\n",
    "        iron.FieldVariableTypes.U, 4, iron.FieldInterpolationTypes.NODE_BASED)\n",
    "    dependent_field.ComponentMeshComponentSet(\n",
    "        iron.FieldVariableTypes.U, 4, 2)\n",
    "\n",
    "    # DELUDELN variable (forces)\n",
    "    dependent_field.ComponentInterpolationSet(\n",
    "        iron.FieldVariableTypes.DELUDELN, 4,\n",
    "        iron.FieldInterpolationTypes.NODE_BASED)\n",
    "    dependent_field.ComponentMeshComponentSet(\n",
    "        iron.FieldVariableTypes.DELUDELN, 4, 2)\n",
    "\n",
    "    if interpolation_type == 4:\n",
    "        # Set arc length scaling for cubic-Hermite elements.\n",
    "        dependent_field.FieldScalingTypeSet(\n",
    "            iron.FieldScalingTypes.ARITHMETIC_MEAN)\n",
    "else:\n",
    "    # Set the hydrostatic pressure to be constant within each element.\n",
    "    dependent_field.ComponentInterpolationSet(\n",
    "        iron.FieldVariableTypes.U, 4,\n",
    "        iron.FieldInterpolationTypes.ELEMENT_BASED)\n",
    "    dependent_field.ComponentInterpolationSet(\n",
    "        iron.FieldVariableTypes.DELUDELN, 4,\n",
    "        iron.FieldInterpolationTypes.ELEMENT_BASED)\n",
    "dependent_field.CreateFinish()"
   ]
  },
  {
   "cell_type": "code",
   "execution_count": null,
   "metadata": {
    "lines_to_next_cell": 2
   },
   "outputs": [],
   "source": [
    "\n",
    "\n",
    "# Initialise dependent field from undeformed geometry and displacement bcs and set hydrostatic pressure.\n",
    "iron.Field.ParametersToFieldParametersComponentCopy(\n",
    "    geometric_field, iron.FieldVariableTypes.U, iron.FieldParameterSetTypes.VALUES, 1,\n",
    "    dependent_field, iron.FieldVariableTypes.U, iron.FieldParameterSetTypes.VALUES, 1)\n",
    "iron.Field.ParametersToFieldParametersComponentCopy(\n",
    "    geometric_field, iron.FieldVariableTypes.U, iron.FieldParameterSetTypes.VALUES, 2,\n",
    "    dependent_field, iron.FieldVariableTypes.U, iron.FieldParameterSetTypes.VALUES, 2)\n",
    "iron.Field.ParametersToFieldParametersComponentCopy(\n",
    "    geometric_field, iron.FieldVariableTypes.U, iron.FieldParameterSetTypes.VALUES, 3,\n",
    "    dependent_field, iron.FieldVariableTypes.U, iron.FieldParameterSetTypes.VALUES, 3)\n",
    "iron.Field.ComponentValuesInitialiseDP(\n",
    "    dependent_field, iron.FieldVariableTypes.U, iron.FieldParameterSetTypes.VALUES, 4, 0.0)"
   ]
  },
  {
   "cell_type": "code",
   "execution_count": null,
   "metadata": {
    "lines_to_next_cell": 2
   },
   "outputs": [],
   "source": [
    "\n",
    "\n",
    "# Create the material field.\n",
    "material_field_user_number = 3\n",
    "\n",
    "material_field = iron.Field()\n",
    "material_field.CreateStart(material_field_user_number, region)\n",
    "material_field.TypeSet(iron.FieldTypes.MATERIAL)\n",
    "material_field.MeshDecompositionSet(decomposition)\n",
    "material_field.GeometricFieldSet(geometric_field)\n",
    "material_field.VariableLabelSet(iron.FieldVariableTypes.U, \"Material\")\n",
    "\n",
    "# Set the number of components for the Mooney Rivlin constitutive equation (2).\n",
    "material_field.NumberOfComponentsSet(iron.FieldVariableTypes.U, 2)\n",
    "\n",
    "for component in [1, 2]:\n",
    "    material_field.ComponentInterpolationSet(\n",
    "      iron.FieldVariableTypes.U, component,\n",
    "      iron.FieldInterpolationTypes.ELEMENT_BASED)\n",
    "    if interpolation_type == 4:\n",
    "        # Set arc length scaling for cubic-Hermite elements.\n",
    "        material_field.FieldScalingTypeSet(iron.FieldScalingTypes.ARITHMETIC_MEAN)\n",
    "material_field.CreateFinish()\n",
    "\n",
    "# Set Mooney-Rivlin constants c10 and c01 respectively.\n",
    "material_field.ComponentValuesInitialiseDP(\n",
    "    iron.FieldVariableTypes.U, iron.FieldParameterSetTypes.VALUES, 1, 1.0)\n",
    "material_field.ComponentValuesInitialiseDP(\n",
    "    iron.FieldVariableTypes.U, iron.FieldParameterSetTypes.VALUES, 2, 0.2)"
   ]
  },
  {
   "cell_type": "code",
   "execution_count": null,
   "metadata": {
    "lines_to_next_cell": 2
   },
   "outputs": [],
   "source": [
    "\n",
    "\n",
    "# Equation set field.\n",
    "equations_set_field_user_number = 4\n",
    "equations_set_field = iron.Field()\n",
    "equations_set = iron.EquationsSet()"
   ]
  },
  {
   "cell_type": "code",
   "execution_count": null,
   "metadata": {
    "lines_to_next_cell": 2
   },
   "outputs": [],
   "source": [
    "\n",
    "\n",
    "equations_set_user_number = 1\n",
    "\n",
    "# Finite elasticity equation specification.\n",
    "equations_set_specification = [iron.ProblemClasses.ELASTICITY,\n",
    "    iron.ProblemTypes.FINITE_ELASTICITY,\n",
    "    iron.EquationsSetSubtypes.MOONEY_RIVLIN]\n",
    "\n",
    "# Add the geometric field and equations set field that we created earlier (note\n",
    "# that while we defined the geometric field above, we only initialised an empty\n",
    "# field for the equations_set_field. When an empty field is provided to the \n",
    "# equations_set, it will automatically populate it with default values).\n",
    "equations_set.CreateStart(\n",
    "    equations_set_user_number, region, geometric_field, equations_set_specification,\n",
    "    equations_set_field_user_number, equations_set_field)\n",
    "# Add the dependent field that we created earlier.\n",
    "equations_set.DependentCreateStart(dependent_field_user_number, dependent_field)\n",
    "equations_set.DependentCreateFinish()\n",
    "# Add the material field that we created earlier.\n",
    "equations_set.MaterialsCreateStart(material_field_user_number, material_field)\n",
    "equations_set.MaterialsCreateFinish()\n",
    "equations_set.CreateFinish()"
   ]
  },
  {
   "cell_type": "code",
   "execution_count": null,
   "metadata": {
    "lines_to_next_cell": 2
   },
   "outputs": [],
   "source": [
    "\n",
    "\n",
    "# Create equations.\n",
    "equations = iron.Equations()\n",
    "equations_set.EquationsCreateStart(equations)\n",
    "equations.SparsityTypeSet(iron.EquationsSparsityTypes.SPARSE)\n",
    "equations.OutputTypeSet(iron.EquationsOutputTypes.NONE)\n",
    "equations_set.EquationsCreateFinish()"
   ]
  },
  {
   "cell_type": "code",
   "execution_count": null,
   "metadata": {
    "lines_to_next_cell": 2
   },
   "outputs": [],
   "source": [
    "\n",
    "\n",
    "# Define the problem.\n",
    "problem_user_number = 1\n",
    "\n",
    "problem = iron.Problem()\n",
    "problem_specification = (\n",
    "  [iron.ProblemClasses.ELASTICITY,\n",
    "   iron.ProblemTypes.FINITE_ELASTICITY,\n",
    "   iron.ProblemSubtypes.NONE])\n",
    "problem.CreateStart(problem_user_number, problem_specification)\n",
    "problem.CreateFinish()"
   ]
  },
  {
   "cell_type": "code",
   "execution_count": null,
   "metadata": {
    "lines_to_next_cell": 2
   },
   "outputs": [],
   "source": [
    "\n",
    "\n",
    "# Create the problem control loop.\n",
    "problem.ControlLoopCreateStart()\n",
    "control_loop = iron.ControlLoop()\n",
    "problem.ControlLoopGet([iron.ControlLoopIdentifiers.NODE], control_loop)\n",
    "control_loop.MaximumIterationsSet(number_of_load_increments)\n",
    "problem.ControlLoopCreateFinish()"
   ]
  },
  {
   "cell_type": "code",
   "execution_count": null,
   "metadata": {
    "lines_to_next_cell": 2
   },
   "outputs": [],
   "source": [
    "\n",
    "\n",
    "nonlinear_solver = iron.Solver()\n",
    "linear_solver = iron.Solver()\n",
    "problem.SolversCreateStart()\n",
    "problem.SolverGet([iron.ControlLoopIdentifiers.NODE], 1, nonlinear_solver)\n",
    "nonlinear_solver.OutputTypeSet(iron.SolverOutputTypes.NONE)\n",
    "nonlinear_solver.NewtonJacobianCalculationTypeSet(\n",
    "  iron.JacobianCalculationTypes.EQUATIONS)\n",
    "nonlinear_solver.NewtonLinearSolverGet(linear_solver)\n",
    "linear_solver.LinearTypeSet(iron.LinearSolverTypes.DIRECT)\n",
    "problem.SolversCreateFinish()"
   ]
  },
  {
   "cell_type": "code",
   "execution_count": null,
   "metadata": {
    "lines_to_next_cell": 2
   },
   "outputs": [],
   "source": [
    "\n",
    "\n",
    "solver = iron.Solver()\n",
    "solver_equations = iron.SolverEquations()\n",
    "problem.SolverEquationsCreateStart()\n",
    "problem.SolverGet([iron.ControlLoopIdentifiers.NODE], 1, solver)\n",
    "solver.SolverEquationsGet(solver_equations)\n",
    "solver_equations.SparsityTypeSet(iron.SolverEquationsSparsityTypes.SPARSE)\n",
    "_ = solver_equations.EquationsSetAdd(equations_set)\n",
    "problem.SolverEquationsCreateFinish()"
   ]
  },
  {
   "cell_type": "code",
   "execution_count": null,
   "metadata": {
    "lines_to_next_cell": 2
   },
   "outputs": [],
   "source": [
    "\n",
    "\n",
    "# Prescribe boundary conditions (absolute nodal parameters).\n",
    "boundary_conditions = iron.BoundaryConditions()\n",
    "solver_equations.BoundaryConditionsCreateStart(boundary_conditions)\n",
    "if model == 1:\n",
    "    boundary_conditions.AddNode(dependent_field, iron.FieldVariableTypes.U,1,1,1,X,iron.BoundaryConditionsTypes.FIXED,0.0)\n",
    "    boundary_conditions.AddNode(dependent_field, iron.FieldVariableTypes.U,1,1,3,X,iron.BoundaryConditionsTypes.FIXED,0.0)\n",
    "    boundary_conditions.AddNode(dependent_field, iron.FieldVariableTypes.U,1,1,5,X,iron.BoundaryConditionsTypes.FIXED,0.0)\n",
    "    boundary_conditions.AddNode(dependent_field, iron.FieldVariableTypes.U,1,1,7,X,iron.BoundaryConditionsTypes.FIXED,0.0)\n",
    "    boundary_conditions.AddNode(dependent_field, iron.FieldVariableTypes.U,1,1,2,X,iron.BoundaryConditionsTypes.FIXED,0.5)\n",
    "    boundary_conditions.AddNode(dependent_field, iron.FieldVariableTypes.U,1,1,4,X,iron.BoundaryConditionsTypes.FIXED,0.5)\n",
    "    boundary_conditions.AddNode(dependent_field, iron.FieldVariableTypes.U,1,1,6,X,iron.BoundaryConditionsTypes.FIXED,0.5)\n",
    "    boundary_conditions.AddNode(dependent_field, iron.FieldVariableTypes.U,1,1,8,X,iron.BoundaryConditionsTypes.FIXED,0.5)\n",
    "\n",
    "    boundary_conditions.AddNode(dependent_field, iron.FieldVariableTypes.U,1,1,1,Y,iron.BoundaryConditionsTypes.FIXED,0.0)\n",
    "    boundary_conditions.AddNode(dependent_field, iron.FieldVariableTypes.U,1,1,2,Y,iron.BoundaryConditionsTypes.FIXED,0.0)\n",
    "    boundary_conditions.AddNode(dependent_field, iron.FieldVariableTypes.U,1,1,5,Y,iron.BoundaryConditionsTypes.FIXED,0.0)\n",
    "    boundary_conditions.AddNode(dependent_field, iron.FieldVariableTypes.U,1,1,6,Y,iron.BoundaryConditionsTypes.FIXED,0.0)\n",
    "\n",
    "    boundary_conditions.AddNode(dependent_field, iron.FieldVariableTypes.U,1,1,1,Z,iron.BoundaryConditionsTypes.FIXED,0.0)\n",
    "    boundary_conditions.AddNode(dependent_field, iron.FieldVariableTypes.U,1,1,2,Z,iron.BoundaryConditionsTypes.FIXED,0.0)\n",
    "    boundary_conditions.AddNode(dependent_field, iron.FieldVariableTypes.U,1,1,3,Z,iron.BoundaryConditionsTypes.FIXED,0.0)\n",
    "    boundary_conditions.AddNode(dependent_field, iron.FieldVariableTypes.U,1,1,4,Z,iron.BoundaryConditionsTypes.FIXED,0.0)\n",
    "\n",
    "elif model == 2:\n",
    "    boundary_conditions.AddNode(dependent_field,iron.FieldVariableTypes.U,1,1,1,X,iron.BoundaryConditionsTypes.FIXED,0.0)\n",
    "    boundary_conditions.AddNode(dependent_field,iron.FieldVariableTypes.U,1,1,3,X,iron.BoundaryConditionsTypes.FIXED,0.0)\n",
    "    boundary_conditions.AddNode(dependent_field,iron.FieldVariableTypes.U,1,1,5,X,iron.BoundaryConditionsTypes.FIXED,0.0)\n",
    "    boundary_conditions.AddNode(dependent_field,iron.FieldVariableTypes.U,1,1,7,X,iron.BoundaryConditionsTypes.FIXED,0.0)\n",
    "    boundary_conditions.AddNode(dependent_field,iron.FieldVariableTypes.U,1,1,2,X,iron.BoundaryConditionsTypes.FIXED,0.25)\n",
    "    boundary_conditions.AddNode(dependent_field,iron.FieldVariableTypes.U,1,1,4,X,iron.BoundaryConditionsTypes.FIXED,0.25)\n",
    "    boundary_conditions.AddNode(dependent_field,iron.FieldVariableTypes.U,1,1,6,X,iron.BoundaryConditionsTypes.FIXED,0.25)\n",
    "    boundary_conditions.AddNode(dependent_field,iron.FieldVariableTypes.U,1,1,8,X,iron.BoundaryConditionsTypes.FIXED,0.25)\n",
    "\n",
    "    boundary_conditions.AddNode(dependent_field,iron.FieldVariableTypes.U,1,1,1,Y,iron.BoundaryConditionsTypes.FIXED,0.0)\n",
    "    boundary_conditions.AddNode(dependent_field,iron.FieldVariableTypes.U,1,1,2,Y,iron.BoundaryConditionsTypes.FIXED,0.0)\n",
    "    boundary_conditions.AddNode(dependent_field,iron.FieldVariableTypes.U,1,1,5,Y,iron.BoundaryConditionsTypes.FIXED,0.0)\n",
    "    boundary_conditions.AddNode(dependent_field,iron.FieldVariableTypes.U,1,1,6,Y,iron.BoundaryConditionsTypes.FIXED,0.0)\n",
    "    boundary_conditions.AddNode(dependent_field,iron.FieldVariableTypes.U,1,1,3,Y,iron.BoundaryConditionsTypes.FIXED,0.25)\n",
    "    boundary_conditions.AddNode(dependent_field,iron.FieldVariableTypes.U,1,1,4,Y,iron.BoundaryConditionsTypes.FIXED,0.25)\n",
    "    boundary_conditions.AddNode(dependent_field,iron.FieldVariableTypes.U,1,1,7,Y,iron.BoundaryConditionsTypes.FIXED,0.25)\n",
    "    boundary_conditions.AddNode(dependent_field,iron.FieldVariableTypes.U,1,1,8,Y,iron.BoundaryConditionsTypes.FIXED,0.25)\n",
    "\n",
    "    boundary_conditions.AddNode(dependent_field,iron.FieldVariableTypes.U,1,1,1,Z,iron.BoundaryConditionsTypes.FIXED,0.0)\n",
    "    boundary_conditions.AddNode(dependent_field,iron.FieldVariableTypes.U,1,1,2,Z,iron.BoundaryConditionsTypes.FIXED,0.0)\n",
    "    boundary_conditions.AddNode(dependent_field,iron.FieldVariableTypes.U,1,1,3,Z,iron.BoundaryConditionsTypes.FIXED,0.0)\n",
    "    boundary_conditions.AddNode(dependent_field,iron.FieldVariableTypes.U,1,1,4,Z,iron.BoundaryConditionsTypes.FIXED,0.0)\n",
    "\n",
    "elif model == 3:\n",
    "    boundary_conditions.AddNode(dependent_field,iron.FieldVariableTypes.U,1,1,1,X,iron.BoundaryConditionsTypes.FIXED,0.0)\n",
    "    boundary_conditions.AddNode(dependent_field,iron.FieldVariableTypes.U,1,1,3,X,iron.BoundaryConditionsTypes.FIXED,0.0)\n",
    "    boundary_conditions.AddNode(dependent_field,iron.FieldVariableTypes.U,1,1,5,X,iron.BoundaryConditionsTypes.FIXED,0.5)\n",
    "    boundary_conditions.AddNode(dependent_field,iron.FieldVariableTypes.U,1,1,7,X,iron.BoundaryConditionsTypes.FIXED,0.5)\n",
    "    boundary_conditions.AddNode(dependent_field,iron.FieldVariableTypes.U,1,1,2,X,iron.BoundaryConditionsTypes.FIXED,0.0)\n",
    "    boundary_conditions.AddNode(dependent_field,iron.FieldVariableTypes.U,1,1,4,X,iron.BoundaryConditionsTypes.FIXED,0.0)\n",
    "    boundary_conditions.AddNode(dependent_field,iron.FieldVariableTypes.U,1,1,6,X,iron.BoundaryConditionsTypes.FIXED,0.5)\n",
    "    boundary_conditions.AddNode(dependent_field,iron.FieldVariableTypes.U,1,1,8,X,iron.BoundaryConditionsTypes.FIXED,0.5)\n",
    "\n",
    "    boundary_conditions.AddNode(dependent_field,iron.FieldVariableTypes.U,1,1,1,Y,iron.BoundaryConditionsTypes.FIXED,0.0)\n",
    "    boundary_conditions.AddNode(dependent_field,iron.FieldVariableTypes.U,1,1,2,Y,iron.BoundaryConditionsTypes.FIXED,0.0)\n",
    "    boundary_conditions.AddNode(dependent_field,iron.FieldVariableTypes.U,1,1,5,Y,iron.BoundaryConditionsTypes.FIXED,0.0)\n",
    "    boundary_conditions.AddNode(dependent_field,iron.FieldVariableTypes.U,1,1,6,Y,iron.BoundaryConditionsTypes.FIXED,0.0)\n",
    "\n",
    "    boundary_conditions.AddNode(dependent_field,iron.FieldVariableTypes.U,1,1,1,Z,iron.BoundaryConditionsTypes.FIXED,0.0)\n",
    "    boundary_conditions.AddNode(dependent_field,iron.FieldVariableTypes.U,1,1,2,Z,iron.BoundaryConditionsTypes.FIXED,0.0)\n",
    "    boundary_conditions.AddNode(dependent_field,iron.FieldVariableTypes.U,1,1,3,Z,iron.BoundaryConditionsTypes.FIXED,0.0)\n",
    "    boundary_conditions.AddNode(dependent_field,iron.FieldVariableTypes.U,1,1,4,Z,iron.BoundaryConditionsTypes.FIXED,0.0)\n",
    "    boundary_conditions.AddNode(dependent_field,iron.FieldVariableTypes.U,1,1,5,Z,iron.BoundaryConditionsTypes.FIXED,0.0)\n",
    "    boundary_conditions.AddNode(dependent_field,iron.FieldVariableTypes.U,1,1,6,Z,iron.BoundaryConditionsTypes.FIXED,0.0)\n",
    "    boundary_conditions.AddNode(dependent_field,iron.FieldVariableTypes.U,1,1,7,Z,iron.BoundaryConditionsTypes.FIXED,0.0)\n",
    "    boundary_conditions.AddNode(dependent_field,iron.FieldVariableTypes.U,1,1,8,Z,iron.BoundaryConditionsTypes.FIXED,0.0)\n",
    "\n",
    "elif model == 4:\n",
    "    boundary_conditions.AddNode(dependent_field,iron.FieldVariableTypes.U,1,1,1,X,iron.BoundaryConditionsTypes.FIXED,0.0)\n",
    "    boundary_conditions.AddNode(dependent_field,iron.FieldVariableTypes.U,1,1,3,X,iron.BoundaryConditionsTypes.FIXED,0.0)\n",
    "    boundary_conditions.AddNode(dependent_field,iron.FieldVariableTypes.U,1,1,6,X,iron.BoundaryConditionsTypes.FIXED,0.5)\n",
    "    boundary_conditions.AddNode(dependent_field,iron.FieldVariableTypes.U,1,1,8,X,iron.BoundaryConditionsTypes.FIXED,0.5)\n",
    "\n",
    "    boundary_conditions.AddNode(dependent_field,iron.FieldVariableTypes.U,1,1,1,Y,iron.BoundaryConditionsTypes.FIXED,0.0)\n",
    "    boundary_conditions.AddNode(dependent_field,iron.FieldVariableTypes.U,1,1,2,Y,iron.BoundaryConditionsTypes.FIXED,0.0)\n",
    "    boundary_conditions.AddNode(dependent_field,iron.FieldVariableTypes.U,1,1,5,Y,iron.BoundaryConditionsTypes.FIXED,0.0)\n",
    "    boundary_conditions.AddNode(dependent_field,iron.FieldVariableTypes.U,1,1,6,Y,iron.BoundaryConditionsTypes.FIXED,0.0)\n",
    "\n",
    "    boundary_conditions.AddNode(dependent_field,iron.FieldVariableTypes.U,1,1,1,Z,iron.BoundaryConditionsTypes.FIXED,0.0)\n",
    "    boundary_conditions.AddNode(dependent_field,iron.FieldVariableTypes.U,1,1,3,Z,iron.BoundaryConditionsTypes.FIXED,0.0)\n",
    "    boundary_conditions.AddNode(dependent_field,iron.FieldVariableTypes.U,1,1,6,Z,iron.BoundaryConditionsTypes.FIXED,0.5)\n",
    "    boundary_conditions.AddNode(dependent_field,iron.FieldVariableTypes.U,1,1,8,Z,iron.BoundaryConditionsTypes.FIXED,0.5)\n",
    "\n",
    "elif model == 5:\n",
    "    boundary_conditions.AddNode(dependent_field,iron.FieldVariableTypes.U,1,1,1,X,iron.BoundaryConditionsTypes.FIXED,0.0)\n",
    "    boundary_conditions.AddNode(dependent_field,iron.FieldVariableTypes.U,1,1,3,X,iron.BoundaryConditionsTypes.FIXED,0.0)\n",
    "    boundary_conditions.AddNode(dependent_field,iron.FieldVariableTypes.U,1,1,5,X,iron.BoundaryConditionsTypes.FIXED,0.5)\n",
    "    boundary_conditions.AddNode(dependent_field,iron.FieldVariableTypes.U,1,1,7,X,iron.BoundaryConditionsTypes.FIXED,0.5)\n",
    "    boundary_conditions.AddNode(dependent_field,iron.FieldVariableTypes.U,1,1,2,X,iron.BoundaryConditionsTypes.FIXED,0.25)\n",
    "    boundary_conditions.AddNode(dependent_field,iron.FieldVariableTypes.U,1,1,4,X,iron.BoundaryConditionsTypes.FIXED,0.25)\n",
    "    boundary_conditions.AddNode(dependent_field,iron.FieldVariableTypes.U,1,1,6,X,iron.BoundaryConditionsTypes.FIXED,0.75)\n",
    "    boundary_conditions.AddNode(dependent_field,iron.FieldVariableTypes.U,1,1,8,X,iron.BoundaryConditionsTypes.FIXED,0.75)\n",
    "\n",
    "    boundary_conditions.AddNode(dependent_field,iron.FieldVariableTypes.U,1,1,1,Y,iron.BoundaryConditionsTypes.FIXED,0.0)\n",
    "    boundary_conditions.AddNode(dependent_field,iron.FieldVariableTypes.U,1,1,2,Y,iron.BoundaryConditionsTypes.FIXED,0.0)\n",
    "    boundary_conditions.AddNode(dependent_field,iron.FieldVariableTypes.U,1,1,5,Y,iron.BoundaryConditionsTypes.FIXED,0.0)\n",
    "    boundary_conditions.AddNode(dependent_field,iron.FieldVariableTypes.U,1,1,6,Y,iron.BoundaryConditionsTypes.FIXED,0.0)\n",
    "\n",
    "    boundary_conditions.AddNode(dependent_field,iron.FieldVariableTypes.U,1,1,1,Z,iron.BoundaryConditionsTypes.FIXED,0.0)\n",
    "    boundary_conditions.AddNode(dependent_field,iron.FieldVariableTypes.U,1,1,2,Z,iron.BoundaryConditionsTypes.FIXED,0.0)\n",
    "    boundary_conditions.AddNode(dependent_field,iron.FieldVariableTypes.U,1,1,3,Z,iron.BoundaryConditionsTypes.FIXED,0.0)\n",
    "    boundary_conditions.AddNode(dependent_field,iron.FieldVariableTypes.U,1,1,4,Z,iron.BoundaryConditionsTypes.FIXED,0.0)\n",
    "    boundary_conditions.AddNode(dependent_field,iron.FieldVariableTypes.U,1,1,5,Z,iron.BoundaryConditionsTypes.FIXED,0.0)\n",
    "    boundary_conditions.AddNode(dependent_field,iron.FieldVariableTypes.U,1,1,6,Z,iron.BoundaryConditionsTypes.FIXED,0.0)\n",
    "    boundary_conditions.AddNode(dependent_field,iron.FieldVariableTypes.U,1,1,7,Z,iron.BoundaryConditionsTypes.FIXED,0.0)\n",
    "    boundary_conditions.AddNode(dependent_field,iron.FieldVariableTypes.U,1,1,8,Z,iron.BoundaryConditionsTypes.FIXED,0.0)"
   ]
  },
  {
   "cell_type": "code",
   "execution_count": null,
   "metadata": {
    "lines_to_next_cell": 2
   },
   "outputs": [],
   "source": [
    "\n",
    "\n",
    "solver_equations.BoundaryConditionsCreateFinish()"
   ]
  },
  {
   "cell_type": "code",
   "execution_count": null,
   "metadata": {
    "lines_to_next_cell": 2
   },
   "outputs": [],
   "source": [
    "\n",
    "\n",
    "# Solve the problem.\n",
    "problem.Solve()"
   ]
  },
  {
   "cell_type": "code",
   "execution_count": null,
   "metadata": {
    "lines_to_next_cell": 2
   },
   "outputs": [],
   "source": [
    "\n",
    "\n",
    "problem.Destroy()\n",
    "coordinate_system.Destroy()\n",
    "region.Destroy()\n",
    "basis.Destroy()\n",
    "iron.Finalise()"
   ]
  },
  {
   "cell_type": "code",
   "execution_count": null,
   "metadata": {
    "lines_to_next_cell": 2
   },
   "outputs": [],
   "source": [
    "\n",
    "\n"
   ]
  }
 ],
 "metadata": {
  "jupytext": {
   "cell_metadata_filter": "-all",
   "encoding": "# coding: utf-8",
   "executable": "/usr/bin/env python",
   "main_language": "python",
   "notebook_metadata_filter": "-all"
  },
  "kernelspec": {
   "display_name": "Python 3",
   "language": "python",
   "name": "python3"
  },
  "language_info": {
   "codemirror_mode": {
    "name": "ipython",
    "version": 3
   },
   "file_extension": ".py",
   "mimetype": "text/x-python",
   "name": "python",
   "nbconvert_exporter": "python",
   "pygments_lexer": "ipython3",
   "version": "3.8.6"
  }
 },
 "nbformat": 4,
 "nbformat_minor": 4
}
