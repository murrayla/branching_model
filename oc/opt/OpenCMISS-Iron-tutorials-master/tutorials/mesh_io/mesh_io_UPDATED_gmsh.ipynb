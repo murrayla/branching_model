{
 "cells": [
  {
   "cell_type": "markdown",
   "metadata": {},
   "source": [
    "# Mesh input/output\n",
    "\n",
    "## Introduction\n",
    "\n",
    "This tutorial will demonstrate how you can import geometric computational meshes to use for your finite element simulations. For this demonstration we will be loading in a 3D simplex tetrahedral mesh of a section of a cardiomyocyte geometry.\n",
    "\n",
    "## Learning objectives\n",
    "* Learn how to read in mesh files and use them to define the OpenCMISS-Iron objects that are related to mesh nodes and elements for a finite element problem.\n",
    "* Know how meshes can be output into different formats.\n",
    "\n",
    "\n",
    "## Running this tutorial\n",
    "Provided that you have already installed the OpenCMISS library, the code excerpts in this section can be run interactively by entering it directly into the Python interpreter, which can be started by running python or ipython in a terminal. The code shown here can also be downloaded as a jupyter notebook in the following [link](https://github.com/OpenCMISS-Examples/basics_tutorial/blob/master/src/python/mesh_io.ipynb).\n",
    "\n",
    "### Dependencies\n",
    "The [meshio](https://github.com/nschloe/meshio) python module is required for running this tutorial. If you are running this tutorial from an OpenCMISS-Iron docker container, then this module is already installed.\n",
    "\n",
    "## Loading in a 3D tetrahedral mesh\n",
    "\n",
    "In this tutorial we will walk through the steps to load in a 3D finite element linear simplex mesh of a section of a cardiomyocyte. The filenames are `input_mesh.node` and `input_mesh.ele`. The file extensions indicate that the .node file contains nodal information and the .ele file contains element information. The mesh files contain header information in the first line and then list the mesh node and element properties, respectively .The mesh we are using in this tutorial was originally generated using a software package for creating tetrahedral meshes, called tetgen but we have stripped away some of the details to maintain the focus of this tutorial on using the OpenCMISS-Iron libraries.\n",
    "## Key concepts when loading in a mesh geometry\n",
    "\n",
    "When you start considering importing meshes into an OpenCMISS-Iron finite element simulation keep the following points in mind:\n",
    "\n",
    "1. Remember that OpenCMISS-Iron is just a library of functions to perform finite element simulations. Open-CMISS Iron does not have a pre-defined file format that it recognises. OpenCMISS-Iron is therefore mesh-file-format-agnostic. This is to say that you can import any type of file you have into the python program for your finite element simulation.\n",
    "\n",
    "2. The key step to importing meshes into your program is to write some code that enables you to import the mesh nodes and elements into aarray. This array is then used to define the Nodes and Mesh Elements objects that define a finite element mesh. The mesh format inputted is not important so long as you can use python to read that file and convert the data to a numpy array of element matrix (connectivity matrix i.e. elements and their associated nodes) and a nodal matrix (nodes and their associated x-y coordinates)\n",
    "\n",
    "3. When importing meshes you need to know what type of interpolation scheme is used and then define the corresponding basis functions within the finite element program that you are using for the finite element simulation. \n",
    "\n",
    "4. Be very careful and aware of the node numbering sequence that you use to define each finite element. OpenCMISS-Iron uses the Zienkiewicz node numbering system for each element: \n",
    "\n",
    "\n",
    "![Linear Simplex Triangle](https://raw.githubusercontent.com/OpenCMISS/documentation/develop/notes/OpenCMISSNotes/svgs/BasisFunctions/lineartriangle.svg)\n",
    "\n",
    "![Quadratic Simplex Triangle](https://raw.githubusercontent.com/OpenCMISS/documentation/develop/notes/OpenCMISSNotes/svgs/BasisFunctions/quadratictriangle.svg)\n",
    "\n",
    "![Linear Simplex Tetrahedron](https://raw.githubusercontent.com/OpenCMISS/documentation/develop/notes/OpenCMISSNotes/svgs/BasisFunctions/lineartetrahedron.svg)\n",
    "\n",
    "![Quadratic Simplex Tetrahedron](https://raw.githubusercontent.com/OpenCMISS/documentation/develop/notes/OpenCMISSNotes/svgs/BasisFunctions/quadratictetrahedron.svg)\n",
    "\n",
    "\n",
    "5. Output of meshes is the same as input - you just need to extract the node and element variables from the OpenCMISS-Iron objects and write them out in the format of your choice.\n",
    "\n",
    "6. At the end of this tutorial we provide links to a mesh import and export functions that we have written previously, which you are welcome to use and customise for your own purposes. \n",
    "\n"
   ]
  },
  {
   "cell_type": "markdown",
   "metadata": {},
   "source": [
    "### Types of Basis Functions Compatible with OpenCMISS-Iron\n",
    "Currently, the types of basis functions that have been defined in OpenCMISS-Iron include:\n",
    "\n",
    "Linear Lagrange\n",
    "\n",
    "Quadratic Lagrange\n",
    "\n",
    "Cubic-Hermite \n",
    "\n",
    "Linear Simplex\n",
    "\n",
    "Quadratic Simplex"
   ]
  },
  {
   "cell_type": "markdown",
   "metadata": {},
   "source": [
    "## Loading the OpenCMISS-Iron library\n",
    "In order to use OpenCMISS we have to first import the opencmiss.iron module from the opencmiss package."
   ]
  },
  {
   "cell_type": "code",
   "execution_count": 1,
   "metadata": {
    "pycharm": {
     "is_executing": true
    }
   },
   "outputs": [],
   "source": [
    "# Intialise OpenCMISS-Iron.\n",
    "from opencmiss.iron import iron\n",
    "# from itertools import chain"
   ]
  },
  {
   "cell_type": "markdown",
   "metadata": {
    "pycharm": {
     "name": "#%% md\n"
    }
   },
   "source": [
    "Assuming OpenCMISS has been correctly built with the Python bindings by\n",
    "following the instructions in the programmer documentation, we can now access\n",
    "all the OpenCMISS functions, classes and constants under the iron namespace.\n",
    "\n",
    "The next section describes how we can interact with the OpenCMISS-Iron library\n",
    "through an object-oriented API.\n",
    "\n",
    "## Step by step guide\n",
    "\n",
    "### 1. Creating a coordinate system\n",
    "\n",
    "First we construct a coordinate system that will be used to describe the geometry in our problem. The 3D geometry will exist in a 3D space, so we need a 3D coordinate system."
   ]
  },
  {
   "cell_type": "code",
   "execution_count": 2,
   "metadata": {
    "pycharm": {
     "is_executing": true
    }
   },
   "outputs": [],
   "source": [
    "# Create coordinate system.\n",
    "coordinate_system_user_number = 1\n",
    "coordinate_system = iron.CoordinateSystem()\n",
    "coordinate_system.CreateStart(coordinate_system_user_number)\n",
    "coordinate_system.DimensionSet(3)\n",
    "coordinate_system.CreateFinish()"
   ]
  },
  {
   "cell_type": "markdown",
   "metadata": {},
   "source": [
    "### 2. Read in the node file\n",
    "OpenCMISS-Iron can handle any user-generated meshes provided the files are processed and entered into OpenCMISS-Iron objects related to the mesh. This process requires that the user provide files detailing the nodes and elements. We will start by reading the details of the nodes into our OpenCMISS-Iron based python program."
   ]
  },
  {
   "cell_type": "code",
   "execution_count": 3,
   "metadata": {},
   "outputs": [],
   "source": [
    "# File name\n",
    "file_name = 'gmsh2iron'\n",
    "\n",
    "#Inputing element file\n",
    "elem_file = open(file_name + '.ele', 'r')\n",
    "\n",
    "ele_file_list = list()\n",
    "element_nodes = list()\n",
    "for i, line in enumerate(elem_file):\n",
    "    ele_file_list.append(line)\n",
    "    if ele_file_list[i].split()[0] == \"tetrahedron\":\n",
    "        element_nodes.append(ele_file_list[i].split()[3])\n",
    "        element_nodes.append(ele_file_list[i].split()[4])\n",
    "        element_nodes.append(ele_file_list[i].split()[5])\n",
    "        element_nodes.append(ele_file_list[i].split()[6])\n",
    "    else:\n",
    "        continue\n",
    "        \n",
    "elem_nodes_used = set(element_nodes)\n",
    "\n",
    "# Reading node file\n",
    "node_file = open(file_name + '.node', 'r')\n",
    "\n",
    "node_file_list = list()\n",
    "for i, line in enumerate(node_file):\n",
    "    node_file_list.append(line)\n",
    "    if (node_file_list[-1][:].split()[0] in elem_nodes_used) or (i == 0):\n",
    "        continue\n",
    "    else: \n",
    "        node_file_list.pop()"
   ]
  },
  {
   "cell_type": "code",
   "execution_count": 4,
   "metadata": {},
   "outputs": [],
   "source": [
    "# As formatted to gmsh documentation\n",
    "# numEntityBlocks(size_t) numNodes(size_t) minNodeTag(size_t) maxNodeTag(size_t)\n",
    "\n",
    "# Reading the mesh details from the first line of the node file\n",
    "numEntityBlocks, numNodes, minNodeTag, maxNodeTag = node_file_list[0].split()\n",
    "num_nodes = len(elem_nodes_used)\n",
    "num_coords= 3\n",
    "num_attributes=0\n",
    "boundary_markers=0\n",
    "# Creating variables to store node number & boundary marker\n",
    "NodeNums = [[0 for m in range(2)] for n in range(num_nodes)]\n",
    "# Creating array to store x and y coordinates\n",
    "NodeCoords = [[0 for m in range(num_coords)] for n in range(num_nodes)]\n",
    "\n",
    "nodeIDs = list()\n",
    "# Reading details from node fileb\n",
    "for i in range(num_nodes):\n",
    "    NodeNums[i][0], NodeCoords[i][0], NodeCoords[i][1], NodeCoords[i][2] = node_file_list[i+1].split()  #node number, x, y, z, boundary marker\n",
    "    # Converting from string to appropriate type\n",
    "    NodeNums[i][0] = int(NodeNums[i][0])\n",
    "    NodeCoords[i][0] = float(NodeCoords[i][0])\n",
    "    NodeCoords[i][1] = float(NodeCoords[i][1])\n",
    "    NodeCoords[i][2] = float(NodeCoords[i][2])\n",
    "    nodeIDs.append(NodeNums[i][0])\n",
    "\n",
    "# Closing the file\n",
    "node_file.close()"
   ]
  },
  {
   "cell_type": "markdown",
   "metadata": {},
   "source": [
    "### 3. Read in the elements\n",
    "OpenCMISS-Iron uses Zeinkiewicz winding to map out the nodes of each element. This means that we need to manually map each element's nodes from the order in which they appear in the file to that required by Iron. In this example the order of the nodes in the file matches the OpenCMISS-Iron winding."
   ]
  },
  {
   "cell_type": "code",
   "execution_count": 5,
   "metadata": {},
   "outputs": [
    {
     "name": "stdout",
     "output_type": "stream",
     "text": [
      "{'tetrahedron': 24}\n"
     ]
    }
   ],
   "source": [
    "# gmsh .msh file format:\n",
    "# numEntityBlocks(size_t) numElements(size_t) minElementTag(size_t) maxElementTag(size_t)\n",
    "\n",
    "#Reading the values of the first line\n",
    "numEntityBlocks, numElements, minElementTag, maxElementTag = ele_file_list[0].split()\n",
    "\n",
    "# {1: \"line\", 2: \"triangle\", 3: \"quadrangle\", 4: \"tetrahedron\", 5: \"hexahedron\", 6: \"prism\", 7: \"pyramid\", 15: \"point\"}\n",
    "types = {4: \"tetrahedron\", 5: \"hexahedron\", 6: \"prism\", 7: \"pyramid\"}\n",
    "\n",
    "element_type = list()\n",
    "count = 0\n",
    "for i, line in enumerate(ele_file_list):\n",
    "    if line.split()[0] in types.values():\n",
    "        element_type.append(line.split()[0])\n",
    "\n",
    "# element_count.append(count)\n",
    "element_type_count = list()\n",
    "element_type_set = set(element_type)\n",
    "\n",
    "element_type_count = map(lambda x: element_type.count(x), element_type_set)\n",
    "\n",
    "elements_breakdown = dict(zip(element_type_set, list(element_type_count)))\n",
    "print(elements_breakdown)\n",
    "\n",
    "ele_attributes = 0\n",
    "\n",
    "# Condition on the different amount of mesh elements (3 dimensional)\n",
    "if len(elements_breakdown.values()) >= 3:\n",
    "    # element counts\n",
    "    num_ele_tetra = elements_breakdown[\"tetrahedron\"]\n",
    "    num_ele_quadr = elements_breakdown[\"quadrangle\"]\n",
    "    num_ele_pyram = elements_breakdown[\"pyramid\"]\n",
    "    # node counts\n",
    "    num_nodes_tetra = 4\n",
    "    num_nodes_quadr = 4\n",
    "    num_nodes_pyram = 5\n",
    "    # Creating variable to store the element map\n",
    "    ele_map_tetra = [[0 for x in range(num_nodes_tetra + ele_attributes)] for y in range(num_ele_tetra)]\n",
    "    ele_map_quadr = [[0 for x in range(num_nodes_quadr + ele_attributes)] for y in range(num_ele_quadr)]\n",
    "    ele_map_pyram = [[0 for x in range(num_nodes_pyram + ele_attributes)] for y in range(num_ele_pyram)]\n",
    "    # Element indexes\n",
    "    ele_idx_tetra = [[0 for m in range(1)] for n in range(num_ele_tetra)]\n",
    "    ele_idx_quadr = [[0 for m in range(1)] for n in range(num_ele_quadr)]\n",
    "    ele_idx_pyram = [[0 for m in range(1)] for n in range(num_ele_pyram)]\n",
    "    # Reading element data from elemfile\n",
    "    ele_idx_count_tetra = 0\n",
    "    ele_idx_count_quadr = 0\n",
    "    ele_idx_count_pyram = 0\n",
    "    check = 0\n",
    "    for line in ele_file_list:\n",
    "        if line.split()[0] == \"tetrahedron\":\n",
    "            _, _, _, ele_map_tetra[ele_idx_count_tetra][0], ele_map_tetra[ele_idx_count_tetra][1], ele_map_tetra[ele_idx_count_tetra][2], ele_map_tetra[ele_idx_count_tetra][3] = line.split()\n",
    "            ele_idx_count_tetra += 1\n",
    "            ele_idx_tetra[ele_idx_count_tetra-1][0] = ele_idx_count_tetra\n",
    "        elif line.split()[0] == \"quadrangle\":\n",
    "            _, _, _, ele_map_quadr[ele_idx_count_quadr][0], ele_map_quadr[ele_idx_count_quadr][1], ele_map_quadr[ele_idx_count_quadr][2], ele_map_quadr[ele_idx_count_quadr][3] = line.split()\n",
    "            ele_idx_count_quadr += 1\n",
    "            ele_idx_quadr[ele_idx_count_quadr-1][0] = ele_idx_count_quadr\n",
    "        elif line.split()[0] == \"pyramid\":\n",
    "            _, _, _, ele_map_pyram[ele_idx_count_pyram][0], ele_map_pyram[ele_idx_count_pyram][1], ele_map_pyram[ele_idx_count_pyram][2], ele_map_pyram[ele_idx_count_pyram][3], ele_map_pyram[ele_idx_count_pyram][4] = line.split()\n",
    "            ele_idx_count_pyram += 1\n",
    "            ele_idx_pyram[ele_idx_count_pyram-1][0] = ele_idx_count_pyram\n",
    "    \n",
    "elif len(elements_breakdown.values()) == 2:\n",
    "    # element counts\n",
    "    num_ele_tetra = elements_breakdown[\"tetrahedron\"]\n",
    "    num_ele_quadr = elements_breakdown[\"pyramid\"]\n",
    "    # node counts\n",
    "    num_nodes_tetra = 4\n",
    "    num_nodes_quadr = 4\n",
    "    # Creating variable to store the element map\n",
    "    ele_map_tetra = [[0 for x in range(num_nodes_tetra + ele_attributes)] for y in range(num_ele_tetra)]\n",
    "    ele_map_quadr = [[0 for x in range(num_nodes_quadr + ele_attributes)] for y in range(num_ele_quadr)]\n",
    "    # Element indexes\n",
    "    ele_idx_tetra = [[0 for m in range(1)] for n in range(num_ele_tetra)]\n",
    "    ele_idx_quadr = [[0 for m in range(1)] for n in range(num_ele_quadr)]\n",
    "    # Reading element data from elemfile\n",
    "    ele_idx_count_tetra = 0\n",
    "    ele_idx_count_quadr = 0\n",
    "    check = 0\n",
    "    for line in ele_file_list:\n",
    "        if line.split()[0] == \"tetrahedron\":\n",
    "            _, _, _, ele_map_tetra[ele_idx_count_tetra][0], ele_map_tetra[ele_idx_count_tetra][1], ele_map_tetra[ele_idx_count_tetra][2], ele_map_tetra[ele_idx_count_tetra][3] = line.split()\n",
    "            ele_idx_count_tetra += 1\n",
    "            ele_idx_tetra[ele_idx_count_tetra-1][0] = ele_idx_count_tetra\n",
    "        elif line.split()[0] == \"quadrangle\":\n",
    "            _, _, _, ele_map_quadr[ele_idx_count_quadr][0], ele_map_quadr[ele_idx_count_quadr][1], ele_map_quadr[ele_idx_count_quadr][2], ele_map_quadr[ele_idx_count_quadr][3] = line.split()\n",
    "            ele_idx_count_quadr += 1\n",
    "            ele_idx_quadr[ele_idx_count_quadr-1][0] = ele_idx_count_quadr\n",
    "            \n",
    "elif len(elements_breakdown.values()) == 1:\n",
    "    # element counts\n",
    "    num_ele_tetra = elements_breakdown[\"tetrahedron\"]\n",
    "    # node counts\n",
    "    num_nodes_tetra = 4\n",
    "    # Creating variable to store the element map\n",
    "    ele_map_tetra = [[0 for x in range(num_nodes_tetra + ele_attributes)] for y in range(num_ele_tetra)]\n",
    "    # Element indexes\n",
    "    ele_idx_tetra = [[0 for m in range(1)] for n in range(num_ele_tetra)]\n",
    "    # Reading element data from elemfile\n",
    "    ele_idx_count = 0\n",
    "    check = 0\n",
    "    for line in ele_file_list:\n",
    "        if line.split()[0] == \"tetrahedron\":\n",
    "            _, _, _, ele_map_tetra[ele_idx_count][0], ele_map_tetra[ele_idx_count][1], ele_map_tetra[ele_idx_count][2], ele_map_tetra[ele_idx_count][3] = line.split()\n",
    "            ele_idx_count += 1\n",
    "            ele_idx_tetra[ele_idx_count-1][0] = ele_idx_count\n",
    "\n",
    "# # converting 2d list into 1d\n",
    "# num_tetra_nodes = len(set(chain.from_iterable(ele_map_tetra)))\n",
    "\n",
    "# Closing the file\n",
    "elem_file.close()"
   ]
  },
  {
   "cell_type": "markdown",
   "metadata": {
    "pycharm": {
     "name": "#%% md\n"
    }
   },
   "source": [
    "### 4. Creating basis functions\n",
    "The finite element description of our fields requires a basis function to interpolate field values over elements, so we create a 3D basis with simplex interpolation in all $\\xi$ directions. "
   ]
  },
  {
   "cell_type": "code",
   "execution_count": 6,
   "metadata": {
    "pycharm": {
     "is_executing": true,
     "name": "#%%\n"
    }
   },
   "outputs": [],
   "source": [
    "numberOfXi = 3\n",
    "basis_user_number = 1\n",
    "basis = iron.Basis()\n",
    "basis.CreateStart(basis_user_number)\n",
    "basis.type = iron.BasisTypes.SIMPLEX\n",
    "basis.numberOfXi = numberOfXi\n",
    "basis.interpolationXi = [iron.BasisInterpolationSpecifications.LINEAR_SIMPLEX] * numberOfXi\n",
    "basis.quadratureOrder = 2\n",
    "basis.CreateFinish()"
   ]
  },
  {
   "cell_type": "markdown",
   "metadata": {},
   "source": [
    "### 5. Creating a region\n",
    "\n",
    "Next we create a region that our fields will be defined on and tell it to use the 3D coordinate system we created previously. The CreateStart method for a region requires another region as a parameter. We use the world region that is created by default so that our region is a subregion of the world region."
   ]
  },
  {
   "cell_type": "code",
   "execution_count": 7,
   "metadata": {
    "pycharm": {
     "is_executing": true,
     "name": "#%%\n"
    }
   },
   "outputs": [],
   "source": [
    "# Create region\n",
    "region_user_number = 1\n",
    "region = iron.Region()\n",
    "region.CreateStart(region_user_number, iron.WorldRegion)\n",
    "region.CoordinateSystemSet(coordinate_system)\n",
    "region.LabelSet(\"Region\")\n",
    "region.CreateFinish()"
   ]
  },
  {
   "cell_type": "markdown",
   "metadata": {},
   "source": [
    "### 6. Define mesh objects\n",
    "Finally, we need to intialise the nodes, the elements and the mesh with the mesh parameters that we have imported into the python program. "
   ]
  },
  {
   "cell_type": "markdown",
   "metadata": {},
   "source": [
    "First, lets initialise an iron.Nodes() object which will store the details of the nodes of the mesh."
   ]
  },
  {
   "cell_type": "code",
   "execution_count": 8,
   "metadata": {},
   "outputs": [],
   "source": [
    "# Initialise Nodes\n",
    "nodes = iron.Nodes()\n",
    "nodes.CreateStart(region, num_nodes)\n",
    "nodes.CreateFinish()"
   ]
  },
  {
   "cell_type": "markdown",
   "metadata": {},
   "source": [
    "Then, initialise an iron.Mesh() object to store the details of the mesh itself."
   ]
  },
  {
   "cell_type": "code",
   "execution_count": 9,
   "metadata": {},
   "outputs": [],
   "source": [
    "# Initialise Mesh\n",
    "mesh = iron.Mesh()\n",
    "mesh_user_number=1\n",
    "mesh.CreateStart(mesh_user_number, region, num_coords)\n",
    "mesh.NumberOfElementsSet(num_ele_tetra)\n",
    "mesh.NumberOfComponentsSet(1)"
   ]
  },
  {
   "cell_type": "markdown",
   "metadata": {},
   "source": [
    "We now create a `meshelements` object which will define the node numbering for each element. Tetgen generates a .ele file that contains a sequence of nodes to define each element. As mentioned at the start of this tutorial OpenCMISS-Iron uses the Zienkiewicz winding but tetgen uses a different winding scheme for the node numbering. Therefore we have to ensure that we alter the node numbering when defining the mesh elements below to reflect the OpenCMISS-Iron winding."
   ]
  },
  {
   "cell_type": "code",
   "execution_count": 10,
   "metadata": {},
   "outputs": [],
   "source": [
    "# Initialise Elements\n",
    "meshElements = iron.MeshElements()\n",
    "meshElements.CreateStart(mesh, 1, basis)\n",
    "\n"
   ]
  },
  {
   "cell_type": "code",
   "execution_count": 11,
   "metadata": {},
   "outputs": [],
   "source": [
    "for i in range(num_ele_tetra):\n",
    "    element = ele_idx_tetra[i][0]\n",
    "    \n",
    "    try: \n",
    "        nodesList = list(\n",
    "          map(int,[ele_map_tetra[i][0], ele_map_tetra[i][1], ele_map_tetra[i][2], ele_map_tetra[i][3]]))\n",
    "        meshElements.NodesSet(int(element), nodesList)   \n",
    "    except:\n",
    "        print(\"error at {}\".format(i+638))\n",
    "        print(\"with nodesList {}\".format(nodesList))\n",
    "        print((nodesList[0] in nodeIDs), (nodesList[1] in nodeIDs),(nodesList[2] in nodeIDs),(nodesList[3] in nodeIDs),)\n",
    "    \n",
    "        \n",
    "meshElements.CreateFinish()"
   ]
  },
  {
   "cell_type": "markdown",
   "metadata": {},
   "source": [
    "We conclude this step by finalizing the mesh object:"
   ]
  },
  {
   "cell_type": "code",
   "execution_count": 12,
   "metadata": {},
   "outputs": [],
   "source": [
    "# Finalise Mesh\n",
    "mesh.CreateFinish()"
   ]
  },
  {
   "cell_type": "markdown",
   "metadata": {
    "pycharm": {
     "name": "#%% md\n"
    }
   },
   "source": [
    "### 7. Decomposing the mesh\n",
    "Once the mesh has been created we can decompose it into a number of domains in order to allow for parallelism. We choose the options to let OpenCMISS calculate the best way to break up the mesh. We also set the number of domains to be equal to the number of computational nodes this example is running on. Note that if MPI infrastructure is not used, only single domain will be created. Look for our parallelisation example for an illustration of how to execute simulations using parallel processing techniques. "
   ]
  },
  {
   "cell_type": "code",
   "execution_count": 13,
   "metadata": {
    "pycharm": {
     "is_executing": true,
     "name": "#%%\n"
    }
   },
   "outputs": [],
   "source": [
    "# Perform mesh decomposition.\n",
    "decomposition_user_number = 1\n",
    "decomposition = iron.Decomposition()\n",
    "decomposition.CreateStart(decomposition_user_number, mesh)\n",
    "decomposition.CreateFinish()"
   ]
  },
  {
   "cell_type": "markdown",
   "metadata": {
    "pycharm": {
     "name": "#%% md\n"
    }
   },
   "source": [
    "### 8. Creating a geometric field\n",
    "Now that the mesh has been decomposed we are in a position to create fields. The first field we need to create is the geometric field. Here we create a field and partition the field to different computational nodes using the mesh decomposition that we have just created. Once we have finished creating the field we can change the field DOFs to define the geometry using the nodal coordinates we have imported."
   ]
  },
  {
   "cell_type": "code",
   "execution_count": 14,
   "metadata": {
    "pycharm": {
     "is_executing": true,
     "name": "#%%\n"
    }
   },
   "outputs": [],
   "source": [
    "# Create a field for the geometry.\n",
    "geometric_field_user_number = 1\n",
    "geometric_field = iron.Field()\n",
    "geometric_field.CreateStart(geometric_field_user_number, region) #notice that the geometric field is associated with region in this function call.\n",
    "geometric_field.LabelSet('Geometry')\n",
    "geometric_field.MeshDecompositionSet(decomposition)\n",
    "geometric_field.CreateFinish()"
   ]
  },
  {
   "cell_type": "markdown",
   "metadata": {},
   "source": [
    "We have created a geometric field but all the field component values are currently set to zero by default. We can define the geometry for the custom mesh as follows. The key step is the call to the geometric field function ParameterSetUpdateNodeDP. You can find details about this method within the OpenCMISS-Iron python API. Since OpenCMISS-Iron has been coded with MPI parallel programming in mind we access the node variables within the decomposition object that has been defined so that we correctly update node variables in the right computational node. Of course, if you are only using 1 computational node then this code will revert to updating all the nodes in the mesh on that single computational node."
   ]
  },
  {
   "cell_type": "code",
   "execution_count": 15,
   "metadata": {},
   "outputs": [],
   "source": [
    "# Set geometric field values from customized mesh.\n",
    "computationalNodeNumber = iron.ComputationalNodeNumberGet()\n",
    "for node_idx in range(num_nodes):\n",
    "    try:\n",
    "        node_id = NodeNums[node_idx][0]\n",
    "        node_x = NodeCoords[node_idx][0]\n",
    "        node_y = NodeCoords[node_idx][1]\n",
    "        node_z = NodeCoords[node_idx][2]\n",
    "        geometric_field.ParameterSetUpdateNodeDP(\n",
    "          iron.FieldVariableTypes.U, iron.FieldParameterSetTypes.VALUES,\n",
    "          1, 1, node_id, 1, node_x)\n",
    "        geometric_field.ParameterSetUpdateNodeDP(\n",
    "          iron.FieldVariableTypes.U, iron.FieldParameterSetTypes.VALUES,\n",
    "          1, 1, node_id, 2, node_y)\n",
    "        geometric_field.ParameterSetUpdateNodeDP(\n",
    "          iron.FieldVariableTypes.U, iron.FieldParameterSetTypes.VALUES,\n",
    "          1, 1, node_id, 3, node_z)\n",
    "    except:\n",
    "        print(\"error at node_idx {}\".format(node_idx))\n",
    "        print(\"with node coordinates {}\".format([node_x, node_y, node_z]))\n"
   ]
  },
  {
   "cell_type": "markdown",
   "metadata": {},
   "source": [
    "Once the geometric field variables have been updated with the input mesh node coordinates it is important to ensure that all computational nodes are notified with the new information. So the following function calls are really important. "
   ]
  },
  {
   "cell_type": "code",
   "execution_count": 16,
   "metadata": {},
   "outputs": [],
   "source": [
    "# Update the geometric field.\n",
    "geometric_field.ParameterSetUpdateStart(\n",
    "  iron.FieldVariableTypes.U, iron.FieldParameterSetTypes.VALUES)\n",
    "geometric_field.ParameterSetUpdateFinish(\n",
    "  iron.FieldVariableTypes.U, iron.FieldParameterSetTypes.VALUES)"
   ]
  },
  {
   "cell_type": "markdown",
   "metadata": {},
   "source": [
    "## CREATING FIELDS"
   ]
  },
  {
   "cell_type": "code",
   "execution_count": 17,
   "metadata": {},
   "outputs": [],
   "source": [
    "dependent_field_user_number = 2\n",
    "\n",
    "dependent_field = iron.Field()\n",
    "dependent_field.CreateStart(dependent_field_user_number, region)\n",
    "dependent_field.MeshDecompositionSet(decomposition)\n",
    "dependent_field.TypeSet(iron.FieldTypes.GEOMETRIC_GENERAL)\n",
    "dependent_field.GeometricFieldSet(geometric_field)\n",
    "dependent_field.DependentTypeSet(iron.FieldDependentTypes.DEPENDENT)\n",
    "dependent_field.VariableLabelSet(iron.FieldVariableTypes.U, \"Dependent\")\n",
    "dependent_field.NumberOfVariablesSet(2)\n",
    "\n",
    "# Set the number of componets for the U variable (position) and the DELUDELN\n",
    "# (forces).\n",
    "dependent_field.NumberOfComponentsSet(iron.FieldVariableTypes.U, 4)\n",
    "dependent_field.NumberOfComponentsSet(iron.FieldVariableTypes.DELUDELN, 4)\n",
    "\n",
    "# Set the hydrostatic pressure to be constant within each element.\n",
    "dependent_field.ComponentInterpolationSet(\n",
    "    iron.FieldVariableTypes.U, 4,\n",
    "    iron.FieldInterpolationTypes.ELEMENT_BASED)\n",
    "dependent_field.ComponentInterpolationSet(\n",
    "    iron.FieldVariableTypes.DELUDELN, 4,\n",
    "    iron.FieldInterpolationTypes.ELEMENT_BASED)\n",
    "dependent_field.CreateFinish()"
   ]
  },
  {
   "cell_type": "code",
   "execution_count": 18,
   "metadata": {},
   "outputs": [],
   "source": [
    "# Initialise dependent field from undeformed geometry and displacement bcs and set hydrostatic pressure.\n",
    "iron.Field.ParametersToFieldParametersComponentCopy(\n",
    "    geometric_field, iron.FieldVariableTypes.U, iron.FieldParameterSetTypes.VALUES, 1,\n",
    "    dependent_field, iron.FieldVariableTypes.U, iron.FieldParameterSetTypes.VALUES, 1)\n",
    "iron.Field.ParametersToFieldParametersComponentCopy(\n",
    "    geometric_field, iron.FieldVariableTypes.U, iron.FieldParameterSetTypes.VALUES, 2,\n",
    "    dependent_field, iron.FieldVariableTypes.U, iron.FieldParameterSetTypes.VALUES, 2)\n",
    "iron.Field.ParametersToFieldParametersComponentCopy(\n",
    "    geometric_field, iron.FieldVariableTypes.U, iron.FieldParameterSetTypes.VALUES, 3,\n",
    "    dependent_field, iron.FieldVariableTypes.U, iron.FieldParameterSetTypes.VALUES, 3)\n",
    "iron.Field.ComponentValuesInitialiseDP(\n",
    "    dependent_field, iron.FieldVariableTypes.U, iron.FieldParameterSetTypes.VALUES, 4, 0.0)"
   ]
  },
  {
   "cell_type": "code",
   "execution_count": 19,
   "metadata": {},
   "outputs": [],
   "source": [
    "# Create the material field.\n",
    "material_field_user_number = 3\n",
    "\n",
    "material_field = iron.Field()\n",
    "material_field.CreateStart(material_field_user_number, region)\n",
    "material_field.TypeSet(iron.FieldTypes.MATERIAL)\n",
    "material_field.MeshDecompositionSet(decomposition)\n",
    "material_field.GeometricFieldSet(geometric_field)\n",
    "material_field.VariableLabelSet(iron.FieldVariableTypes.U, \"Material\")\n",
    "\n",
    "# Set the number of components for the Mooney Rivlin constitutive equation (2).\n",
    "material_field.NumberOfComponentsSet(iron.FieldVariableTypes.U, 2)\n",
    "\n",
    "interpolation_type = 1\n",
    "\n",
    "for component in [1, 2]:\n",
    "    material_field.ComponentInterpolationSet(\n",
    "      iron.FieldVariableTypes.U, component,\n",
    "      iron.FieldInterpolationTypes.ELEMENT_BASED)\n",
    "    if interpolation_type == 4:\n",
    "        # Set arc length scaling for cubic-Hermite elements.\n",
    "        material_field.FieldScalingTypeSet(iron.FieldScalingTypes.ARITHMETIC_MEAN)\n",
    "material_field.CreateFinish()\n",
    "\n",
    "# Set Mooney-Rivlin constants c10 and c01 respectively.\n",
    "material_field.ComponentValuesInitialiseDP(\n",
    "    iron.FieldVariableTypes.U, iron.FieldParameterSetTypes.VALUES, 1, 1.0)\n",
    "material_field.ComponentValuesInitialiseDP(\n",
    "    iron.FieldVariableTypes.U, iron.FieldParameterSetTypes.VALUES, 2, 0.2)"
   ]
  },
  {
   "cell_type": "code",
   "execution_count": 20,
   "metadata": {},
   "outputs": [],
   "source": [
    "# Equation set field.\n",
    "equations_set_field_user_number = 4\n",
    "equations_set_field = iron.Field()\n",
    "equations_set = iron.EquationsSet()"
   ]
  },
  {
   "cell_type": "code",
   "execution_count": 21,
   "metadata": {},
   "outputs": [],
   "source": [
    "equations_set_user_number = 1\n",
    "\n",
    "# Finite elasticity equation specification.\n",
    "equations_set_specification = [iron.ProblemClasses.ELASTICITY,\n",
    "    iron.ProblemTypes.FINITE_ELASTICITY,\n",
    "    iron.EquationsSetSubtypes.MOONEY_RIVLIN]\n",
    "\n",
    "# Add the geometric field and equations set field that we created earlier (note\n",
    "# that while we defined the geometric field above, we only initialised an empty\n",
    "# field for the equations_set_field. When an empty field is provided to the \n",
    "# equations_set, it will automatically populate it with default values).\n",
    "equations_set.CreateStart(\n",
    "    equations_set_user_number, region, geometric_field, equations_set_specification,\n",
    "    equations_set_field_user_number, equations_set_field)\n",
    "# Add the dependent field that we created earlier.\n",
    "equations_set.DependentCreateStart(dependent_field_user_number, dependent_field)\n",
    "equations_set.DependentCreateFinish()\n",
    "# Add the material field that we created earlier.\n",
    "equations_set.MaterialsCreateStart(material_field_user_number, material_field)\n",
    "equations_set.MaterialsCreateFinish()\n",
    "equations_set.CreateFinish()"
   ]
  },
  {
   "cell_type": "code",
   "execution_count": 22,
   "metadata": {},
   "outputs": [],
   "source": [
    "# Create equations.\n",
    "equations = iron.Equations()\n",
    "equations_set.EquationsCreateStart(equations)\n",
    "equations.SparsityTypeSet(iron.EquationsSparsityTypes.SPARSE)\n",
    "equations.OutputTypeSet(iron.EquationsOutputTypes.NONE)\n",
    "equations_set.EquationsCreateFinish()"
   ]
  },
  {
   "cell_type": "code",
   "execution_count": 23,
   "metadata": {},
   "outputs": [],
   "source": [
    "# Define the problem.\n",
    "problem_user_number = 1\n",
    "\n",
    "problem = iron.Problem()\n",
    "problem_specification = (\n",
    "  [iron.ProblemClasses.ELASTICITY,\n",
    "   iron.ProblemTypes.FINITE_ELASTICITY,\n",
    "   iron.ProblemSubtypes.NONE])\n",
    "problem.CreateStart(problem_user_number, problem_specification)\n",
    "problem.CreateFinish()"
   ]
  },
  {
   "cell_type": "code",
   "execution_count": 24,
   "metadata": {},
   "outputs": [],
   "source": [
    "# Create the problem control loop.\n",
    "problem.ControlLoopCreateStart()\n",
    "control_loop = iron.ControlLoop()\n",
    "problem.ControlLoopGet([iron.ControlLoopIdentifiers.NODE], control_loop)\n",
    "control_loop.MaximumIterationsSet(1)\n",
    "problem.ControlLoopCreateFinish()\n"
   ]
  },
  {
   "cell_type": "code",
   "execution_count": 25,
   "metadata": {},
   "outputs": [],
   "source": [
    "nonlinear_solver = iron.Solver()\n",
    "linear_solver = iron.Solver()\n",
    "problem.SolversCreateStart()\n",
    "problem.SolverGet([iron.ControlLoopIdentifiers.NODE], 1, nonlinear_solver)\n",
    "nonlinear_solver.OutputTypeSet(iron.SolverOutputTypes.NONE)\n",
    "nonlinear_solver.NewtonJacobianCalculationTypeSet(\n",
    "  iron.JacobianCalculationTypes.EQUATIONS)\n",
    "nonlinear_solver.NewtonLinearSolverGet(linear_solver)\n",
    "linear_solver.LinearTypeSet(iron.LinearSolverTypes.DIRECT)\n",
    "problem.SolversCreateFinish()"
   ]
  },
  {
   "cell_type": "code",
   "execution_count": 26,
   "metadata": {},
   "outputs": [],
   "source": [
    "solver = iron.Solver()\n",
    "solver_equations = iron.SolverEquations()\n",
    "problem.SolverEquationsCreateStart()\n",
    "problem.SolverGet([iron.ControlLoopIdentifiers.NODE], 1, solver)\n",
    "solver.SolverEquationsGet(solver_equations)\n",
    "solver_equations.SparsityTypeSet(iron.SolverEquationsSparsityTypes.SPARSE)\n",
    "_ = solver_equations.EquationsSetAdd(equations_set)\n",
    "problem.SolverEquationsCreateFinish()"
   ]
  },
  {
   "cell_type": "code",
   "execution_count": 27,
   "metadata": {},
   "outputs": [],
   "source": [
    "# Prescribe boundary conditions (absolute nodal parameters).\n",
    "\n",
    "boundary_conditions = iron.BoundaryConditions()\n",
    "solver_equations.BoundaryConditionsCreateStart(boundary_conditions)\n",
    "\n",
    "boundary_conditions.AddNode(dependent_field, iron.FieldVariableTypes.U,1,1,1,1,iron.BoundaryConditionsTypes.FIXED,0.0)\n",
    "\n",
    "boundary_conditions.AddNode(dependent_field, iron.FieldVariableTypes.U,1,1,1,1,iron.BoundaryConditionsTypes.FIXED,0.0)\n",
    "\n",
    "boundary_conditions.AddNode(dependent_field, iron.FieldVariableTypes.U,1,1,1,1,iron.BoundaryConditionsTypes.FIXED,0.0)\n"
   ]
  },
  {
   "cell_type": "code",
   "execution_count": 36,
   "metadata": {},
   "outputs": [
    {
     "name": "stdout",
     "output_type": "stream",
     "text": [
      "Help on method AddNode in module opencmiss.iron.iron:\n",
      "\n",
      "AddNode(field, variableType, versionNumber, derivativeNumber, nodeUserNumber, componentNumber, condition, value) method of opencmiss.iron.iron.BoundaryConditions instance\n",
      "    Adds to the value of the specified node and sets this as a boundary condition on the specified node for boundary conditions identified by an object.\n",
      "    \n",
      "    :param field: The dependent field to set the boundary condition on.\n",
      "    :type field: Field\n",
      "    :param variableType: The variable type of the dependent field to add the boundary condition at. \\see OpenCMISS_FieldVariableTypes\n",
      "    :type variableType: int\n",
      "    :param versionNumber: The user number of the node derivative version to add the boundary conditions for.\n",
      "    :type versionNumber: int\n",
      "    :param derivativeNumber: The user number of the node derivative to add the boundary conditions for.\n",
      "    :type derivativeNumber: int\n",
      "    :param nodeUserNumber: The user number of the node to add the boundary conditions for.\n",
      "    :type nodeUserNumber: int\n",
      "    :param componentNumber: The component number of the dependent field to set the boundary condition at.\n",
      "    :type componentNumber: int\n",
      "    :param condition: The boundary condition type to set \\see OpenCMISS_BoundaryConditionsTypes,OpenCMISS\n",
      "    :type condition: int\n",
      "    :param value: The value of the boundary condition to add.\n",
      "    :type value: float\n",
      "    :rtype: None\n",
      "\n"
     ]
    }
   ],
   "source": [
    "help(iron.BoundaryConditions().AddNode)"
   ]
  },
  {
   "cell_type": "code",
   "execution_count": 28,
   "metadata": {},
   "outputs": [],
   "source": [
    "solver_equations.BoundaryConditionsCreateFinish()"
   ]
  },
  {
   "cell_type": "code",
   "execution_count": 27,
   "metadata": {},
   "outputs": [
    {
     "ename": "CMFEError",
     "evalue": "",
     "output_type": "error",
     "traceback": [
      "\u001b[0;31m---------------------------------------------------------------------------\u001b[0m",
      "\u001b[0;31mCMFEError\u001b[0m                                 Traceback (most recent call last)",
      "\u001b[0;32m<ipython-input-27-e035cc669311>\u001b[0m in \u001b[0;36m<module>\u001b[0;34m\u001b[0m\n\u001b[1;32m      1\u001b[0m \u001b[0;31m# Solve the problem.\u001b[0m\u001b[0;34m\u001b[0m\u001b[0;34m\u001b[0m\u001b[0;34m\u001b[0m\u001b[0m\n\u001b[0;32m----> 2\u001b[0;31m \u001b[0mproblem\u001b[0m\u001b[0;34m.\u001b[0m\u001b[0mSolve\u001b[0m\u001b[0;34m(\u001b[0m\u001b[0;34m)\u001b[0m\u001b[0;34m\u001b[0m\u001b[0;34m\u001b[0m\u001b[0m\n\u001b[0m",
      "\u001b[0;32m~/opencmiss-build/opencmiss/install/lib/python3.8/opencmiss.iron/opencmiss/iron/iron.py\u001b[0m in \u001b[0;36mSolve\u001b[0;34m(self)\u001b[0m\n\u001b[1;32m   7748\u001b[0m \u001b[0;34m\u001b[0m\u001b[0m\n\u001b[1;32m   7749\u001b[0m         \u001b[0mproblem\u001b[0m \u001b[0;34m=\u001b[0m \u001b[0mself\u001b[0m\u001b[0;34m\u001b[0m\u001b[0;34m\u001b[0m\u001b[0m\n\u001b[0;32m-> 7750\u001b[0;31m         \u001b[0;32mreturn\u001b[0m \u001b[0m_wrap_routine\u001b[0m\u001b[0;34m(\u001b[0m\u001b[0m_iron_python\u001b[0m\u001b[0;34m.\u001b[0m\u001b[0mcmfe_Problem_Solve\u001b[0m\u001b[0;34m,\u001b[0m \u001b[0;34m[\u001b[0m\u001b[0mproblem\u001b[0m\u001b[0;34m]\u001b[0m\u001b[0;34m)\u001b[0m\u001b[0;34m\u001b[0m\u001b[0;34m\u001b[0m\u001b[0m\n\u001b[0m\u001b[1;32m   7751\u001b[0m \u001b[0;34m\u001b[0m\u001b[0m\n\u001b[1;32m   7752\u001b[0m     \u001b[0;32mdef\u001b[0m \u001b[0mSolverEquationsCreateFinish\u001b[0m\u001b[0;34m(\u001b[0m\u001b[0mself\u001b[0m\u001b[0;34m)\u001b[0m\u001b[0;34m:\u001b[0m\u001b[0;34m\u001b[0m\u001b[0;34m\u001b[0m\u001b[0m\n",
      "\u001b[0;32m~/opencmiss-build/opencmiss/install/lib/python3.8/opencmiss.iron/opencmiss/iron/_utils.py\u001b[0m in \u001b[0;36mwrap_cmiss_routine\u001b[0;34m(routine, args)\u001b[0m\n\u001b[1;32m     75\u001b[0m             \u001b[0;32mraise\u001b[0m \u001b[0mCMFEError\u001b[0m\u001b[0;34m(\u001b[0m\u001b[0;34m\"Error converting pointer\"\u001b[0m\u001b[0;34m)\u001b[0m\u001b[0;34m\u001b[0m\u001b[0;34m\u001b[0m\u001b[0m\n\u001b[1;32m     76\u001b[0m         \u001b[0;32melse\u001b[0m\u001b[0;34m:\u001b[0m\u001b[0;34m\u001b[0m\u001b[0;34m\u001b[0m\u001b[0m\n\u001b[0;32m---> 77\u001b[0;31m             \u001b[0;32mraise\u001b[0m \u001b[0mCMFEError\u001b[0m\u001b[0;34m(\u001b[0m\u001b[0m_iron_python\u001b[0m\u001b[0;34m.\u001b[0m\u001b[0mcmfe_ExtractErrorMessage\u001b[0m\u001b[0;34m(\u001b[0m\u001b[0;34m)\u001b[0m\u001b[0;34m[\u001b[0m\u001b[0;36m1\u001b[0m\u001b[0;34m]\u001b[0m\u001b[0;34m)\u001b[0m\u001b[0;34m\u001b[0m\u001b[0;34m\u001b[0m\u001b[0m\n\u001b[0m\u001b[1;32m     78\u001b[0m     \u001b[0;32mreturn\u001b[0m \u001b[0mreturn_val\u001b[0m\u001b[0;34m\u001b[0m\u001b[0;34m\u001b[0m\u001b[0m\n",
      "\u001b[0;31mCMFEError\u001b[0m: "
     ]
    }
   ],
   "source": [
    "# Solve the problem.\n",
    "problem.Solve()"
   ]
  },
  {
   "cell_type": "markdown",
   "metadata": {},
   "source": [
    "### 9. Exporting meshes\n",
    "Now that the mesh has been imported into the OpenCMISS-Iron mesh and related objects, we can now use them for solving equations on the mesh topology. In what follows we show examples of how information in mesh objects can be extracted to generate mesh outputs. Typically, we don't want to only visualise the mesh node coordinates and elements. We usually execute a biophysics simulation over the input mesh domain and it is the resulting solution over the mesh that we want to visualise. The solution is typically stored in a field that is created when setting up the simulation. We have not set up a simulation in this example. Therefore, for illustration purposes lets create an additional field that is associated with the mesh. We will then set out to visualise this \"output\" over the mesh in t he examples that follow.     "
   ]
  },
  {
   "cell_type": "code",
   "execution_count": 17,
   "metadata": {},
   "outputs": [],
   "source": [
    "### Setting up the part of the example about outputting mesh info. \n",
    "## create new field\n",
    "solution_field_user_number=2\n",
    "solution_field=iron.Field()\n",
    "#associate the field with the region and mesh decomposition we have set up in this example. \n",
    "solution_field.CreateStart(solution_field_user_number,region)\n",
    "solution_field.LabelSet('Solution')\n",
    "solution_field.NumberOfComponentsSet(iron.FieldVariableTypes.U,1) \n",
    "solution_field.MeshDecompositionSet(decomposition)\n",
    "solution_field.CreateFinish()\n",
    "#initialise the values in the field to some arbitrary value for this example.\n",
    "solution_field.ComponentValuesInitialiseDP(\n",
    "  iron.FieldVariableTypes.U,iron.FieldParameterSetTypes.VALUES,1,1000.0)\n"
   ]
  },
  {
   "cell_type": "markdown",
   "metadata": {},
   "source": [
    "### Example 1: Output as list of nodes and elements\n",
    "For a given mesh, one can access the mesh nodes as follows:"
   ]
  },
  {
   "cell_type": "code",
   "execution_count": 18,
   "metadata": {},
   "outputs": [],
   "source": [
    "\n",
    "# meshNodes = iron.MeshNodes()\n",
    "# mesh.NodesGet(1,meshNodes)\n",
    "# num_nodes= meshNodes.NumberOfNodesGet()\n"
   ]
  },
  {
   "cell_type": "markdown",
   "metadata": {},
   "source": [
    "Since we already have nodes defined, lets just use that in this example. First, lets access the number of coordinates and nodes in the mesh:"
   ]
  },
  {
   "cell_type": "code",
   "execution_count": 19,
   "metadata": {
    "pycharm": {
     "name": "#%%\n"
    }
   },
   "outputs": [],
   "source": [
    "#since we already have Nodes defined, lets just use thatin this example\n",
    "num_nodes = nodes.NumberOfNodesGet()\n",
    "num_coords = coordinate_system.DimensionGet()\n"
   ]
  },
  {
   "cell_type": "markdown",
   "metadata": {},
   "source": [
    "Lets create a nodes list that contains the node numbers, the coordinates of each node and the solution value at each node. We use the iron function Field.ParameterSetGetNodeDP() to get the values from the geometric and solution fields. "
   ]
  },
  {
   "cell_type": "code",
   "execution_count": 20,
   "metadata": {},
   "outputs": [],
   "source": [
    "nodes_list = [[0 for coord in range(0,num_coords+2)] for node in range(0,num_nodes)]\n",
    "\n",
    "\n",
    "#create list object containing nodes and another one for elements\n",
    "for i in range(0,num_nodes):\n",
    "    node=i+1\n",
    "    node_coordx = geometric_field.ParameterSetGetNodeDP(\n",
    "      iron.FieldVariableTypes.U,iron.FieldParameterSetTypes.VALUES,1,1,node,1)\n",
    "    node_coordy = geometric_field.ParameterSetGetNodeDP(\n",
    "      iron.FieldVariableTypes.U,iron.FieldParameterSetTypes.VALUES,1,1,node,2)\n",
    "    node_coordz = geometric_field.ParameterSetGetNodeDP(\n",
    "      iron.FieldVariableTypes.U,iron.FieldParameterSetTypes.VALUES,1,1,node,3)\n",
    "    node_solution_value = solution_field.ParameterSetGetNodeDP(\n",
    "      iron.FieldVariableTypes.U,iron.FieldParameterSetTypes.VALUES,1,1,node,1)\n",
    "    nodes_list[i] = [node,node_coordx,node_coordy,node_coordz,node_solution_value]"
   ]
  },
  {
   "cell_type": "raw",
   "metadata": {},
   "source": [
    "Write out a file containing the list we have just created. "
   ]
  },
  {
   "cell_type": "code",
   "execution_count": 21,
   "metadata": {},
   "outputs": [],
   "source": [
    "node_file = open('output_mesh.node', 'w')\n",
    "node_file.writelines([str(line) + \"\\n\" for line in nodes_list])\n",
    "# Closing the file\n",
    "node_file.close()"
   ]
  },
  {
   "cell_type": "markdown",
   "metadata": {},
   "source": [
    "Now lets create a list of elements and write them out similarly:"
   ]
  },
  {
   "cell_type": "code",
   "execution_count": 22,
   "metadata": {},
   "outputs": [],
   "source": [
    "num_elem = mesh.NumberOfElementsGet()\n",
    "elements_list = [[0 for i in range(5)] for elem in range(num_elem)]\n",
    "for j in range(0,num_elem):\n",
    "    elemidx=j+1\n",
    "    elemnodes = meshElements.NodesGet(elemidx,4)\n",
    "    elements_list[j] = [\n",
    "      elemidx,\n",
    "      elemnodes[0],\n",
    "      elemnodes[1],\n",
    "      elemnodes[2],\n",
    "      elemnodes[3]]\n",
    "\n",
    "elem_file=open('output_mesh.ele','w')\n",
    "elem_file.writelines([str(line) + \"\\n\" for line in elements_list])\n",
    "elem_file.close()"
   ]
  },
  {
   "cell_type": "markdown",
   "metadata": {},
   "source": [
    "### Example 2: Output as numpy arrays - useful for importing into ParaView\n"
   ]
  },
  {
   "cell_type": "code",
   "execution_count": 23,
   "metadata": {},
   "outputs": [],
   "source": [
    "#Example 2: Output as arrays\n",
    "import numpy as np\n",
    "\n",
    "nodesx = np.array(nodes_list[:][1])\n",
    "np.save('output_mesh.x.npy',nodesx)\n",
    "nodesy = np.array(nodes_list[:][2])\n",
    "np.save('output_mesh.y.npy',nodesy)\n",
    "nodesz= np.array(nodes_list[:][3])\n",
    "np.save('output_mesh.z.npy',nodesz)\n",
    "nodesolution=np.array(nodes_list[:][4])\n",
    "np.save('output_mesh.sol.npy',nodesolution)\n"
   ]
  },
  {
   "cell_type": "code",
   "execution_count": 24,
   "metadata": {},
   "outputs": [],
   "source": [
    "# Export results in Exfile format.\n",
    "# fields = iron.Fields()\n",
    "# fields.CreateRegion(region)\n",
    "# fields.NodesExport(\"laplace_equation\", \"FORTRAN\")\n",
    "# fields.ElementsExport(\"laplace_equation\", \"FORTRAN\")\n",
    "# fields.Finalise()"
   ]
  },
  {
   "cell_type": "markdown",
   "metadata": {},
   "source": [
    "Let the library know that you are done with computations and the resources allocated for the problem can now be released\n"
   ]
  },
  {
   "cell_type": "code",
   "execution_count": 26,
   "metadata": {
    "pycharm": {
     "name": "#%%\n"
    }
   },
   "outputs": [],
   "source": [
    "iron.Finalise()"
   ]
  },
  {
   "cell_type": "markdown",
   "metadata": {
    "pycharm": {
     "name": "#%% md\n"
    }
   },
   "source": [
    "## Visualising results\n",
    "\n",
    "There are many different ways to visualise the results that you have generated in this example. Below we show how you can convert all the mesh data into vtk format for visualisation in paraview or other VTK friendly visualisation software."
   ]
  },
  {
   "cell_type": "markdown",
   "metadata": {},
   "source": [
    "## Converting all code into vtk"
   ]
  },
  {
   "cell_type": "code",
   "execution_count": 25,
   "metadata": {
    "tags": []
   },
   "outputs": [],
   "source": [
    "\n",
    "import meshio\n",
    "import numpy as np\n",
    "\n",
    "# Obtain the nodeal values and their coordinates\n",
    "points = np.array(NodeCoords)\n",
    "\n",
    "# Obtain the connectivity matrix between the nodes at each element\n",
    "# Note that meshio uses a 0-index node labeling system, while Opencmiss uses a 1-index node labeling system. So all node numbers need to be reduced by 1. \n",
    "# elements_list[0] represents the element number\n",
    "# elements_list[1:5] represents the 4 nodes associated with that element\n",
    "cells_array = np.array(elements_list)[:,1:5] - 1\n",
    "cells = [(\"tetra\", cells_array)]\n",
    "\n",
    "\n",
    "# Extract the values of the solution field at each of the nodes in the mesh\n",
    "solution_field_nodes = np.zeros(num_nodes)\n",
    "for i in range(num_nodes):\n",
    "    node = i+1\n",
    "    solution_field_nodes[i] = solution_field.ParameterSetGetNodeDP(\n",
    "      iron.FieldVariableTypes.U,iron.FieldParameterSetTypes.VALUES,1,1,node,1)\n",
    "\n",
    "# This is the code that outputs the data into a particular format\n",
    "meshio.write_points_cells(\n",
    "  \"output_mesh.vtk\",points,cells,point_data={\"solution\":solution_field_nodes})\n",
    "    # Optionally provide extra data on points, cells, etc.\n",
    "    # cell_data=cell_data,\n",
    "    # field_data=field_data\n",
    "# )"
   ]
  },
  {
   "cell_type": "code",
   "execution_count": null,
   "metadata": {},
   "outputs": [],
   "source": []
  }
 ],
 "metadata": {
  "kernelspec": {
   "display_name": "Python 3",
   "language": "python",
   "name": "python3"
  },
  "language_info": {
   "codemirror_mode": {
    "name": "ipython",
    "version": 3
   },
   "file_extension": ".py",
   "mimetype": "text/x-python",
   "name": "python",
   "nbconvert_exporter": "python",
   "pygments_lexer": "ipython3",
   "version": "3.8.6"
  }
 },
 "nbformat": 4,
 "nbformat_minor": 4
}
