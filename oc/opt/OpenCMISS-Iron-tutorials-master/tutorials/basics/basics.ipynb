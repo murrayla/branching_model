{
 "cells": [
  {
   "cell_type": "markdown",
   "metadata": {},
   "source": [
    "# The basics\n",
    "\n",
    "This tutorial demonstrates how to setup and solve a finite element modelling problem using OpenCMISS-Iron in python. For the purpose of this tutorial, we will be solving a Laplace equation over a 1-3 dimensional domain. In mathematics and physics, Laplace's equation is a second-order partial differential equation named after Pierre-Simon Laplace who first studied its properties. In this basics tutorial, we will be making calls to the OpenCMISS-Iron's Python-bindings API to illustrate how we can interact with the library, while demonstrating the functionalities of OpenCMISS-Iron.\n",
    "\n",
    "See the [OpenCMISS-Iron tutorial documenation page](https://opencmiss-iron-tutorials.readthedocs.io/en/latest/tutorials.html#how-to-run-tutorials) for instructions on how to run this tutorial.\n",
    "\n",
    "## Learning outcomes\n",
    "\n",
    " - Understand how to create a problem using OpenCMISS-Iron commands.\n",
    "\n",
    " - Solve a Laplace problem using the finite element method in OpenCMISS-Iron.\n",
    "\n",
    "## The Laplace problem\n",
    "\n",
    "In this example we are solving the standard Laplace equation which is a member of the classical field equations set class and the Laplace equation type. \n",
    "\n",
    "$$\\displaystyle \\nabla ^{2}f={\\frac {\\partial ^{2}f}{\\partial x^{2}}}+{\\frac {\\partial ^{2}f}{\\partial y^{2}}}+{\\frac {\\partial ^{2}f}{\\partial z^{2}}}=0.$$\n",
    "\n",
    "\n",
    "## Conceptual visualisation of tutorial steps\n",
    "\n",
    "The figure below is a conceptual visualisation of the problem set up that this tutorial will walk you through. Here are key points that will help you interpret the diagram and appreciate the steps involved in creating a problem:\n",
    "\n",
    "1. The numbering in the figure corresponds to the steps that we will take to set up the problem. \n",
    "\n",
    "2. Each box represents a type of object that will be created for the problem. \n",
    "\n",
    "3. A box within a box represents an object that is a component of the parent object. For example, the Generated Mesh object falls within the Region object because a Generated Mesh object must be contained within a Region object. \n",
    "\n",
    "4. The arrows show the inter-object relationships. For example, a Generated Mesh object is associated with a Region object but it also needs a Basis Function object. The Decomposition object can only be created if there is a Mesh object associated with it. \n",
    "\n",
    "5. Lets define a few objects that are shown in the figure. More details about each of the objects are given as the tutorial progresses. $f$ in the laplace equation above is the *Dependent Field* that we want to solve for over the *Geometric Field* defined by $x$, $y$, and $z$ coordinates. To solve for $f$ we need to define the *Coordinate System*, and the *Basis Functions* we want to use as the interpolation scheme. The *Region* object is a parent environment object in which the fields, geometry of the domain and equations are defined. We need to define the *mesh* that describes the geometry that we need to solve the equations over. *Equation set* and *Equations* objects that represent the discretised form, matrix form of the finite element implementation of the laplace problem are then set up using the different fields, mesh and basis functions we have defined. The *Problem* object contains information about the solution process used to solve the equations defined in the region. *Boundary Conditions* objects contain the boundary conditions that are defined for a particular simulation."
   ]
  },
  {
   "cell_type": "markdown",
   "metadata": {
    "pycharm": {
     "name": "#%% md\n"
    }
   },
   "source": [
    "![Basic OpenCMISS-Iron diagram](problem_diagram.svg)"
   ]
  },
  {
   "cell_type": "markdown",
   "metadata": {},
   "source": [
    "## Loading the OpenCMISS-Iron library\n",
    "\n",
    "In order to use OpenCMISS we have to first import the opencmiss.iron module from the opencmiss package."
   ]
  },
  {
   "cell_type": "code",
   "execution_count": 1,
   "metadata": {},
   "outputs": [],
   "source": [
    "# Intialise OpenCMISS-Iron.\n",
    "from opencmiss.iron import iron"
   ]
  },
  {
   "cell_type": "markdown",
   "metadata": {
    "pycharm": {
     "name": "#%% md\n"
    }
   },
   "source": [
    "Assuming OpenCMISS has been correctly built with the Python bindings by following the instructions in the installation instructions, we can now access\n",
    "all the OpenCMISS functions, classes and constants under the iron namespace. The next section describes how we can interact with the OpenCMISS-Iron library through an object-oriented API.\n",
    "\n",
    "## Step by step guide\n",
    "\n",
    "### 1. Creating a coordinate system\n",
    "\n",
    "First we construct a coordinate system that will be used to describe the geometry in our problem. The 3D geometry will exist in a 3D space, so we need a 3D coordinate system."
   ]
  },
  {
   "cell_type": "code",
   "execution_count": 2,
   "metadata": {},
   "outputs": [],
   "source": [
    "# Create coordinate system object.\n",
    "coordinate_system_user_number = 1\n",
    "number_of_dimensions = 3\n",
    "\n",
    "coordinate_system = iron.CoordinateSystem()\n",
    "coordinate_system.CreateStart(coordinate_system_user_number)\n",
    "coordinate_system.DimensionSet(number_of_dimensions)\n",
    "coordinate_system.CreateFinish()"
   ]
  },
  {
   "cell_type": "markdown",
   "metadata": {
    "pycharm": {
     "name": "#%% md\n"
    }
   },
   "source": [
    "Note that once an OpenCMISS-Iron object has been created with a specific user number, you will need to destroy it (i.e. `coordinate_system.Destroy`) before you can recreate it again with the same user number. This means that if you are running this tutorial as a Jupyter notebook, then trying to re-run cells will result in an error saying that an 'OpenCMISS-Iron object with that username has already been created'. Simply restart the Jupyter notebook kernel (resets the python interpreter), and use the Jupyter notebook shortcut to rerun all the cells above the current point to continue with where you left off. Note that restarting the Kernel will remove all variables that you have previously created from memory)."
   ]
  },
  {
   "cell_type": "markdown",
   "metadata": {
    "pycharm": {
     "name": "#%% md\n"
    }
   },
   "source": [
    "### 2. Creating basis functions\n",
    "\n",
    "The finite element description of our fields requires a basis function to interpolate field values over elements, so we create a 3D basis with linear Lagrange interpolation in both $\\xi$ directions. Note that in coding practice, the greek symbol $\\xi$ is represented as \"Xi\" (\"Xi\" is not read as \"X sub i\").\n",
    "\n",
    "- The `xi_interpolation` variable defines the basis interpolation scheme to use along each spatial direction.\n",
    "- The `number_of_guass_xi` variable defines the number of Gauss points in each finite element coordinate direction (xi) for numerical integration operations."
   ]
  },
  {
   "cell_type": "code",
   "execution_count": 3,
   "metadata": {
    "pycharm": {
     "name": "#%%\n"
    }
   },
   "outputs": [],
   "source": [
    "# Define basis parameters.\n",
    "if number_of_dimensions == 1:\n",
    "    xi_interpolation = [iron.BasisInterpolationSpecifications.LINEAR_LAGRANGE]\n",
    "    number_of_guass_xi = [3]\n",
    "elif number_of_dimensions == 2:\n",
    "    xi_interpolation = [\n",
    "        iron.BasisInterpolationSpecifications.LINEAR_LAGRANGE,\n",
    "        iron.BasisInterpolationSpecifications.LINEAR_LAGRANGE]\n",
    "    number_of_guass_xi = [3, 3]\n",
    "elif number_of_dimensions == 3:\n",
    "    xi_interpolation = [\n",
    "        iron.BasisInterpolationSpecifications.LINEAR_LAGRANGE,\n",
    "        iron.BasisInterpolationSpecifications.LINEAR_LAGRANGE,\n",
    "        iron.BasisInterpolationSpecifications.LINEAR_LAGRANGE]\n",
    "    number_of_guass_xi = [3, 3, 3]\n",
    "\n",
    "# Create basis object.\n",
    "basis_user_number = 1\n",
    "\n",
    "basis = iron.Basis()\n",
    "basis.CreateStart(basis_user_number)\n",
    "basis.TypeSet(iron.BasisTypes.LAGRANGE_HERMITE_TP)\n",
    "basis.NumberOfXiSet(number_of_dimensions)\n",
    "basis.InterpolationXiSet(xi_interpolation)\n",
    "basis.QuadratureNumberOfGaussXiSet(number_of_guass_xi)\n",
    "basis.CreateFinish()"
   ]
  },
  {
   "cell_type": "markdown",
   "metadata": {},
   "source": [
    "### 3. Creating a region\n",
    "\n",
    "Next we create a region that our fields will be defined on and tell it to use the 2D coordinate system we created previously. The CreateStart method for a region requires another region as a parameter. We use the world region that is created by default so that our region is a subregion of the world region."
   ]
  },
  {
   "cell_type": "code",
   "execution_count": 4,
   "metadata": {
    "pycharm": {
     "name": "#%%\n"
    }
   },
   "outputs": [],
   "source": [
    "# Create region object.\n",
    "region_user_number = 1\n",
    "\n",
    "region = iron.Region()\n",
    "region.CreateStart(region_user_number, iron.WorldRegion)\n",
    "region.CoordinateSystemSet(coordinate_system)\n",
    "region.LabelSet(\"Region\")\n",
    "region.CreateFinish()"
   ]
  },
  {
   "cell_type": "markdown",
   "metadata": {
    "pycharm": {
     "name": "#%% md\n"
    }
   },
   "source": [
    "### 4. Setting up a simple cuboid mesh\n",
    "\n",
    "In this example we will use the GeneratedMesh class capabilities of OpenCMISS to create a 3D geometric mesh on which to solve the Laplace problem. We will create a regular mesh of size width x height x length and divide the mesh into a number of elements in the X, Y, and Z directions (specified in a `number_of_elements` variable). We will then tell it to use the basis we created previously:"
   ]
  },
  {
   "cell_type": "code",
   "execution_count": 5,
   "metadata": {
    "pycharm": {
     "name": "#%%\n"
    }
   },
   "outputs": [],
   "source": [
    "#  Define mesh parameters.\n",
    "if number_of_dimensions == 1:\n",
    "    number_of_elements = [2]\n",
    "    extent = [1.0] # Along X.\n",
    "if number_of_dimensions == 2:\n",
    "    number_of_elements = [2, 2]\n",
    "    extent = [1.0, 1.0] # Along X and Y.\n",
    "elif number_of_dimensions == 3:\n",
    "    number_of_elements = [2, 2, 3]\n",
    "    extent = [1.0, 1.0, 1.0]  # Along X, Y, Z.\n",
    "\n",
    "# Create iron.GeneratedMesh object.\n",
    "generated_mesh_user_number = 1\n",
    "generated_mesh = iron.GeneratedMesh()\n",
    "generated_mesh.CreateStart(generated_mesh_user_number, region) # Notice how the mesh initialisation is associated with region.\n",
    "generated_mesh.TypeSet(iron.GeneratedMeshTypes.REGULAR)\n",
    "generated_mesh.BasisSet([basis]) \n",
    "generated_mesh.ExtentSet(extent)\n",
    "generated_mesh.NumberOfElementsSet(number_of_elements)"
   ]
  },
  {
   "cell_type": "markdown",
   "metadata": {
    "pycharm": {
     "name": "#%% md\n"
    }
   },
   "source": [
    "Note the use of a list type to pass in the basis as an argument in the `BasisSet` method. We will see the power of this in the finite elasticity tutorial, where meshes with multiple bases will be simultaneously generated.\n",
    "\n",
    "The generated mesh is not itself a mesh, but is used to create a mesh. We construct the mesh object when we call the CreateFinish method of the generated mesh and pass in the mesh. This mesh object is just the same as if we had manually created the regular mesh. \n",
    "\n",
    "Here we have initialised a mesh but not called CreateStart or CreateFinish, instead the mesh creation is done when finishing the creation of the generated mesh."
   ]
  },
  {
   "cell_type": "code",
   "execution_count": 6,
   "metadata": {},
   "outputs": [],
   "source": [
    "# Create mesh object from generated_mesh object.\n",
    "mesh_user_number = 1\n",
    "\n",
    "mesh = iron.Mesh()\n",
    "generated_mesh.CreateFinish(mesh_user_number,mesh) #the GeneratedMesh object contains attributes that are then used to define the mesh object attributes at this line.\n"
   ]
  },
  {
   "cell_type": "markdown",
   "metadata": {
    "pycharm": {
     "name": "#%% md\n"
    }
   },
   "source": [
    "### 5. Decomposing the mesh\n",
    "\n",
    "Once the mesh has been created we can decompose it into a number of domains in order to allow for parallelism. We choose the options to let OpenCMISS calculate the best way to break up the mesh. We also set the number of domains to be equal to the number of computational nodes this example is running on. Note that if MPI infrastructure is not used, only single domain will be created. Look for our parallelisation example for an illustration of how to execute simulations using parallel processing techniques. "
   ]
  },
  {
   "cell_type": "code",
   "execution_count": 7,
   "metadata": {
    "pycharm": {
     "name": "#%%\n"
    }
   },
   "outputs": [],
   "source": [
    "# Perform mesh decomposition.\n",
    "decomposition_user_number = 1\n",
    "\n",
    "decomposition = iron.Decomposition()\n",
    "decomposition.CreateStart(decomposition_user_number, mesh)\n",
    "decomposition.CreateFinish()"
   ]
  },
  {
   "cell_type": "markdown",
   "metadata": {
    "pycharm": {
     "name": "#%% md\n"
    }
   },
   "source": [
    "### 6. Creating a geometric field\n",
    "\n",
    "Now that the mesh has been decomposed we are in a position to create fields. The first field we need to create is the geometric field. Here we create a field and partition the field to different computational nodes using the mesh decomposition that we have just created. Once we have finished creating the field we can change the field DOFs to give us our geometry. Since the mesh has been generated we can use the generated mesh object to calculate the geometric parameters of the regular mesh."
   ]
  },
  {
   "cell_type": "code",
   "execution_count": 8,
   "metadata": {
    "pycharm": {
     "name": "#%%\n"
    }
   },
   "outputs": [],
   "source": [
    "# Create a field for the geometry.\n",
    "geometric_field_user_number = 1\n",
    "\n",
    "geometric_field = iron.Field()\n",
    "geometric_field.CreateStart(geometric_field_user_number, region) #notice that the geometric field is associated with region in this function call. \n",
    "geometric_field.LabelSet('Geometry')\n",
    "geometric_field.MeshDecompositionSet(decomposition)\n",
    "geometric_field.CreateFinish()"
   ]
  },
  {
   "cell_type": "markdown",
   "metadata": {},
   "source": [
    "We have created a geometric field but all the field component values are currently set to zero by default. We can define the geometry using the generated mesh we created earlier:"
   ]
  },
  {
   "cell_type": "code",
   "execution_count": 9,
   "metadata": {},
   "outputs": [],
   "source": [
    "# Set geometric field values from the generated mesh.\n",
    "generated_mesh.GeometricParametersCalculate(geometric_field)"
   ]
  },
  {
   "cell_type": "markdown",
   "metadata": {
    "pycharm": {
     "name": "#%% md\n"
    }
   },
   "source": [
    "### Visualising the geometry\n",
    "\n",
    "We now visualise the geometry using pythreejs."
   ]
  },
  {
   "cell_type": "code",
   "execution_count": 10,
   "metadata": {
    "pycharm": {
     "name": "#%%\n"
    }
   },
   "outputs": [
    {
     "name": "stderr",
     "output_type": "stream",
     "text": [
      "/home/jovyan/.local/lib/python3.8/site-packages/scipy/__init__.py:143: UserWarning: A NumPy version >=1.19.5 and <1.27.0 is required for this version of SciPy (detected version 1.19.4)\n",
      "  warnings.warn(f\"A NumPy version >={np_minversion} and <{np_maxversion}\"\n"
     ]
    },
    {
     "data": {
      "application/vnd.jupyter.widget-view+json": {
       "model_id": "5e64fa281f68455c9c6b17945733d9fc",
       "version_major": 2,
       "version_minor": 0
      },
      "text/plain": [
       "Renderer(camera=PerspectiveCamera(position=(3.0, 3.0, 3.0), projectionMatrix=(1.0, 0.0, 0.0, 0.0, 0.0, 1.0, 0.…"
      ]
     },
     "metadata": {},
     "output_type": "display_data"
    }
   ],
   "source": [
    "import sys\n",
    "sys.path.insert(1, '../../tools/')\n",
    "import threejs_visualiser\n",
    "renderer = threejs_visualiser.visualise(\n",
    "    mesh, geometric_field, number_of_dimensions, xi_interpolation,\n",
    "    variable=iron.FieldVariableTypes.U, node_labels=True)"
   ]
  },
  {
   "cell_type": "markdown",
   "metadata": {
    "pycharm": {
     "name": "#%% md\n"
    }
   },
   "source": [
    "### 7. Creating the dependent field\n",
    "\n",
    "For the Laplace equation we need a dependent field (our solution) to describe our dependent variable $f(x,y)$. Here haven't used the Field.CreateStart method to construct the dependent field because we let OpenCMISS create an appropriate dependent field for the Laplace equations being described. \n",
    "\n",
    "it is automatically constructed by the equations set.\n",
    "\n",
    "Here we do not define a field before the CreateStart and so we let OpenCMISS create an appropriate dependent field for the Laplace equations being described. Once the fields have been created we can set the field DOF values."
   ]
  },
  {
   "cell_type": "code",
   "execution_count": 11,
   "metadata": {
    "pycharm": {
     "name": "#%%\n"
    }
   },
   "outputs": [],
   "source": [
    "# Create dependent field.\n",
    "dependent_field_user_number = 2\n",
    "\n",
    "dependent_field = iron.Field()"
   ]
  },
  {
   "cell_type": "markdown",
   "metadata": {},
   "source": [
    "### 8. Defining an equation set field\n",
    "\n",
    "We also need to create a new field called the equation set field, whose purpose is defined in the next section.\n"
   ]
  },
  {
   "cell_type": "code",
   "execution_count": 12,
   "metadata": {},
   "outputs": [],
   "source": [
    "# Initialise equation set field object.\n",
    "equations_set_field_user_number = 3\n",
    "\n",
    "equations_set_field = iron.Field()"
   ]
  },
  {
   "cell_type": "markdown",
   "metadata": {
    "pycharm": {
     "name": "#%% md\n"
    }
   },
   "source": [
    "### 9. Defining the Laplace equation set\n",
    "\n",
    "We are now in a position to define the type of physics that we wish to solve. This is done by creating an equations set which is a container object for all the parameters we need to describe the physics. The specific equation set we are solving is defined by a list in the fourth argument to the CreateStart method. This list needs to contain the equations set class, type and subtype.\n",
    "\n",
    "The equation set field that we defined in the previous section is used by the OpenCMISS-Iron library to identify multiple equations sets of the same type on a region. As we only have one equation set in this example, we do not have to populate this field. All we need to do is pass the equation set field user number and the equation set field object when creating the equation set. Its field values will be automatically defined once the equation set is finalised."
   ]
  },
  {
   "cell_type": "code",
   "execution_count": 13,
   "metadata": {
    "pycharm": {
     "name": "#%%\n"
    }
   },
   "outputs": [],
   "source": [
    "equations_set_user_number = 1\n",
    "\n",
    "# Define Laplace equation specification.\n",
    "equations_set_specification = [\n",
    "    iron.EquationsSetClasses.CLASSICAL_FIELD,\n",
    "    iron.EquationsSetTypes.LAPLACE_EQUATION,\n",
    "    iron.EquationsSetSubtypes.STANDARD_LAPLACE]\n",
    "\n",
    "# Create equation set object.\n",
    "equations_set = iron.EquationsSet()\n",
    "equations_set.CreateStart(\n",
    "    equations_set_user_number, region, geometric_field,\n",
    "    equations_set_specification, equations_set_field_user_number,\n",
    "    equations_set_field)\n",
    "equations_set.DependentCreateStart(\n",
    "    dependent_field_user_number, dependent_field)\n",
    "equations_set.DependentCreateFinish()\n",
    "equations_set.CreateFinish()"
   ]
  },
  {
   "cell_type": "markdown",
   "metadata": {
    "pycharm": {
     "name": "#%% md\n"
    }
   },
   "source": [
    "Once the equations set is defined, we create the equations that use our fields to construct equations matrices and vectors."
   ]
  },
  {
   "cell_type": "code",
   "execution_count": 14,
   "metadata": {
    "pycharm": {
     "name": "#%%\n"
    }
   },
   "outputs": [],
   "source": [
    "# Create equations object.\n",
    "equations = iron.Equations()\n",
    "equations_set.EquationsCreateStart(equations)\n",
    "equations_set.EquationsCreateFinish()"
   ]
  },
  {
   "cell_type": "markdown",
   "metadata": {},
   "source": [
    "We can initialise our solution with a value we think will be close to the final solution. A field in OpenCMISS can contain multiple field variables, and each field variable can have multiple components. For the standard Laplace equation, the dependent field only has a U variable which has one component. Field variables can also have different field parameter sets, for example we can store values at a previous time step in dynamic problems. In this example we are only interested in the VALUES parameter set:"
   ]
  },
  {
   "cell_type": "code",
   "execution_count": 15,
   "metadata": {
    "pycharm": {
     "name": "#%%\n"
    }
   },
   "outputs": [],
   "source": [
    "# Initialise dependent field.\n",
    "dependent_field.ComponentValuesInitialiseDP(\n",
    "    iron.FieldVariableTypes.U, iron.FieldParameterSetTypes.VALUES, 1, 0.5)"
   ]
  },
  {
   "cell_type": "markdown",
   "metadata": {
    "pycharm": {
     "name": "#%% md\n"
    }
   },
   "source": [
    "### 10. Defining the problem\n",
    "\n",
    "Now that we have defined all the equations we will need we can create our problem to be solved by OpenCMISS. We create a standard Laplace problem, which is a member of the classical field problem class and Laplace equation problem type: "
   ]
  },
  {
   "cell_type": "code",
   "execution_count": 16,
   "metadata": {
    "pycharm": {
     "name": "#%%\n"
    }
   },
   "outputs": [],
   "source": [
    "# Create problem object.\n",
    "problem_user_number = 1\n",
    "\n",
    "problem = iron.Problem()\n",
    "problem_specification = [\n",
    "    iron.ProblemClasses.CLASSICAL_FIELD,\n",
    "    iron.ProblemTypes.LAPLACE_EQUATION,\n",
    "    iron.ProblemSubtypes.STANDARD_LAPLACE]\n",
    "problem.CreateStart(problem_user_number, problem_specification)\n",
    "problem.CreateFinish()"
   ]
  },
  {
   "cell_type": "markdown",
   "metadata": {
    "pycharm": {
     "name": "#%% md\n"
    }
   },
   "source": [
    "### 11. Defining control loops\n",
    "\n",
    "The problem type defines a control loop structure that is used when solving the problem. The OpenCMISS control loop is a \"supervisor\" for the computational process. We may have multiple control loops with nested sub loops, and control loops can have different types, for example load incremented loops or time loops for dynamic problems. In this example a simple, single iteration loop is created without any sub loops. If we wanted to access the control loop and modify it we would use the problem.ControlLoopGet method before finishing the creation of the control loops, but we will just leave it with the default configuration:"
   ]
  },
  {
   "cell_type": "code",
   "execution_count": 17,
   "metadata": {
    "pycharm": {
     "name": "#%%\n"
    }
   },
   "outputs": [],
   "source": [
    "# Create control loops.\n",
    "problem.ControlLoopCreateStart()\n",
    "problem.ControlLoopCreateFinish()"
   ]
  },
  {
   "cell_type": "markdown",
   "metadata": {
    "pycharm": {
     "name": "#%% md\n"
    }
   },
   "source": [
    "### 12. Defining solvers\n",
    "\n",
    "After defining the problem structure we can create the solvers that will be run to actually solve our problem. The problem type defines the solvers to be set up so we call problem.SolversCreateStart() to create the solvers and then we can access the solvers to modify their properties. An iterative solver is used by default."
   ]
  },
  {
   "cell_type": "code",
   "execution_count": 18,
   "metadata": {
    "pycharm": {
     "name": "#%%\n"
    }
   },
   "outputs": [],
   "source": [
    "# Create problem solvers.\n",
    "solver = iron.Solver()\n",
    "problem.SolversCreateStart()\n",
    "problem.SolverGet([iron.ControlLoopIdentifiers.NODE], 1, solver)\n",
    "solver.OutputTypeSet(iron.SolverOutputTypes.SOLVER)\n",
    "problem.SolversCreateFinish()"
   ]
  },
  {
   "cell_type": "markdown",
   "metadata": {
    "pycharm": {
     "name": "#%% md\n"
    }
   },
   "source": [
    "Note that we initialised a solver but didn't create it directly by calling its CreateStart() method, it was created with the call to SolversCreateStart() and then we obtain it with the call to SolverGet(). If we look at the help for the SolverGet method we see it takes three parameters:\n",
    "\n",
    "controlLoopIdentifiers: A list of integers used to identify the control loop to get a solver for. This always starts with the root control loop, given by CMISS.ControlLoopIdentifiers.NODE. In this example we only have the one control loop and no sub loops.\n",
    "\n",
    "solverIndex: The index of the solver to get, as a control loop may have multiple solvers. In this case there is only one solver in our root control loop.\n",
    "\n",
    "solver: An initialised solver object that hasn't been created yet, and on return it will be the solver that we asked for.\n",
    "\n",
    "Once we've obtained the solver we then set various properties before finishing the creation of all the problem solvers. A list of solver methods to configure the solver can be found [here](http://opencmiss.org/documentation/apidoc/iron/latest/python/classiron_1_1_solver.html)\n",
    "\n",
    "### 13. Defining solver equations\n",
    "\n",
    "After defining our solver we can create the equations for the solver to solve by adding our equations sets to the solver equations. In this example we have just one equations set to add but for coupled problems we may have multiple equations sets in the solver equations. "
   ]
  },
  {
   "cell_type": "code",
   "execution_count": 19,
   "metadata": {
    "pycharm": {
     "name": "#%%\n"
    }
   },
   "outputs": [],
   "source": [
    "# Create solver equations object and add equations set object to it.\n",
    "solver = iron.Solver()\n",
    "solver_equations = iron.SolverEquations()\n",
    "problem.SolverEquationsCreateStart()\n",
    "problem.SolverGet([iron.ControlLoopIdentifiers.NODE], 1, solver)\n",
    "solver.SolverEquationsGet(solver_equations)\n",
    "solver_equations.EquationsSetAdd(equations_set)\n",
    "problem.SolverEquationsCreateFinish()"
   ]
  },
  {
   "cell_type": "markdown",
   "metadata": {},
   "source": [
    "### 14. Defining the boundary conditions\n",
    "\n",
    "The final step in configuring the problem is to define the boundary conditions to be satisfied. The Dirichlet problem for Laplace's equation consists of finding a solution φ on some domain D such that φ on the boundary of D is equal to some given function. Since the Laplace operator appears in the heat equation, one physical interpretation of this problem is as follows: fix the temperature on the boundary of the domain according to the given specification of the boundary condition. Allow heat to flow until a stationary state is reached in which the temperature at each point on the domain doesn't change anymore. The temperature distribution in the interior will then be given by the solution to the corresponding Dirichlet problem.\n",
    "\n",
    "We will set the dependent field value at the first node to be 0, and at the last node to be 1.0. These nodes will correspond to opposite corners in our geometry.\n",
    "\n",
    "These values are set using the SetNode() method. The arguments to the SetNode() method are the field, field variable type, node version number, node user number, node derivative number, field component number, boundary condition type and boundary condition value. The version and derivative numbers are one as we aren't using versions and we are setting field values rather than derivative values. We can also only set derivative boundary conditions when using a Hermite basis type. There are a wide number of boundary condition types that can be set but many are only available for certain equation set types and in this example we simply want to fix the field value.\n",
    "\n",
    "When solverEquations.BoundaryConditionsCreateFinish() is called OpenCMISS will construct the solver matrices and vectors."
   ]
  },
  {
   "cell_type": "code",
   "execution_count": 20,
   "metadata": {
    "pycharm": {
     "name": "#%%\n"
    }
   },
   "outputs": [],
   "source": [
    "# Identify first and last node number.\n",
    "first_node_number = 1\n",
    "nodes = iron.Nodes()\n",
    "region.NodesGet(nodes)\n",
    "last_node_number = nodes.NumberOfNodesGet()\n",
    "\n",
    "# Create boundary conditions object and set first and last nodes to 0.0 and 1.0\n",
    "boundary_conditions = iron.BoundaryConditions()\n",
    "solver_equations.BoundaryConditionsCreateStart(boundary_conditions)\n",
    "boundary_conditions.SetNode(\n",
    "    dependent_field, iron.FieldVariableTypes.U, 1, 1, first_node_number,\n",
    "    1, iron.BoundaryConditionsTypes.FIXED, 0.0)\n",
    "boundary_conditions.SetNode(\n",
    "    dependent_field, iron.FieldVariableTypes.U, 1, 1, last_node_number,\n",
    "    1, iron.BoundaryConditionsTypes.FIXED, 1.0)\n",
    "solver_equations.BoundaryConditionsCreateFinish()"
   ]
  },
  {
   "cell_type": "markdown",
   "metadata": {},
   "source": [
    "### 15. Solving the problem\n",
    "\n",
    "After our problem solver equations have been fully defined we are now ready to solve our problem. When we call the Solve method of the problem it will loop over the control loops and control loop solvers to solve our problem:"
   ]
  },
  {
   "cell_type": "code",
   "execution_count": 21,
   "metadata": {
    "pycharm": {
     "name": "#%%\n"
    }
   },
   "outputs": [],
   "source": [
    "# Solve the problem.\n",
    "problem.Solve()"
   ]
  },
  {
   "cell_type": "markdown",
   "metadata": {},
   "source": [
    "## Visualising results\n",
    "\n",
    "We can now visualise the resulting solution using pythreejs."
   ]
  },
  {
   "cell_type": "code",
   "execution_count": 22,
   "metadata": {
    "pycharm": {
     "name": "#%%\n"
    }
   },
   "outputs": [
    {
     "data": {
      "application/vnd.jupyter.widget-view+json": {
       "model_id": "3345ec152c714f958dd8ed4c7ee47161",
       "version_major": 2,
       "version_minor": 0
      },
      "text/plain": [
       "Renderer(camera=PerspectiveCamera(position=(3.0, 3.0, 3.0), projectionMatrix=(1.0, 0.0, 0.0, 0.0, 0.0, 1.0, 0.…"
      ]
     },
     "metadata": {},
     "output_type": "display_data"
    }
   ],
   "source": [
    "renderer = threejs_visualiser.visualise(\n",
    "    mesh, geometric_field, number_of_dimensions, xi_interpolation,\n",
    "    dependent_field=dependent_field,\n",
    "    variable=iron.FieldVariableTypes.U,\n",
    "    colour_map_dependent_component_number=1, resolution=8)"
   ]
  },
  {
   "cell_type": "markdown",
   "metadata": {},
   "source": [
    "## Exporting solutions\n",
    "\n",
    "Now we want to have the results of the run be stored for visualisation in Cmgui."
   ]
  },
  {
   "cell_type": "code",
   "execution_count": 23,
   "metadata": {
    "pycharm": {
     "name": "#%%\n"
    }
   },
   "outputs": [],
   "source": [
    "# Export results in Exfile format.\n",
    "fields = iron.Fields()\n",
    "fields.CreateRegion(region)\n",
    "fields.NodesExport(\"laplace_equation\", \"FORTRAN\")\n",
    "fields.ElementsExport(\"laplace_equation\", \"FORTRAN\")\n",
    "fields.Finalise()"
   ]
  },
  {
   "cell_type": "markdown",
   "metadata": {
    "pycharm": {
     "name": "#%% md\n"
    }
   },
   "source": [
    "The simulation results should stored in the local directory as two files: `laplace_equation.exnode` and laplace_equation.exelem. The `laplace_equation.exnode` contains the data of the solution $f(x,y)$ associated with each node. The `laplace_equation.exelem` file contains the topology of the mesh, and associates each element with its corresponding nodes."
   ]
  },
  {
   "cell_type": "markdown",
   "metadata": {
    "pycharm": {
     "name": "#%% md\n"
    }
   },
   "source": [
    "## Finalising session\n",
    "\n",
    "Let the library know that you are done with computations and the resources allocated for the problem can now be released."
   ]
  },
  {
   "cell_type": "code",
   "execution_count": 24,
   "metadata": {
    "pycharm": {
     "name": "#%%\n"
    }
   },
   "outputs": [],
   "source": [
    "problem.Destroy()\n",
    "coordinate_system.Destroy()\n",
    "region.Destroy()\n",
    "basis.Destroy()\n",
    "\n",
    "iron.Finalise()"
   ]
  },
  {
   "cell_type": "markdown",
   "metadata": {
    "pycharm": {
     "name": "#%% md\n"
    }
   },
   "source": [
    "## Modifying the simulation from the 3D to 2D Laplace problem\n",
    "To run a 1D or 2D Laplace problem using OpenCMISS-Iron, simple changes need to be made to above code in the `iron.CoordinateSystem()` class, the `iron.Basis()` class, and the `iron.GeneratedMesh()` class. However, for completeness, we summarise the code changes required to convert from a 3D Laplace problem to a 2D problem in the table below:\n",
    "\n",
    "| 2D                                                                                      | 3D                                                                                                               |\n",
    "|-----------------------------------------------------------------------------------------|------------------------------------------------------------------------------------------------------------------|\n",
    "| `coordinate_system.DimensionSet(2)`                                                       | `coordinate_system.DimensionSet(3)`                                                                                |\n",
    "| `basis.NumberOfXiSet(2)`                                                                  | `basis.NumberOfXiSet(3)`                                                                                           |\n",
    "| `basis.InterpolationXiSet([iron.BasisInterpolationSpecifications.LINEAR_LAGRANGE]\\*2)`    | `basis.InterpolationXiSet([iron.BasisInterpolationSpecifications.LINEAR_LAGRANGE]\\*3)`                             |\n",
    "| `basis.quadratureNumberOfGaussXi([3,3])`                                                  | `basis.quadratureNumberOfGaussXi([3,3,3])`                                                                         |\n",
    "| `generated_mesh.ExtentSet([width, height])`                                               | `generated_mesh.ExtentSet([width, height, length])`                                                                |\n",
    "| `generated_mesh.NumberOfElementsSet([number_global_x_elements,number_global_y_elements])` | `generated_mesh.NumberOfElementsSet([number_global_x_elements,number_global_y_elements,number_global_z_elements])` |\n",
    "\n",
    "The same Boundary Conditions can be defined in this example as it is based on the first and last node. However, in general, care must be taken in how the boundary conditions are defined for the users problem.\n",
    "\n",
    "These changes have already been incorporated into this tutorial (you can see the required changes in the python `if` statements used in their corresponding sections of the code above). Simply change the `number_of_dimensions` variable defined when creating the OpenCMISS-Iron basis object to switch between 1D, 2D, or 3D Laplace problems. You can then restart the Jupyter notebook kernel and re-run the tutorial."
   ]
  },
  {
   "cell_type": "code",
   "execution_count": null,
   "metadata": {},
   "outputs": [],
   "source": []
  }
 ],
 "metadata": {
  "kernelspec": {
   "display_name": "Python 3",
   "language": "python",
   "name": "python3"
  },
  "language_info": {
   "codemirror_mode": {
    "name": "ipython",
    "version": 3
   },
   "file_extension": ".py",
   "mimetype": "text/x-python",
   "name": "python",
   "nbconvert_exporter": "python",
   "pygments_lexer": "ipython3",
   "version": "3.8.6"
  },
  "widgets": {
   "application/vnd.jupyter.widget-state+json": {
    "state": {
     "007fc67b03f24a50a051916245f0bea0": {
      "model_module": "jupyter-threejs",
      "model_module_version": "^2.1.0",
      "model_name": "SpriteModel",
      "state": {
       "_view_module": null,
       "_view_module_version": "",
       "material": "IPY_MODEL_f8b93eb578a140f5926542d611ebd2c6",
       "matrix": [
        0.05,
        0,
        0,
        0,
        0,
        0.07500000000000001,
        0,
        0,
        0,
        0,
        0.05,
        0,
        1,
        0.5,
        1,
        1
       ],
       "position": [
        1,
        0.5,
        1
       ],
       "scale": [
        0.05,
        0.07500000000000001,
        0.05
       ]
      }
     },
     "00c8bfd7d34b438f8bddf79d1e5cc04e": {
      "model_module": "jupyter-threejs",
      "model_module_version": "^2.1.0",
      "model_name": "SpriteModel",
      "state": {
       "_view_module": null,
       "_view_module_version": "",
       "material": "IPY_MODEL_09ec9ee4f8d34c2c973212f07181e899",
       "matrix": [
        0.05,
        0,
        0,
        0,
        0,
        0.07500000000000001,
        0,
        0,
        0,
        0,
        0.05,
        0,
        1,
        0,
        0,
        1
       ],
       "position": [
        1,
        0,
        0
       ],
       "scale": [
        0.05,
        0.07500000000000001,
        0.05
       ]
      }
     },
     "0354c51499104ddb8a5f0abc27c9eb25": {
      "model_module": "jupyter-threejs",
      "model_module_version": "^2.1.0",
      "model_name": "TextTextureModel",
      "state": {
       "_view_module": null,
       "_view_module_version": "",
       "size": 100,
       "squareTexture": false,
       "string": "2",
       "version": 2
      }
     },
     "04853a4c78254a299b069fa78dc79004": {
      "model_module": "jupyter-threejs",
      "model_module_version": "^2.1.0",
      "model_name": "SpriteModel",
      "state": {
       "_view_module": null,
       "_view_module_version": "",
       "material": "IPY_MODEL_5c10c6e9f1954fd2a06cd9699c569e63",
       "matrix": [
        0.05,
        0,
        0,
        0,
        0,
        0.07500000000000001,
        0,
        0,
        0,
        0,
        0.05,
        0,
        0.5,
        1,
        1,
        1
       ],
       "position": [
        0.5,
        1,
        1
       ],
       "scale": [
        0.05,
        0.07500000000000001,
        0.05
       ]
      }
     },
     "049d1fda87d148358c426604517320c6": {
      "model_module": "jupyter-threejs",
      "model_module_version": "^2.1.0",
      "model_name": "TextTextureModel",
      "state": {
       "_view_module": null,
       "_view_module_version": "",
       "size": 100,
       "squareTexture": false,
       "string": "8",
       "version": 2
      }
     },
     "04f669c02d104d61b6489f70da2309aa": {
      "model_module": "jupyter-threejs",
      "model_module_version": "^2.1.0",
      "model_name": "RendererModel",
      "state": {
       "_height": 600,
       "_webgl_version": 2,
       "_width": 600,
       "camera": "IPY_MODEL_2e5acd4fe4764880a8af4d1575b1820e",
       "controls": [
        "IPY_MODEL_7c5a382ca6da4fb8a5a418e01447d6b1"
       ],
       "layout": "IPY_MODEL_6faf330ecdb94ed78eb1e2f1f4897b44",
       "scene": "IPY_MODEL_d8786c95e2474de8b0999dbeeabbc4a0",
       "shadowMap": "IPY_MODEL_844ae0731304416182b0083bbb06de8a"
      }
     },
     "05c838e8381e465ba5a1853f9ee9d68d": {
      "model_module": "jupyter-threejs",
      "model_module_version": "^2.1.0",
      "model_name": "SpriteModel",
      "state": {
       "_view_module": null,
       "_view_module_version": "",
       "material": "IPY_MODEL_8ac99563f521483e97344d23cd4444b6",
       "matrix": [
        0.05,
        0,
        0,
        0,
        0,
        0.07500000000000001,
        0,
        0,
        0,
        0,
        0.05,
        0,
        1,
        1,
        1,
        1
       ],
       "position": [
        1,
        1,
        1
       ],
       "scale": [
        0.05,
        0.07500000000000001,
        0.05
       ]
      }
     },
     "05da77cd5ddc4e1bb7966f15aa984bd4": {
      "model_module": "jupyter-threejs",
      "model_module_version": "^2.1.0",
      "model_name": "SpriteModel",
      "state": {
       "_view_module": null,
       "_view_module_version": "",
       "material": "IPY_MODEL_a31c686862e044ccacd8cc7872a27350",
       "matrix": [
        0.05,
        0,
        0,
        0,
        0,
        0.07500000000000001,
        0,
        0,
        0,
        0,
        0.05,
        0,
        0,
        0.5,
        0.5,
        1
       ],
       "position": [
        0,
        0.5,
        0.5
       ],
       "scale": [
        0.05,
        0.07500000000000001,
        0.05
       ]
      }
     },
     "064500540f6943119cd97bbe4d233896": {
      "model_module": "jupyter-threejs",
      "model_module_version": "^2.1.0",
      "model_name": "MeshModel",
      "state": {
       "_view_module": null,
       "_view_module_version": "",
       "geometry": "IPY_MODEL_1b50acd2372a40fbb0887a3cd5810d9a",
       "material": "IPY_MODEL_5ddebb3664484802a0285395d918b710",
       "morphTargetInfluences": []
      }
     },
     "06b0d0a17b8e461c8207416efee3e921": {
      "model_module": "jupyter-threejs",
      "model_module_version": "^2.1.0",
      "model_name": "SpriteMaterialModel",
      "state": {
       "_view_module": null,
       "_view_module_version": "",
       "map": "IPY_MODEL_dac9343c00a04c7db69db2df2a91479a"
      }
     },
     "07446174e82c49068d51e53bef77cc1d": {
      "model_module": "jupyter-threejs",
      "model_module_version": "^2.1.0",
      "model_name": "MeshModel",
      "state": {
       "_view_module": null,
       "_view_module_version": "",
       "geometry": "IPY_MODEL_f712465e90cd4b2ea6554a611ad7f8fc",
       "material": "IPY_MODEL_79d562a1d8fa4784ba77c5e5e17ce69a",
       "morphTargetInfluences": []
      }
     },
     "083ed9cb3ea54407aaa60c271d01d9dc": {
      "model_module": "jupyter-threejs",
      "model_module_version": "^2.1.0",
      "model_name": "TextTextureModel",
      "state": {
       "_view_module": null,
       "_view_module_version": "",
       "size": 100,
       "squareTexture": false,
       "string": "19",
       "version": 2
      }
     },
     "085470f0cc2b4d69b0c8e9b577516225": {
      "model_module": "jupyter-threejs",
      "model_module_version": "^2.1.0",
      "model_name": "SpriteMaterialModel",
      "state": {
       "_view_module": null,
       "_view_module_version": "",
       "map": "IPY_MODEL_508ce1c6559a46c3bf70b181b3de8471"
      }
     },
     "085b382f9c1e44589dbfa74dcc78b763": {
      "model_module": "jupyter-threejs",
      "model_module_version": "^2.1.0",
      "model_name": "SpriteMaterialModel",
      "state": {
       "_view_module": null,
       "_view_module_version": "",
       "map": "IPY_MODEL_5e839f52c4194e09a9d3cc79d245f106"
      }
     },
     "08cc21fcf5ff4412a1081e0d555ac95d": {
      "model_module": "jupyter-threejs",
      "model_module_version": "^2.1.0",
      "model_name": "MeshLambertMaterialModel",
      "state": {
       "_view_module": null,
       "_view_module_version": "",
       "vertexColors": "VertexColors"
      }
     },
     "0986bcf3086249699386817dcbca0fa7": {
      "model_module": "jupyter-threejs",
      "model_module_version": "^2.1.0",
      "model_name": "TextTextureModel",
      "state": {
       "_view_module": null,
       "_view_module_version": "",
       "size": 100,
       "squareTexture": false,
       "string": "17",
       "version": 2
      }
     },
     "09ec9ee4f8d34c2c973212f07181e899": {
      "model_module": "jupyter-threejs",
      "model_module_version": "^2.1.0",
      "model_name": "SpriteMaterialModel",
      "state": {
       "_view_module": null,
       "_view_module_version": "",
       "map": "IPY_MODEL_d6b7291d8dc64486b1f010b2a7d75d9e"
      }
     },
     "0a47a56795af4e41bd5573e945f1d1e6": {
      "model_module": "jupyter-threejs",
      "model_module_version": "^2.1.0",
      "model_name": "MeshLambertMaterialModel",
      "state": {
       "_view_module": null,
       "_view_module_version": "",
       "side": "BackSide",
       "vertexColors": "VertexColors"
      }
     },
     "0a8b0620bc184d85a5fa481547a110a9": {
      "model_module": "jupyter-threejs",
      "model_module_version": "^2.1.0",
      "model_name": "SpriteMaterialModel",
      "state": {
       "_view_module": null,
       "_view_module_version": "",
       "map": "IPY_MODEL_64b136719d234b9f951f3b0d0f019d37"
      }
     },
     "0e90517199f44742b7231c88194f99c6": {
      "model_module": "jupyter-threejs",
      "model_module_version": "^2.1.0",
      "model_name": "SpriteModel",
      "state": {
       "_view_module": null,
       "_view_module_version": "",
       "material": "IPY_MODEL_e54796074d5147e6a0f0e238c4f67c08",
       "matrix": [
        0.05,
        0,
        0,
        0,
        0,
        0.07500000000000001,
        0,
        0,
        0,
        0,
        0.05,
        0,
        0,
        0.5,
        1,
        1
       ],
       "position": [
        0,
        0.5,
        1
       ],
       "scale": [
        0.05,
        0.07500000000000001,
        0.05
       ]
      }
     },
     "0ea23b7a8b8b4fc097aa71640fe89f63": {
      "model_module": "jupyter-threejs",
      "model_module_version": "^2.1.0",
      "model_name": "TextTextureModel",
      "state": {
       "_view_module": null,
       "_view_module_version": "",
       "size": 100,
       "squareTexture": false,
       "string": "x",
       "version": 2
      }
     },
     "0f841c5d755a477caf9b2ed7015f7510": {
      "model_module": "jupyter-threejs",
      "model_module_version": "^2.1.0",
      "model_name": "OrbitControlsModel",
      "state": {
       "_view_module": null,
       "_view_module_version": "",
       "controlling": "IPY_MODEL_1d039f4766f645818f901cd169a39691",
       "maxAzimuthAngle": "inf",
       "maxDistance": "inf",
       "maxZoom": "inf",
       "minAzimuthAngle": "-inf",
       "target": [
        0.5,
        0.5,
        0.5
       ]
      }
     },
     "0ff2cc9c691d49078ef8c0adfd08ec5f": {
      "model_module": "jupyter-threejs",
      "model_module_version": "^2.1.0",
      "model_name": "SpriteMaterialModel",
      "state": {
       "_view_module": null,
       "_view_module_version": "",
       "map": "IPY_MODEL_71a2898416214481b6bfb7c68d831f59"
      }
     },
     "1053a66fdb2843cca48ee3cb221614d7": {
      "model_module": "jupyter-threejs",
      "model_module_version": "^2.1.0",
      "model_name": "SpriteModel",
      "state": {
       "_view_module": null,
       "_view_module_version": "",
       "material": "IPY_MODEL_24c61dd33b444041b8c9d8c4f5aaaea5",
       "matrix": [
        0.05,
        0,
        0,
        0,
        0,
        0.07500000000000001,
        0,
        0,
        0,
        0,
        0.05,
        0,
        1,
        0,
        0,
        1
       ],
       "position": [
        1,
        0,
        0
       ],
       "scale": [
        0.05,
        0.07500000000000001,
        0.05
       ]
      }
     },
     "122f7869f417430bb0a025e12d2e63c2": {
      "model_module": "jupyter-threejs",
      "model_module_version": "^2.1.0",
      "model_name": "GroupModel",
      "state": {
       "_view_module": null,
       "_view_module_version": "",
       "children": [
        "IPY_MODEL_c3888378d4294626a0fdec0f7619f2cd",
        "IPY_MODEL_c73e66ec175244cb94806d198ba5f0bf"
       ]
      }
     },
     "12ca518c36ba4a30a080ba4000d9204b": {
      "model_module": "jupyter-threejs",
      "model_module_version": "^2.1.0",
      "model_name": "TextTextureModel",
      "state": {
       "_view_module": null,
       "_view_module_version": "",
       "size": 100,
       "squareTexture": false,
       "string": "2",
       "version": 2
      }
     },
     "13cc089ba0dd4a04b649a6c06865cd90": {
      "model_module": "jupyter-threejs",
      "model_module_version": "^2.1.0",
      "model_name": "TextTextureModel",
      "state": {
       "_view_module": null,
       "_view_module_version": "",
       "size": 100,
       "squareTexture": false,
       "string": "25",
       "version": 2
      }
     },
     "1508ccce6ecb4ece98f35655cd4cc881": {
      "model_module": "jupyter-threejs",
      "model_module_version": "^2.1.0",
      "model_name": "SpriteModel",
      "state": {
       "_view_module": null,
       "_view_module_version": "",
       "material": "IPY_MODEL_438bcd8ace8d4f9591f5fdc3019d6032",
       "matrix": [
        0.05,
        0,
        0,
        0,
        0,
        0.07500000000000001,
        0,
        0,
        0,
        0,
        0.05,
        0,
        0.5,
        0,
        1,
        1
       ],
       "position": [
        0.5,
        0,
        1
       ],
       "scale": [
        0.05,
        0.07500000000000001,
        0.05
       ]
      }
     },
     "154bea83ba544d589a92e2e8b0b68ff8": {
      "model_module": "jupyter-threejs",
      "model_module_version": "^2.1.0",
      "model_name": "SpriteModel",
      "state": {
       "_view_module": null,
       "_view_module_version": "",
       "material": "IPY_MODEL_454ed283184a40eb9c93ec1f725160fa",
       "matrix": [
        0.05,
        0,
        0,
        0,
        0,
        0.07500000000000001,
        0,
        0,
        0,
        0,
        0.05,
        0,
        0.5,
        0.5,
        0.5,
        1
       ],
       "position": [
        0.5,
        0.5,
        0.5
       ],
       "scale": [
        0.05,
        0.07500000000000001,
        0.05
       ]
      }
     },
     "16d01903353d4a0089c3f4d7f09bfa8b": {
      "model_module": "jupyter-threejs",
      "model_module_version": "^2.1.0",
      "model_name": "AmbientLightModel",
      "state": {
       "_view_module": null,
       "_view_module_version": "",
       "intensity": 0.8
      }
     },
     "17aaf546392643a1885958af08bcbeab": {
      "model_module": "jupyter-threejs",
      "model_module_version": "^2.1.0",
      "model_name": "PerspectiveCameraModel",
      "state": {
       "_view_module": null,
       "_view_module_version": "",
       "matrix": [
        -0.7071067811865475,
        0.7071067811865475,
        5.551115123125783e-17,
        0,
        -0.40824829046386296,
        -0.4082482904638629,
        0.8164965809277259,
        0,
        0.5773502691896257,
        0.5773502691896256,
        0.577350269189626,
        0,
        3,
        3,
        3,
        1
       ],
       "matrixWorld": [
        -0.7071067811865475,
        0.7071067811865475,
        5.551115123125783e-17,
        0,
        -0.40824829046386296,
        -0.4082482904638629,
        0.8164965809277259,
        0,
        0.5773502691896257,
        0.5773502691896256,
        0.577350269189626,
        0,
        3,
        3,
        3,
        1
       ],
       "matrixWorldInverse": [
        -0.7071067811865475,
        -0.4082482904638632,
        0.5773502691896257,
        0,
        0.7071067811865476,
        -0.4082482904638633,
        0.5773502691896257,
        0,
        0,
        0.816496580927726,
        0.5773502691896256,
        0,
        -3.3306690738754706e-16,
        1.3322676295501882e-15,
        -5.196152422706632,
        0.9999999999999999
       ],
       "position": [
        3,
        3,
        3
       ],
       "projectionMatrix": [
        2.1445069205095586,
        0,
        0,
        0,
        0,
        2.1445069205095586,
        0,
        0,
        0,
        0,
        -1.00010000500025,
        -1,
        0,
        0,
        -0.200010000500025,
        0
       ],
       "quaternion": [
        0.17591989660616114,
        0.4247082002778668,
        0.8204732385702833,
        0.3398511429799873
       ],
       "rotation": [
        -0.7853981633974481,
        0.6154797086703874,
        2.6179938779914944,
        "XYZ"
       ],
       "up": [
        0,
        0,
        1
       ]
      }
     },
     "194ffbceb1b94ee6bec11fee026f3e18": {
      "model_module": "jupyter-threejs",
      "model_module_version": "^2.1.0",
      "model_name": "TextTextureModel",
      "state": {
       "_view_module": null,
       "_view_module_version": "",
       "size": 100,
       "squareTexture": false,
       "string": "6",
       "version": 2
      }
     },
     "1abb43a503d94e8198efb0d97a8452ac": {
      "buffers": [
       {
        "data": "AAABAAIAAQADAAIABAAFAAYABQAHAAYACAAJAAoACQALAAoADAANAA4ADQAPAA4AEAARABIAEQATABIAFAAVABYAFQAXABYAGAAZABoAGQAbABoAHAAdAB4AHQAfAB4AIAAhACIAIQAjACIAJAAlACYAJQAnACYAKAApACoAKQArACoALAAtAC4ALQAvAC4AMAAxADIAMQAzADIANAA1ADYANQA3ADYAOAA5ADoAOQA7ADoAPAA9AD4APQA/AD4AQABBAEIAQQBDAEIARABFAEYARQBHAEYASABJAEoASQBLAEoATABNAE4ATQBPAE4AUABRAFIAUQBTAFIAVABVAFYAVQBXAFYAWABZAFoAWQBbAFoAXABdAF4AXQBfAF4A",
        "encoding": "base64",
        "path": [
         "array",
         "buffer"
        ]
       }
      ],
      "model_module": "jupyter-threejs",
      "model_module_version": "^2.1.0",
      "model_name": "BufferAttributeModel",
      "state": {
       "_view_module": null,
       "_view_module_version": "",
       "array": {
        "buffer": {},
        "dtype": "uint16",
        "shape": [
         144
        ]
       },
       "version": 2
      }
     },
     "1b50acd2372a40fbb0887a3cd5810d9a": {
      "model_module": "jupyter-threejs",
      "model_module_version": "^2.1.0",
      "model_name": "BufferGeometryModel",
      "state": {
       "_view_module": null,
       "_view_module_version": "",
       "attributes": {
        "color": "IPY_MODEL_716744b3a46543f59f113311a65c9e05",
        "position": "IPY_MODEL_328802029c0942e4a0b323cd506dd738"
       },
       "index": "IPY_MODEL_ce71f12f4f5347d598cebb57dc00f4c5"
      }
     },
     "1d039f4766f645818f901cd169a39691": {
      "model_module": "jupyter-threejs",
      "model_module_version": "^2.1.0",
      "model_name": "PerspectiveCameraModel",
      "state": {
       "_view_module": null,
       "_view_module_version": "",
       "matrix": [
        0.7071067811865477,
        2.7755575615628914e-17,
        -0.7071067811865474,
        0,
        -0.4082482904638629,
        0.816496580927726,
        -0.40824829046386296,
        0,
        0.5773502691896256,
        0.5773502691896256,
        0.577350269189626,
        0,
        3,
        3,
        3,
        1
       ],
       "matrixWorld": [
        0.7071067811865477,
        2.7755575615628914e-17,
        -0.7071067811865474,
        0,
        -0.4082482904638629,
        0.816496580927726,
        -0.40824829046386296,
        0,
        0.5773502691896256,
        0.5773502691896256,
        0.577350269189626,
        0,
        3,
        3,
        3,
        1
       ],
       "position": [
        3,
        3,
        3
       ],
       "projectionMatrix": [
        2.1445069205095586,
        0,
        0,
        0,
        0,
        2.1445069205095586,
        0,
        0,
        0,
        0,
        -1.00010000500025,
        -1,
        0,
        0,
        -0.200010000500025,
        0
       ],
       "quaternion": [
        -0.2798481423331213,
        0.3647051996310008,
        0.11591689595929511,
        0.8804762392171493
       ],
       "rotation": [
        -0.7853981633974481,
        0.6154797086703871,
        0.5235987755982987,
        "XYZ"
       ]
      }
     },
     "1dc2beebfff04e09a36fccc1f01db277": {
      "model_module": "jupyter-threejs",
      "model_module_version": "^2.1.0",
      "model_name": "SpriteMaterialModel",
      "state": {
       "_view_module": null,
       "_view_module_version": "",
       "map": "IPY_MODEL_0986bcf3086249699386817dcbca0fa7"
      }
     },
     "20a28d660d61434eacff44ecbc833397": {
      "model_module": "jupyter-threejs",
      "model_module_version": "^2.1.0",
      "model_name": "SpriteMaterialModel",
      "state": {
       "_view_module": null,
       "_view_module_version": "",
       "map": "IPY_MODEL_5af43441247546b0a1b4d400c6e4531c"
      }
     },
     "20eb560a2836481bbe405ab289b98f70": {
      "buffers": [
       {
        "data": "AAAAPwAAAD8AAAA/AAAAPwAAAD8AAAA/AAAAPwAAAD8AAAA/AAAAPwAAAD8AAAA/AAAAPwAAAD8AAAA/AAAAPwAAAD8AAAA/AAAAPwAAAD8AAAA/AAAAPwAAAD8AAAA/AAAAPwAAAD8AAAA/AAAAPwAAAD8AAAA/AAAAPwAAAD8AAAA/AAAAPwAAAD8AAAA/AAAAPwAAAD8AAAA/AAAAPwAAAD8AAAA/AAAAPwAAAD8AAAA/AAAAPwAAAD8AAAA/AAAAPwAAAD8AAAA/AAAAPwAAAD8AAAA/AAAAPwAAAD8AAAA/AAAAPwAAAD8AAAA/AAAAPwAAAD8AAAA/AAAAPwAAAD8AAAA/AAAAPwAAAD8AAAA/AAAAPwAAAD8AAAA/AAAAPwAAAD8AAAA/AAAAPwAAAD8AAAA/AAAAPwAAAD8AAAA/AAAAPwAAAD8AAAA/AAAAPwAAAD8AAAA/AAAAPwAAAD8AAAA/AAAAPwAAAD8AAAA/AAAAPwAAAD8AAAA/AAAAPwAAAD8AAAA/AAAAPwAAAD8AAAA/AAAAPwAAAD8AAAA/AAAAPwAAAD8AAAA/AAAAPwAAAD8AAAA/AAAAPwAAAD8AAAA/AAAAPwAAAD8AAAA/AAAAPwAAAD8AAAA/AAAAPwAAAD8AAAA/AAAAPwAAAD8AAAA/AAAAPwAAAD8AAAA/AAAAPwAAAD8AAAA/AAAAPwAAAD8AAAA/AAAAPwAAAD8AAAA/AAAAPwAAAD8AAAA/AAAAPwAAAD8AAAA/AAAAPwAAAD8AAAA/AAAAPwAAAD8AAAA/AAAAPwAAAD8AAAA/AAAAPwAAAD8AAAA/AAAAPwAAAD8AAAA/AAAAPwAAAD8AAAA/AAAAPwAAAD8AAAA/AAAAPwAAAD8AAAA/AAAAPwAAAD8AAAA/AAAAPwAAAD8AAAA/AAAAPwAAAD8AAAA/AAAAPwAAAD8AAAA/AAAAPwAAAD8AAAA/AAAAPwAAAD8AAAA/AAAAPwAAAD8AAAA/AAAAPwAAAD8AAAA/AAAAPwAAAD8AAAA/AAAAPwAAAD8AAAA/AAAAPwAAAD8AAAA/AAAAPwAAAD8AAAA/AAAAPwAAAD8AAAA/AAAAPwAAAD8AAAA/AAAAPwAAAD8AAAA/AAAAPwAAAD8AAAA/AAAAPwAAAD8AAAA/AAAAPwAAAD8AAAA/AAAAPwAAAD8AAAA/AAAAPwAAAD8AAAA/AAAAPwAAAD8AAAA/AAAAPwAAAD8AAAA/AAAAPwAAAD8AAAA/AAAAPwAAAD8AAAA/AAAAPwAAAD8AAAA/AAAAPwAAAD8AAAA/AAAAPwAAAD8AAAA/AAAAPwAAAD8AAAA/AAAAPwAAAD8AAAA/AAAAPwAAAD8AAAA/AAAAPwAAAD8AAAA/AAAAPwAAAD8AAAA/AAAAPwAAAD8AAAA/AAAAPwAAAD8AAAA/AAAAPwAAAD8AAAA/AAAAPwAAAD8AAAA/AAAAPwAAAD8AAAA/AAAAPwAAAD8AAAA/AAAAPwAAAD8AAAA/AAAAPwAAAD8AAAA/",
        "encoding": "base64",
        "path": [
         "array",
         "buffer"
        ]
       }
      ],
      "model_module": "jupyter-threejs",
      "model_module_version": "^2.1.0",
      "model_name": "BufferAttributeModel",
      "state": {
       "_view_module": null,
       "_view_module_version": "",
       "array": {
        "buffer": {},
        "dtype": "float32",
        "shape": [
         96,
         3
        ]
       },
       "normalized": true,
       "version": 2
      }
     },
     "20f0fe95595e4120a2ee727b53be6013": {
      "model_module": "jupyter-threejs",
      "model_module_version": "^2.1.0",
      "model_name": "SpriteMaterialModel",
      "state": {
       "_view_module": null,
       "_view_module_version": "",
       "map": "IPY_MODEL_f93e79d9e43744edac85e79bffe9d202"
      }
     },
     "24c61dd33b444041b8c9d8c4f5aaaea5": {
      "model_module": "jupyter-threejs",
      "model_module_version": "^2.1.0",
      "model_name": "SpriteMaterialModel",
      "state": {
       "_view_module": null,
       "_view_module_version": "",
       "map": "IPY_MODEL_940c4118771c42ba98fa016a8f41276d"
      }
     },
     "27033c3eb1714f22b847bc7ee6ecd7ef": {
      "model_module": "jupyter-threejs",
      "model_module_version": "^2.1.0",
      "model_name": "TextTextureModel",
      "state": {
       "_view_module": null,
       "_view_module_version": "",
       "size": 100,
       "squareTexture": false,
       "string": "y",
       "version": 2
      }
     },
     "2743cc81acc24bbe8f242901838c48ba": {
      "model_module": "jupyter-threejs",
      "model_module_version": "^2.1.0",
      "model_name": "TextTextureModel",
      "state": {
       "_view_module": null,
       "_view_module_version": "",
       "size": 100,
       "squareTexture": false,
       "string": "23",
       "version": 2
      }
     },
     "281ab52b-6234-48cb-8ddb-b5f46a6679ba": {
      "model_module": "jupyter-threejs",
      "model_module_version": "^2.1.0",
      "model_name": "DirectionalLightShadowModel",
      "state": {
       "camera": "IPY_MODEL_c794201a-0832-4bcc-bf56-82c396939182"
      }
     },
     "285f3e716c054488a775bf94d07a383f": {
      "model_module": "jupyter-threejs",
      "model_module_version": "^2.1.0",
      "model_name": "SceneModel",
      "state": {
       "_view_module": null,
       "_view_module_version": "",
       "children": [
        "IPY_MODEL_9b5c40b73ea84bb38bb1b2c369576660",
        "IPY_MODEL_87ad3f91d1304ac3b8f9a5260f751f92",
        "IPY_MODEL_7379d191d67e433aa7cea1f904c095b7",
        "IPY_MODEL_9dc0a381bcfa4597b3ca4d7216a6839b",
        "IPY_MODEL_16d01903353d4a0089c3f4d7f09bfa8b",
        "IPY_MODEL_e0c4db7d42964caba662639bb627a70b",
        "IPY_MODEL_dc75d406d5e24911a68849d5a972c2b0",
        "IPY_MODEL_1053a66fdb2843cca48ee3cb221614d7",
        "IPY_MODEL_5c4a322f242f47b0a64b26a82c464d46",
        "IPY_MODEL_b081bc4030bb40d9bda75fa2e913fa15",
        "IPY_MODEL_e51caf0c11014cd1b12bc5d2e5e6edb8",
        "IPY_MODEL_c9776d145db6412585e22d619cc9df3d",
        "IPY_MODEL_ff053ce7694645ddb3c199a55bd75363",
        "IPY_MODEL_761af75658124c399cbcdf194690d4a4",
        "IPY_MODEL_96091a9ed97a4096bee523a1444bec16",
        "IPY_MODEL_72dc36d1c5c247928ef386ae63a05c50",
        "IPY_MODEL_89ac5640dcd14353828d09f892d6ea25",
        "IPY_MODEL_898095a24a144e689f0f4c3b19ef3480",
        "IPY_MODEL_a9d80f62cb0c4692a3933507158ae79c",
        "IPY_MODEL_38a3629dc3664b35bce1f24aa3aae70b",
        "IPY_MODEL_3bc8312deedc4923a672264bd0f46596",
        "IPY_MODEL_de17c70c32fd43c7b1c005675dc3961f",
        "IPY_MODEL_f56c518dd2254ffd8c6a6d7164f72128",
        "IPY_MODEL_38372b5a2c494e58bfc6986d04aea964",
        "IPY_MODEL_1508ccce6ecb4ece98f35655cd4cc881",
        "IPY_MODEL_6927bdd1b1614355869b695ef0a0abd4",
        "IPY_MODEL_516f92199ab444bca45c7a3164c17119",
        "IPY_MODEL_975537f9198f4d26a073926868f4ea0a",
        "IPY_MODEL_56431a5601d1457b900ce7182d2b9b54",
        "IPY_MODEL_f254598bb9344ddabd66e891c8168dbf",
        "IPY_MODEL_45d87206d70c4540a708ace36ea15aae",
        "IPY_MODEL_7be951c5267e448cb63a4586b3f1c013",
        "IPY_MODEL_3035ae77439f4dcdaf52f4d83ba68f89",
        "IPY_MODEL_dc13f195cc00406ea173d2dfccae1025",
        "IPY_MODEL_723e88f0dde04787bd6d28a4bf4d8297"
       ]
      }
     },
     "28d546b29574417b8b578dcbf042a13f": {
      "model_module": "jupyter-threejs",
      "model_module_version": "^2.1.0",
      "model_name": "SpriteMaterialModel",
      "state": {
       "_view_module": null,
       "_view_module_version": "",
       "map": "IPY_MODEL_7be6738ba8944bf7a19ad0d66f82795b"
      }
     },
     "292b0530e5e04ad3bee9d8aae175832b": {
      "model_module": "jupyter-threejs",
      "model_module_version": "^2.1.0",
      "model_name": "SpriteMaterialModel",
      "state": {
       "_view_module": null,
       "_view_module_version": "",
       "map": "IPY_MODEL_64bf7b4f4af147f780ab7c457d5a5430"
      }
     },
     "29a37fc51e454fcdb689ba8639a4e87a": {
      "model_module": "jupyter-threejs",
      "model_module_version": "^2.1.0",
      "model_name": "SpriteMaterialModel",
      "state": {
       "_view_module": null,
       "_view_module_version": "",
       "map": "IPY_MODEL_dc6358d521164146be8088ec3a8b7ae5"
      }
     },
     "2a0999d1-5f54-4b3b-9360-0248e929bc6b": {
      "model_module": "jupyter-threejs",
      "model_module_version": "^2.1.0",
      "model_name": "Object3DModel",
      "state": {}
     },
     "2adc5da295354e2c93df4eefe9674bcf": {
      "model_module": "jupyter-threejs",
      "model_module_version": "^2.1.0",
      "model_name": "SpriteMaterialModel",
      "state": {
       "_view_module": null,
       "_view_module_version": "",
       "map": "IPY_MODEL_d4e2e5b2ba83434a92d79580ad02cf54"
      }
     },
     "2b4569e7d64b48fc8c9d1b314207ca29": {
      "model_module": "jupyter-threejs",
      "model_module_version": "^2.1.0",
      "model_name": "SpriteModel",
      "state": {
       "_view_module": null,
       "_view_module_version": "",
       "material": "IPY_MODEL_ed66779780ab4ed79ee99699791d6225",
       "matrix": [
        0.05,
        0,
        0,
        0,
        0,
        0.07500000000000001,
        0,
        0,
        0,
        0,
        0.05,
        0,
        0.5,
        0.5,
        0,
        1
       ],
       "position": [
        0.5,
        0.5,
        0
       ],
       "scale": [
        0.05,
        0.07500000000000001,
        0.05
       ]
      }
     },
     "2b45eb151b014129bbcb0cdac0ab6398": {
      "model_module": "jupyter-threejs",
      "model_module_version": "^2.1.0",
      "model_name": "SpriteMaterialModel",
      "state": {
       "_view_module": null,
       "_view_module_version": "",
       "map": "IPY_MODEL_885b0d17cd4542e6a022ba54d67b6c6e"
      }
     },
     "2bf19694-7fcd-44a4-9c71-16079e6d92bc": {
      "model_module": "jupyter-threejs",
      "model_module_version": "^2.1.0",
      "model_name": "OrthographicCameraModel",
      "state": {
       "bottom": -5,
       "far": 500,
       "left": -5,
       "near": 0.5,
       "projectionMatrix": [
        0.2,
        0,
        0,
        0,
        0,
        0.2,
        0,
        0,
        0,
        0,
        -0.004004004004004004,
        0,
        0,
        0,
        -1.002002002002002,
        1
       ],
       "right": 5,
       "top": 5
      }
     },
     "2cb5e8fbecdb49fd8ebd2b46894acd22": {
      "model_module": "jupyter-threejs",
      "model_module_version": "^2.1.0",
      "model_name": "TextTextureModel",
      "state": {
       "_view_module": null,
       "_view_module_version": "",
       "size": 100,
       "squareTexture": false,
       "string": "26",
       "version": 2
      }
     },
     "2e5acd4fe4764880a8af4d1575b1820e": {
      "model_module": "jupyter-threejs",
      "model_module_version": "^2.1.0",
      "model_name": "PerspectiveCameraModel",
      "state": {
       "_view_module": null,
       "_view_module_version": "",
       "matrix": [
        -0.7071067811865475,
        0.7071067811865475,
        5.551115123125783e-17,
        0,
        -0.40824829046386296,
        -0.4082482904638629,
        0.8164965809277259,
        0,
        0.5773502691896257,
        0.5773502691896256,
        0.577350269189626,
        0,
        3,
        3,
        3,
        1
       ],
       "matrixWorld": [
        -0.7071067811865475,
        0.7071067811865475,
        5.551115123125783e-17,
        0,
        -0.40824829046386296,
        -0.4082482904638629,
        0.8164965809277259,
        0,
        0.5773502691896257,
        0.5773502691896256,
        0.577350269189626,
        0,
        3,
        3,
        3,
        1
       ],
       "matrixWorldInverse": [
        -0.7071067811865475,
        -0.4082482904638632,
        0.5773502691896257,
        0,
        0.7071067811865476,
        -0.4082482904638633,
        0.5773502691896257,
        0,
        0,
        0.816496580927726,
        0.5773502691896256,
        0,
        -3.3306690738754706e-16,
        1.3322676295501882e-15,
        -5.196152422706632,
        0.9999999999999999
       ],
       "position": [
        3,
        3,
        3
       ],
       "projectionMatrix": [
        2.1445069205095586,
        0,
        0,
        0,
        0,
        2.1445069205095586,
        0,
        0,
        0,
        0,
        -1.00010000500025,
        -1,
        0,
        0,
        -0.200010000500025,
        0
       ],
       "quaternion": [
        0.17591989660616114,
        0.4247082002778668,
        0.8204732385702833,
        0.3398511429799873
       ],
       "rotation": [
        -0.7853981633974481,
        0.6154797086703874,
        2.6179938779914944,
        "XYZ"
       ],
       "up": [
        0,
        0,
        1
       ]
      }
     },
     "3035ae77439f4dcdaf52f4d83ba68f89": {
      "model_module": "jupyter-threejs",
      "model_module_version": "^2.1.0",
      "model_name": "SpriteModel",
      "state": {
       "_view_module": null,
       "_view_module_version": "",
       "material": "IPY_MODEL_e5f7d1a2e5e34c2a950b1a62199ec535",
       "matrix": [
        0.05,
        0,
        0,
        0,
        0,
        0.07500000000000001,
        0,
        0,
        0,
        0,
        0.05,
        0,
        2,
        0,
        0,
        1
       ],
       "position": [
        2,
        0,
        0
       ],
       "scale": [
        0.05,
        0.07500000000000001,
        0.05
       ]
      }
     },
     "328802029c0942e4a0b323cd506dd738": {
      "buffers": [
       {
        "data": "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",
        "encoding": "base64",
        "path": [
         "array",
         "buffer"
        ]
       }
      ],
      "model_module": "jupyter-threejs",
      "model_module_version": "^2.1.0",
      "model_name": "BufferAttributeModel",
      "state": {
       "_view_module": null,
       "_view_module_version": "",
       "array": {
        "buffer": {},
        "dtype": "float32",
        "shape": [
         1944,
         3
        ]
       },
       "version": 2
      }
     },
     "32b6d1501f8545c194560239de12882d": {
      "model_module": "jupyter-threejs",
      "model_module_version": "^2.1.0",
      "model_name": "TextTextureModel",
      "state": {
       "_view_module": null,
       "_view_module_version": "",
       "size": 100,
       "squareTexture": false,
       "string": "18",
       "version": 2
      }
     },
     "349f1dc316a14b17afaab0adad3c5925": {
      "model_module": "jupyter-threejs",
      "model_module_version": "^2.1.0",
      "model_name": "TextTextureModel",
      "state": {
       "_view_module": null,
       "_view_module_version": "",
       "size": 100,
       "squareTexture": false,
       "string": "z",
       "version": 2
      }
     },
     "36f2a525f4f642869f5b116bf401fcb8": {
      "model_module": "jupyter-threejs",
      "model_module_version": "^2.1.0",
      "model_name": "TextTextureModel",
      "state": {
       "_view_module": null,
       "_view_module_version": "",
       "size": 100,
       "squareTexture": false,
       "string": "1",
       "version": 2
      }
     },
     "376f900a5fff480eb452e422128fc402": {
      "model_module": "jupyter-threejs",
      "model_module_version": "^2.1.0",
      "model_name": "TextTextureModel",
      "state": {
       "_view_module": null,
       "_view_module_version": "",
       "size": 100,
       "squareTexture": false,
       "string": "4",
       "version": 2
      }
     },
     "38372b5a2c494e58bfc6986d04aea964": {
      "model_module": "jupyter-threejs",
      "model_module_version": "^2.1.0",
      "model_name": "SpriteModel",
      "state": {
       "_view_module": null,
       "_view_module_version": "",
       "material": "IPY_MODEL_b2e031610c274b73a7ae2991e9e0ef92",
       "matrix": [
        0.05,
        0,
        0,
        0,
        0,
        0.07500000000000001,
        0,
        0,
        0,
        0,
        0.05,
        0,
        0,
        0,
        1,
        1
       ],
       "position": [
        0,
        0,
        1
       ],
       "scale": [
        0.05,
        0.07500000000000001,
        0.05
       ]
      }
     },
     "38a3629dc3664b35bce1f24aa3aae70b": {
      "model_module": "jupyter-threejs",
      "model_module_version": "^2.1.0",
      "model_name": "SpriteModel",
      "state": {
       "_view_module": null,
       "_view_module_version": "",
       "material": "IPY_MODEL_67c3551435a240aab02cc4103f01e700",
       "matrix": [
        0.05,
        0,
        0,
        0,
        0,
        0.07500000000000001,
        0,
        0,
        0,
        0,
        0.05,
        0,
        1,
        0.5,
        0.5,
        1
       ],
       "position": [
        1,
        0.5,
        0.5
       ],
       "scale": [
        0.05,
        0.07500000000000001,
        0.05
       ]
      }
     },
     "3a5f33aa8ecf4f568cdeb73706217e41": {
      "buffers": [
       {
        "data": "AAABAAIAAQADAAIABAAFAAYABQAHAAYACAAJAAoACQALAAoADAANAA4ADQAPAA4AEAARABIAEQATABIAFAAVABYAFQAXABYAGAAZABoAGQAbABoAHAAdAB4AHQAfAB4AIAAhACIAIQAjACIAJAAlACYAJQAnACYAKAApACoAKQArACoALAAtAC4ALQAvAC4AMAAxADIAMQAzADIANAA1ADYANQA3ADYAOAA5ADoAOQA7ADoAPAA9AD4APQA/AD4AQABBAEIAQQBDAEIARABFAEYARQBHAEYASABJAEoASQBLAEoATABNAE4ATQBPAE4AUABRAFIAUQBTAFIAVABVAFYAVQBXAFYAWABZAFoAWQBbAFoAXABdAF4AXQBfAF4A",
        "encoding": "base64",
        "path": [
         "array",
         "buffer"
        ]
       }
      ],
      "model_module": "jupyter-threejs",
      "model_module_version": "^2.1.0",
      "model_name": "BufferAttributeModel",
      "state": {
       "_view_module": null,
       "_view_module_version": "",
       "array": {
        "buffer": {},
        "dtype": "uint16",
        "shape": [
         144
        ]
       },
       "version": 2
      }
     },
     "3b1dbf13aee14fce91c8cbf2717a3486": {
      "model_module": "jupyter-threejs",
      "model_module_version": "^2.1.0",
      "model_name": "SpriteModel",
      "state": {
       "_view_module": null,
       "_view_module_version": "",
       "material": "IPY_MODEL_3f0e1d917329425bbde89afa24d5f9e6",
       "matrix": [
        0.05,
        0,
        0,
        0,
        0,
        0.07500000000000001,
        0,
        0,
        0,
        0,
        0.05,
        0,
        0,
        0,
        0.5,
        1
       ],
       "position": [
        0,
        0,
        0.5
       ],
       "scale": [
        0.05,
        0.07500000000000001,
        0.05
       ]
      }
     },
     "3bc8312deedc4923a672264bd0f46596": {
      "model_module": "jupyter-threejs",
      "model_module_version": "^2.1.0",
      "model_name": "SpriteModel",
      "state": {
       "_view_module": null,
       "_view_module_version": "",
       "material": "IPY_MODEL_9a42a4f9ecc440b38d2ba9064128cf65",
       "matrix": [
        0.05,
        0,
        0,
        0,
        0,
        0.07500000000000001,
        0,
        0,
        0,
        0,
        0.05,
        0,
        0,
        1,
        0.5,
        1
       ],
       "position": [
        0,
        1,
        0.5
       ],
       "scale": [
        0.05,
        0.07500000000000001,
        0.05
       ]
      }
     },
     "3dd11b0259484c17a059bd5d5cb50a0f": {
      "model_module": "jupyter-threejs",
      "model_module_version": "^2.1.0",
      "model_name": "TextTextureModel",
      "state": {
       "_view_module": null,
       "_view_module_version": "",
       "size": 100,
       "squareTexture": false,
       "string": "25",
       "version": 2
      }
     },
     "3e133d38c9c342748cf69e59fb9d5d18": {
      "buffers": [
       {
        "data": "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",
        "encoding": "base64",
        "path": [
         "array",
         "buffer"
        ]
       }
      ],
      "model_module": "jupyter-threejs",
      "model_module_version": "^2.1.0",
      "model_name": "BufferAttributeModel",
      "state": {
       "_view_module": null,
       "_view_module_version": "",
       "array": {
        "buffer": {},
        "dtype": "float32",
        "shape": [
         1944,
         3
        ]
       },
       "version": 2
      }
     },
     "3f0e1d917329425bbde89afa24d5f9e6": {
      "model_module": "jupyter-threejs",
      "model_module_version": "^2.1.0",
      "model_name": "SpriteMaterialModel",
      "state": {
       "_view_module": null,
       "_view_module_version": "",
       "map": "IPY_MODEL_d09ba555e27641d586c1111a6ce89833"
      }
     },
     "4111938ac7e84bb9bcf01adb157d18b4": {
      "model_module": "jupyter-threejs",
      "model_module_version": "^2.1.0",
      "model_name": "MeshModel",
      "state": {
       "_view_module": null,
       "_view_module_version": "",
       "geometry": "IPY_MODEL_f712465e90cd4b2ea6554a611ad7f8fc",
       "material": "IPY_MODEL_0a47a56795af4e41bd5573e945f1d1e6",
       "morphTargetInfluences": []
      }
     },
     "438bcd8ace8d4f9591f5fdc3019d6032": {
      "model_module": "jupyter-threejs",
      "model_module_version": "^2.1.0",
      "model_name": "SpriteMaterialModel",
      "state": {
       "_view_module": null,
       "_view_module_version": "",
       "map": "IPY_MODEL_90ca3b595fc449088217626237af0f91"
      }
     },
     "450fe5eb-4d34-44d6-a336-3b29c74e87b2": {
      "model_module": "jupyter-threejs",
      "model_module_version": "^2.1.0",
      "model_name": "DirectionalLightShadowModel",
      "state": {
       "camera": "IPY_MODEL_c9f491d7-8c3c-43c4-a79b-f49bcd683d93"
      }
     },
     "454ed283184a40eb9c93ec1f725160fa": {
      "model_module": "jupyter-threejs",
      "model_module_version": "^2.1.0",
      "model_name": "SpriteMaterialModel",
      "state": {
       "_view_module": null,
       "_view_module_version": "",
       "map": "IPY_MODEL_bc59a98acf554714ab771421c9307ad5"
      }
     },
     "457cb1c7bf094df29cf6174f7bbde364": {
      "model_module": "jupyter-threejs",
      "model_module_version": "^2.1.0",
      "model_name": "SpriteMaterialModel",
      "state": {
       "_view_module": null,
       "_view_module_version": "",
       "map": "IPY_MODEL_a66f2efce7664b5793356fd5332922b1"
      }
     },
     "45d87206d70c4540a708ace36ea15aae": {
      "model_module": "jupyter-threejs",
      "model_module_version": "^2.1.0",
      "model_name": "SpriteModel",
      "state": {
       "_view_module": null,
       "_view_module_version": "",
       "material": "IPY_MODEL_624f5502b0ef434dbacc7789e52471b1",
       "matrix": [
        0.05,
        0,
        0,
        0,
        0,
        0.07500000000000001,
        0,
        0,
        0,
        0,
        0.05,
        0,
        0.5,
        1,
        1,
        1
       ],
       "position": [
        0.5,
        1,
        1
       ],
       "scale": [
        0.05,
        0.07500000000000001,
        0.05
       ]
      }
     },
     "4672449bdc7448d5b7fd47f5a15316d7": {
      "model_module": "jupyter-threejs",
      "model_module_version": "^2.1.0",
      "model_name": "SpriteModel",
      "state": {
       "_view_module": null,
       "_view_module_version": "",
       "material": "IPY_MODEL_06b0d0a17b8e461c8207416efee3e921",
       "matrix": [
        0.05,
        0,
        0,
        0,
        0,
        0.07500000000000001,
        0,
        0,
        0,
        0,
        0.05,
        0,
        0.5,
        1,
        0.5,
        1
       ],
       "position": [
        0.5,
        1,
        0.5
       ],
       "scale": [
        0.05,
        0.07500000000000001,
        0.05
       ]
      }
     },
     "48a0353ef9954c18ae5458b5cb870dd4": {
      "model_module": "jupyter-threejs",
      "model_module_version": "^2.1.0",
      "model_name": "SpriteModel",
      "state": {
       "_view_module": null,
       "_view_module_version": "",
       "material": "IPY_MODEL_700096e61fcc42ad92c24bfc66da5531",
       "matrix": [
        0.05,
        0,
        0,
        0,
        0,
        0.07500000000000001,
        0,
        0,
        0,
        0,
        0.05,
        0,
        0,
        0,
        1,
        1
       ],
       "position": [
        0,
        0,
        1
       ],
       "scale": [
        0.05,
        0.07500000000000001,
        0.05
       ]
      }
     },
     "48cfb44aee3a4211b94a98fe05b44c2c": {
      "model_module": "jupyter-threejs",
      "model_module_version": "^2.1.0",
      "model_name": "TextTextureModel",
      "state": {
       "_view_module": null,
       "_view_module_version": "",
       "size": 100,
       "squareTexture": false,
       "string": "z",
       "version": 2
      }
     },
     "49a08c072ac54af69616e44ca4dbeebc": {
      "model_module": "jupyter-threejs",
      "model_module_version": "^2.1.0",
      "model_name": "SpriteMaterialModel",
      "state": {
       "_view_module": null,
       "_view_module_version": "",
       "map": "IPY_MODEL_c9b675267d80489b9f612e0a21f5df8c"
      }
     },
     "4a83d85526af44a3bf09afb0cbb7ae39": {
      "model_module": "jupyter-threejs",
      "model_module_version": "^2.1.0",
      "model_name": "AxesHelperModel",
      "state": {
       "_view_module": null,
       "_view_module_version": "",
       "size": 2,
       "type": "LineSegments"
      }
     },
     "4cce16640cb848f288d9631a4d09367a": {
      "model_module": "jupyter-threejs",
      "model_module_version": "^2.1.0",
      "model_name": "OrbitControlsModel",
      "state": {
       "_view_module": null,
       "_view_module_version": "",
       "controlling": "IPY_MODEL_90ed30172b9948878a010b5e925d72b0",
       "maxAzimuthAngle": "inf",
       "maxDistance": "inf",
       "maxZoom": "inf",
       "minAzimuthAngle": "-inf",
       "target": [
        0.5,
        0.5,
        0.5
       ]
      }
     },
     "4dba43c5d04543a282d34a4a226ae6d1": {
      "model_module": "jupyter-threejs",
      "model_module_version": "^2.1.0",
      "model_name": "WebGLShadowMapModel",
      "state": {
       "_view_module": null,
       "_view_module_version": ""
      }
     },
     "501073c00d6d4b539327477e6a746f17": {
      "model_module": "jupyter-threejs",
      "model_module_version": "^2.1.0",
      "model_name": "SpriteMaterialModel",
      "state": {
       "_view_module": null,
       "_view_module_version": "",
       "map": "IPY_MODEL_b0eadea5951346d2869ecf9fbec47554"
      }
     },
     "506a2a2854d846cf9e581603ce77ebdd": {
      "model_module": "jupyter-threejs",
      "model_module_version": "^2.1.0",
      "model_name": "TextTextureModel",
      "state": {
       "_view_module": null,
       "_view_module_version": "",
       "size": 100,
       "squareTexture": false,
       "string": "15",
       "version": 2
      }
     },
     "508ce1c6559a46c3bf70b181b3de8471": {
      "model_module": "jupyter-threejs",
      "model_module_version": "^2.1.0",
      "model_name": "TextTextureModel",
      "state": {
       "_view_module": null,
       "_view_module_version": "",
       "size": 100,
       "squareTexture": false,
       "string": "y",
       "version": 2
      }
     },
     "516f92199ab444bca45c7a3164c17119": {
      "model_module": "jupyter-threejs",
      "model_module_version": "^2.1.0",
      "model_name": "SpriteModel",
      "state": {
       "_view_module": null,
       "_view_module_version": "",
       "material": "IPY_MODEL_fe6505ff1306470fa9f4f5bd22426dfe",
       "matrix": [
        0.05,
        0,
        0,
        0,
        0,
        0.07500000000000001,
        0,
        0,
        0,
        0,
        0.05,
        0,
        0,
        0.5,
        1,
        1
       ],
       "position": [
        0,
        0.5,
        1
       ],
       "scale": [
        0.05,
        0.07500000000000001,
        0.05
       ]
      }
     },
     "517f079963fa4b96b6d6204038f8627b": {
      "model_module": "jupyter-threejs",
      "model_module_version": "^2.1.0",
      "model_name": "SpriteMaterialModel",
      "state": {
       "_view_module": null,
       "_view_module_version": "",
       "map": "IPY_MODEL_ddd8159fec6e4da991ee9b148e3f813d"
      }
     },
     "532736226fdf4b338173ef7156f2a875": {
      "model_module": "jupyter-threejs",
      "model_module_version": "^2.1.0",
      "model_name": "TextTextureModel",
      "state": {
       "_view_module": null,
       "_view_module_version": "",
       "size": 100,
       "squareTexture": false,
       "string": "14",
       "version": 2
      }
     },
     "56208753cda44b149569d47d94ef1cb9": {
      "model_module": "jupyter-threejs",
      "model_module_version": "^2.1.0",
      "model_name": "SpriteModel",
      "state": {
       "_view_module": null,
       "_view_module_version": "",
       "material": "IPY_MODEL_fa563c476bb048f88f2aa64bc5f6e159",
       "matrix": [
        0.05,
        0,
        0,
        0,
        0,
        0.07500000000000001,
        0,
        0,
        0,
        0,
        0.05,
        0,
        0.5,
        0,
        0.5,
        1
       ],
       "position": [
        0.5,
        0,
        0.5
       ],
       "scale": [
        0.05,
        0.07500000000000001,
        0.05
       ]
      }
     },
     "56431a5601d1457b900ce7182d2b9b54": {
      "model_module": "jupyter-threejs",
      "model_module_version": "^2.1.0",
      "model_name": "SpriteModel",
      "state": {
       "_view_module": null,
       "_view_module_version": "",
       "material": "IPY_MODEL_0a8b0620bc184d85a5fa481547a110a9",
       "matrix": [
        0.05,
        0,
        0,
        0,
        0,
        0.07500000000000001,
        0,
        0,
        0,
        0,
        0.05,
        0,
        1,
        0.5,
        1,
        1
       ],
       "position": [
        1,
        0.5,
        1
       ],
       "scale": [
        0.05,
        0.07500000000000001,
        0.05
       ]
      }
     },
     "5664dde6b5c44eaba90ee48076bb8a82": {
      "model_module": "jupyter-threejs",
      "model_module_version": "^2.1.0",
      "model_name": "SpriteModel",
      "state": {
       "_view_module": null,
       "_view_module_version": "",
       "material": "IPY_MODEL_d6907067d09344449a880da2d6bd4557",
       "matrix": [
        0.05,
        0,
        0,
        0,
        0,
        0.07500000000000001,
        0,
        0,
        0,
        0,
        0.05,
        0,
        1,
        0,
        1,
        1
       ],
       "position": [
        1,
        0,
        1
       ],
       "scale": [
        0.05,
        0.07500000000000001,
        0.05
       ]
      }
     },
     "57438d7d2c1f43b584ebb764d8a3cb0a": {
      "model_module": "jupyter-threejs",
      "model_module_version": "^2.1.0",
      "model_name": "OrbitControlsModel",
      "state": {
       "_view_module": null,
       "_view_module_version": "",
       "controlling": "IPY_MODEL_17aaf546392643a1885958af08bcbeab",
       "maxAzimuthAngle": "inf",
       "maxDistance": "inf",
       "maxZoom": "inf",
       "minAzimuthAngle": "-inf",
       "target": [
        0.5,
        0.5,
        0.5
       ]
      }
     },
     "597cf0b8d58b4fe99f6cf762404e3bbe": {
      "model_module": "jupyter-threejs",
      "model_module_version": "^2.1.0",
      "model_name": "SpriteModel",
      "state": {
       "_view_module": null,
       "_view_module_version": "",
       "material": "IPY_MODEL_eb7c1ec28fdb428990b476e962f569e9",
       "matrix": [
        0.05,
        0,
        0,
        0,
        0,
        0.07500000000000001,
        0,
        0,
        0,
        0,
        0.05,
        0,
        2,
        0,
        0,
        1
       ],
       "position": [
        2,
        0,
        0
       ],
       "scale": [
        0.05,
        0.07500000000000001,
        0.05
       ]
      }
     },
     "59a7675b5d3a44e8a208e9e21f232a54": {
      "model_module": "jupyter-threejs",
      "model_module_version": "^2.1.0",
      "model_name": "SceneModel",
      "state": {
       "_view_module": null,
       "_view_module_version": "",
       "children": [
        "IPY_MODEL_f138bd62a773485bb61fe4856f7d8e0a",
        "IPY_MODEL_07446174e82c49068d51e53bef77cc1d",
        "IPY_MODEL_4111938ac7e84bb9bcf01adb157d18b4",
        "IPY_MODEL_b39ead21e39249649e495a0bda73b9ee",
        "IPY_MODEL_9c9a8f81f51b49989b6ae0137d486a7b",
        "IPY_MODEL_d3619959297b460cbb4704f7509c788f",
        "IPY_MODEL_69f6583587344c27b36c592658e6ddf0",
        "IPY_MODEL_00c8bfd7d34b438f8bddf79d1e5cc04e",
        "IPY_MODEL_d2a68136791148b598f666c1dad28156",
        "IPY_MODEL_2b4569e7d64b48fc8c9d1b314207ca29",
        "IPY_MODEL_66142a85fbad4d1ea6f6c7efee1196ac",
        "IPY_MODEL_c79e72f265654995a623add435cec8b1",
        "IPY_MODEL_a51bc7f5d86140a7924ba07ee69ac4c2",
        "IPY_MODEL_a234456995d04312adc7c0534975e74c",
        "IPY_MODEL_3b1dbf13aee14fce91c8cbf2717a3486",
        "IPY_MODEL_56208753cda44b149569d47d94ef1cb9",
        "IPY_MODEL_bd363f9eb27e493a964aeb053ec22993",
        "IPY_MODEL_05da77cd5ddc4e1bb7966f15aa984bd4",
        "IPY_MODEL_154bea83ba544d589a92e2e8b0b68ff8",
        "IPY_MODEL_ad7becb7a8644892ad5d3be3d7d8935a",
        "IPY_MODEL_deb9a921dbe04330a0350d36393a1179",
        "IPY_MODEL_4672449bdc7448d5b7fd47f5a15316d7",
        "IPY_MODEL_a0e5e91ed0e74af2b0c4b663caaabac4",
        "IPY_MODEL_48a0353ef9954c18ae5458b5cb870dd4",
        "IPY_MODEL_5a5c02c4f1eb4bcc98679ca1bab813b7",
        "IPY_MODEL_5664dde6b5c44eaba90ee48076bb8a82",
        "IPY_MODEL_0e90517199f44742b7231c88194f99c6",
        "IPY_MODEL_8bb42529962d40099d1226663f34fc35",
        "IPY_MODEL_007fc67b03f24a50a051916245f0bea0",
        "IPY_MODEL_819bc234380041e68224c4db777b840c",
        "IPY_MODEL_04853a4c78254a299b069fa78dc79004",
        "IPY_MODEL_05c838e8381e465ba5a1853f9ee9d68d",
        "IPY_MODEL_8826376ae9a0489888d6f50c2ac6ad58",
        "IPY_MODEL_7bb4460acb1b46d2b736168fd0717161",
        "IPY_MODEL_d7656efa7f4e43c796aea71fe5a947d0"
       ]
      }
     },
     "59c472fbef874837b25f4c5552168733": {
      "buffers": [
       {
        "data": "AAAAAAAAAAAAAAAAAAAAPwAAAAAAAAAAAAAAAAAAAD8AAAAAAAAAPwAAAD8AAAAAAAAAAAAAAAAAAAAAAAAAPwAAAAAAAAAAAAAAAAAAAAAAAAA/AAAAPwAAAAAAAAA/AAAAAAAAAAAAAAAAAAAAAAAAAD8AAAAAAAAAAAAAAAAAAAA/AAAAAAAAAD8AAAA/AAAAPwAAAAAAAAAAAACAPwAAAAAAAAAAAAAAPwAAAD8AAAAAAACAPwAAAD8AAAAAAAAAPwAAAAAAAAAAAACAPwAAAAAAAAAAAAAAPwAAAAAAAAA/AACAPwAAAAAAAAA/AACAPwAAAAAAAAAAAACAPwAAAD8AAAAAAACAPwAAAAAAAAA/AACAPwAAAD8AAAA/AAAAAAAAAD8AAAAAAAAAPwAAAD8AAAAAAAAAAAAAgD8AAAAAAAAAPwAAgD8AAAAAAAAAAAAAgD8AAAAAAAAAPwAAgD8AAAAAAAAAAAAAgD8AAAA/AAAAPwAAgD8AAAA/AAAAAAAAAD8AAAAAAAAAAAAAgD8AAAAAAAAAAAAAAD8AAAA/AAAAAAAAgD8AAAA/AAAAPwAAAD8AAAAAAACAPwAAAD8AAAAAAAAAPwAAgD8AAAAAAACAPwAAgD8AAAAAAAAAPwAAgD8AAAAAAACAPwAAgD8AAAAAAAAAPwAAgD8AAAA/AACAPwAAgD8AAAA/AACAPwAAAD8AAAAAAACAPwAAgD8AAAAAAACAPwAAAD8AAAA/AACAPwAAgD8AAAA/AAAAAAAAAAAAAIA/AAAAPwAAAAAAAIA/AAAAAAAAAD8AAIA/AAAAPwAAAD8AAIA/AAAAAAAAAAAAAAA/AAAAPwAAAAAAAAA/AAAAAAAAAAAAAIA/AAAAPwAAAAAAAIA/AAAAAAAAAAAAAAA/AAAAAAAAAD8AAAA/AAAAAAAAAAAAAIA/AAAAAAAAAD8AAIA/AAAAPwAAAAAAAIA/AACAPwAAAAAAAIA/AAAAPwAAAD8AAIA/AACAPwAAAD8AAIA/AAAAPwAAAAAAAAA/AACAPwAAAAAAAAA/AAAAPwAAAAAAAIA/AACAPwAAAAAAAIA/AACAPwAAAAAAAAA/AACAPwAAAD8AAAA/AACAPwAAAAAAAIA/AACAPwAAAD8AAIA/AAAAAAAAAD8AAIA/AAAAPwAAAD8AAIA/AAAAAAAAgD8AAIA/AAAAPwAAgD8AAIA/AAAAAAAAgD8AAAA/AAAAPwAAgD8AAAA/AAAAAAAAgD8AAIA/AAAAPwAAgD8AAIA/AAAAAAAAAD8AAAA/AAAAAAAAgD8AAAA/AAAAAAAAAD8AAIA/AAAAAAAAgD8AAIA/AAAAPwAAAD8AAIA/AACAPwAAAD8AAIA/AAAAPwAAgD8AAIA/AACAPwAAgD8AAIA/AAAAPwAAgD8AAAA/AACAPwAAgD8AAAA/AAAAPwAAgD8AAIA/AACAPwAAgD8AAIA/AACAPwAAAD8AAAA/AACAPwAAgD8AAAA/AACAPwAAAD8AAIA/AACAPwAAgD8AAIA/",
        "encoding": "base64",
        "path": [
         "array",
         "buffer"
        ]
       }
      ],
      "model_module": "jupyter-threejs",
      "model_module_version": "^2.1.0",
      "model_name": "BufferAttributeModel",
      "state": {
       "_view_module": null,
       "_view_module_version": "",
       "array": {
        "buffer": {},
        "dtype": "float32",
        "shape": [
         96,
         3
        ]
       },
       "version": 2
      }
     },
     "5a5c02c4f1eb4bcc98679ca1bab813b7": {
      "model_module": "jupyter-threejs",
      "model_module_version": "^2.1.0",
      "model_name": "SpriteModel",
      "state": {
       "_view_module": null,
       "_view_module_version": "",
       "material": "IPY_MODEL_8cd783fa55564504912937e8ebdfab14",
       "matrix": [
        0.05,
        0,
        0,
        0,
        0,
        0.07500000000000001,
        0,
        0,
        0,
        0,
        0.05,
        0,
        0.5,
        0,
        1,
        1
       ],
       "position": [
        0.5,
        0,
        1
       ],
       "scale": [
        0.05,
        0.07500000000000001,
        0.05
       ]
      }
     },
     "5af43441247546b0a1b4d400c6e4531c": {
      "model_module": "jupyter-threejs",
      "model_module_version": "^2.1.0",
      "model_name": "TextTextureModel",
      "state": {
       "_view_module": null,
       "_view_module_version": "",
       "size": 100,
       "squareTexture": false,
       "string": "y",
       "version": 2
      }
     },
     "5bbf512b7f394a5c892255f836e76821": {
      "model_module": "jupyter-threejs",
      "model_module_version": "^2.1.0",
      "model_name": "DirectionalLightModel",
      "state": {
       "_view_module": null,
       "_view_module_version": "",
       "intensity": 0.5,
       "matrixWorldNeedsUpdate": true,
       "position": [
        16,
        12,
        17
       ],
       "shadow": "IPY_MODEL_e2221fc0-220f-45da-9948-337d56980437",
       "target": "IPY_MODEL_f68ab224-8e1b-435c-981a-b34132afaa80"
      }
     },
     "5c10c6e9f1954fd2a06cd9699c569e63": {
      "model_module": "jupyter-threejs",
      "model_module_version": "^2.1.0",
      "model_name": "SpriteMaterialModel",
      "state": {
       "_view_module": null,
       "_view_module_version": "",
       "map": "IPY_MODEL_2cb5e8fbecdb49fd8ebd2b46894acd22"
      }
     },
     "5c4a322f242f47b0a64b26a82c464d46": {
      "model_module": "jupyter-threejs",
      "model_module_version": "^2.1.0",
      "model_name": "SpriteModel",
      "state": {
       "_view_module": null,
       "_view_module_version": "",
       "material": "IPY_MODEL_e757acd3525e415eb1c68326a7607c36",
       "matrix": [
        0.05,
        0,
        0,
        0,
        0,
        0.07500000000000001,
        0,
        0,
        0,
        0,
        0.05,
        0,
        0,
        0.5,
        0,
        1
       ],
       "position": [
        0,
        0.5,
        0
       ],
       "scale": [
        0.05,
        0.07500000000000001,
        0.05
       ]
      }
     },
     "5d8ef099addb42b9a02f0354ce6850d7": {
      "buffers": [
       {
        "data": "AAAAAAAAAAAAAAAAAAAAPwAAAAAAAAAAAAAAAAAAAD8AAAAAAAAAPwAAAD8AAAAAAAAAAAAAAAAAAAAAAAAAPwAAAAAAAAAAAAAAAAAAAAAAAAA/AAAAPwAAAAAAAAA/AAAAAAAAAAAAAAAAAAAAAAAAAD8AAAAAAAAAAAAAAAAAAAA/AAAAAAAAAD8AAAA/AAAAPwAAAAAAAAAAAACAPwAAAAAAAAAAAAAAPwAAAD8AAAAAAACAPwAAAD8AAAAAAAAAPwAAAAAAAAAAAACAPwAAAAAAAAAAAAAAPwAAAAAAAAA/AACAPwAAAAAAAAA/AACAPwAAAAAAAAAAAACAPwAAAD8AAAAAAACAPwAAAAAAAAA/AACAPwAAAD8AAAA/AAAAAAAAAD8AAAAAAAAAPwAAAD8AAAAAAAAAAAAAgD8AAAAAAAAAPwAAgD8AAAAAAAAAAAAAgD8AAAAAAAAAPwAAgD8AAAAAAAAAAAAAgD8AAAA/AAAAPwAAgD8AAAA/AAAAAAAAAD8AAAAAAAAAAAAAgD8AAAAAAAAAAAAAAD8AAAA/AAAAAAAAgD8AAAA/AAAAPwAAAD8AAAAAAACAPwAAAD8AAAAAAAAAPwAAgD8AAAAAAACAPwAAgD8AAAAAAAAAPwAAgD8AAAAAAACAPwAAgD8AAAAAAAAAPwAAgD8AAAA/AACAPwAAgD8AAAA/AACAPwAAAD8AAAAAAACAPwAAgD8AAAAAAACAPwAAAD8AAAA/AACAPwAAgD8AAAA/AAAAAAAAAAAAAIA/AAAAPwAAAAAAAIA/AAAAAAAAAD8AAIA/AAAAPwAAAD8AAIA/AAAAAAAAAAAAAAA/AAAAPwAAAAAAAAA/AAAAAAAAAAAAAIA/AAAAPwAAAAAAAIA/AAAAAAAAAAAAAAA/AAAAAAAAAD8AAAA/AAAAAAAAAAAAAIA/AAAAAAAAAD8AAIA/AAAAPwAAAAAAAIA/AACAPwAAAAAAAIA/AAAAPwAAAD8AAIA/AACAPwAAAD8AAIA/AAAAPwAAAAAAAAA/AACAPwAAAAAAAAA/AAAAPwAAAAAAAIA/AACAPwAAAAAAAIA/AACAPwAAAAAAAAA/AACAPwAAAD8AAAA/AACAPwAAAAAAAIA/AACAPwAAAD8AAIA/AAAAAAAAAD8AAIA/AAAAPwAAAD8AAIA/AAAAAAAAgD8AAIA/AAAAPwAAgD8AAIA/AAAAAAAAgD8AAAA/AAAAPwAAgD8AAAA/AAAAAAAAgD8AAIA/AAAAPwAAgD8AAIA/AAAAAAAAAD8AAAA/AAAAAAAAgD8AAAA/AAAAAAAAAD8AAIA/AAAAAAAAgD8AAIA/AAAAPwAAAD8AAIA/AACAPwAAAD8AAIA/AAAAPwAAgD8AAIA/AACAPwAAgD8AAIA/AAAAPwAAgD8AAAA/AACAPwAAgD8AAAA/AAAAPwAAgD8AAIA/AACAPwAAgD8AAIA/AACAPwAAAD8AAAA/AACAPwAAgD8AAAA/AACAPwAAAD8AAIA/AACAPwAAgD8AAIA/",
        "encoding": "base64",
        "path": [
         "array",
         "buffer"
        ]
       }
      ],
      "model_module": "jupyter-threejs",
      "model_module_version": "^2.1.0",
      "model_name": "BufferAttributeModel",
      "state": {
       "_view_module": null,
       "_view_module_version": "",
       "array": {
        "buffer": {},
        "dtype": "float32",
        "shape": [
         96,
         3
        ]
       },
       "version": 2
      }
     },
     "5ddebb3664484802a0285395d918b710": {
      "model_module": "jupyter-threejs",
      "model_module_version": "^2.1.0",
      "model_name": "MeshLambertMaterialModel",
      "state": {
       "_view_module": null,
       "_view_module_version": "",
       "vertexColors": "VertexColors"
      }
     },
     "5e839f52c4194e09a9d3cc79d245f106": {
      "model_module": "jupyter-threejs",
      "model_module_version": "^2.1.0",
      "model_name": "TextTextureModel",
      "state": {
       "_view_module": null,
       "_view_module_version": "",
       "size": 100,
       "squareTexture": false,
       "string": "x",
       "version": 2
      }
     },
     "5e9e5dcd63044d58b38b09b1d2954586": {
      "model_module": "jupyter-threejs",
      "model_module_version": "^2.1.0",
      "model_name": "TextTextureModel",
      "state": {
       "_view_module": null,
       "_view_module_version": "",
       "size": 100,
       "squareTexture": false,
       "string": "z",
       "version": 2
      }
     },
     "5fe66011b49b452faaf5d17e4f802a65": {
      "model_module": "@jupyter-widgets/base",
      "model_module_version": "1.2.0",
      "model_name": "LayoutModel",
      "state": {}
     },
     "624f5502b0ef434dbacc7789e52471b1": {
      "model_module": "jupyter-threejs",
      "model_module_version": "^2.1.0",
      "model_name": "SpriteMaterialModel",
      "state": {
       "_view_module": null,
       "_view_module_version": "",
       "map": "IPY_MODEL_9fe7412c9abb46c58384d16833ec2af2"
      }
     },
     "64b136719d234b9f951f3b0d0f019d37": {
      "model_module": "jupyter-threejs",
      "model_module_version": "^2.1.0",
      "model_name": "TextTextureModel",
      "state": {
       "_view_module": null,
       "_view_module_version": "",
       "size": 100,
       "squareTexture": false,
       "string": "24",
       "version": 2
      }
     },
     "64bf7b4f4af147f780ab7c457d5a5430": {
      "model_module": "jupyter-threejs",
      "model_module_version": "^2.1.0",
      "model_name": "TextTextureModel",
      "state": {
       "_view_module": null,
       "_view_module_version": "",
       "size": 100,
       "squareTexture": false,
       "string": "9",
       "version": 2
      }
     },
     "66142a85fbad4d1ea6f6c7efee1196ac": {
      "model_module": "jupyter-threejs",
      "model_module_version": "^2.1.0",
      "model_name": "SpriteModel",
      "state": {
       "_view_module": null,
       "_view_module_version": "",
       "material": "IPY_MODEL_a598ae52a71548889e70286d15ae5d53",
       "matrix": [
        0.05,
        0,
        0,
        0,
        0,
        0.07500000000000001,
        0,
        0,
        0,
        0,
        0.05,
        0,
        1,
        0.5,
        0,
        1
       ],
       "position": [
        1,
        0.5,
        0
       ],
       "scale": [
        0.05,
        0.07500000000000001,
        0.05
       ]
      }
     },
     "666b7afba0a642bda3a0bb3806863eb7": {
      "model_module": "jupyter-threejs",
      "model_module_version": "^2.1.0",
      "model_name": "GroupModel",
      "state": {
       "_view_module": null,
       "_view_module_version": "",
       "children": [
        "IPY_MODEL_064500540f6943119cd97bbe4d233896",
        "IPY_MODEL_eeb968ddabc24cefbc232704002df673"
       ]
      }
     },
     "67c3551435a240aab02cc4103f01e700": {
      "model_module": "jupyter-threejs",
      "model_module_version": "^2.1.0",
      "model_name": "SpriteMaterialModel",
      "state": {
       "_view_module": null,
       "_view_module_version": "",
       "map": "IPY_MODEL_95df3c5a43134d509ce67c42cf1db43a"
      }
     },
     "6927bdd1b1614355869b695ef0a0abd4": {
      "model_module": "jupyter-threejs",
      "model_module_version": "^2.1.0",
      "model_name": "SpriteModel",
      "state": {
       "_view_module": null,
       "_view_module_version": "",
       "material": "IPY_MODEL_2b45eb151b014129bbcb0cdac0ab6398",
       "matrix": [
        0.05,
        0,
        0,
        0,
        0,
        0.07500000000000001,
        0,
        0,
        0,
        0,
        0.05,
        0,
        1,
        0,
        1,
        1
       ],
       "position": [
        1,
        0,
        1
       ],
       "scale": [
        0.05,
        0.07500000000000001,
        0.05
       ]
      }
     },
     "696dc6b5526d4c808bb1cace01a00ab8": {
      "model_module": "jupyter-threejs",
      "model_module_version": "^2.1.0",
      "model_name": "SpriteModel",
      "state": {
       "_view_module": null,
       "_view_module_version": "",
       "material": "IPY_MODEL_9da83362fe1e48d7a61cb0bb70a9c532",
       "matrix": [
        0.05,
        0,
        0,
        0,
        0,
        0.07500000000000001,
        0,
        0,
        0,
        0,
        0.05,
        0,
        0,
        2,
        0,
        1
       ],
       "position": [
        0,
        2,
        0
       ],
       "scale": [
        0.05,
        0.07500000000000001,
        0.05
       ]
      }
     },
     "69f6583587344c27b36c592658e6ddf0": {
      "model_module": "jupyter-threejs",
      "model_module_version": "^2.1.0",
      "model_name": "SpriteModel",
      "state": {
       "_view_module": null,
       "_view_module_version": "",
       "material": "IPY_MODEL_dd2270803eab471592a44b2cb287651e",
       "matrix": [
        0.05,
        0,
        0,
        0,
        0,
        0.07500000000000001,
        0,
        0,
        0,
        0,
        0.05,
        0,
        0.5,
        0,
        0,
        1
       ],
       "position": [
        0.5,
        0,
        0
       ],
       "scale": [
        0.05,
        0.07500000000000001,
        0.05
       ]
      }
     },
     "6d40cbff50b1477b9e0ff81d1107e5b7": {
      "model_module": "jupyter-threejs",
      "model_module_version": "^2.1.0",
      "model_name": "SpriteMaterialModel",
      "state": {
       "_view_module": null,
       "_view_module_version": "",
       "map": "IPY_MODEL_32b6d1501f8545c194560239de12882d"
      }
     },
     "6faf330ecdb94ed78eb1e2f1f4897b44": {
      "model_module": "@jupyter-widgets/base",
      "model_module_version": "1.2.0",
      "model_name": "LayoutModel",
      "state": {}
     },
     "700096e61fcc42ad92c24bfc66da5531": {
      "model_module": "jupyter-threejs",
      "model_module_version": "^2.1.0",
      "model_name": "SpriteMaterialModel",
      "state": {
       "_view_module": null,
       "_view_module_version": "",
       "map": "IPY_MODEL_cf452af525f14a51950c4d820bf2b9c2"
      }
     },
     "70fa8fbbfb73408dad6e27852a0290f6": {
      "model_module": "jupyter-threejs",
      "model_module_version": "^2.1.0",
      "model_name": "TextTextureModel",
      "state": {
       "_view_module": null,
       "_view_module_version": "",
       "size": 100,
       "squareTexture": false,
       "string": "10",
       "version": 2
      }
     },
     "716744b3a46543f59f113311a65c9e05": {
      "buffers": [
       {
        "data": "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",
        "encoding": "base64",
        "path": [
         "array",
         "buffer"
        ]
       }
      ],
      "model_module": "jupyter-threejs",
      "model_module_version": "^2.1.0",
      "model_name": "BufferAttributeModel",
      "state": {
       "_view_module": null,
       "_view_module_version": "",
       "array": {
        "buffer": {},
        "dtype": "float32",
        "shape": [
         1944,
         3
        ]
       },
       "normalized": true,
       "version": 2
      }
     },
     "71a2898416214481b6bfb7c68d831f59": {
      "model_module": "jupyter-threejs",
      "model_module_version": "^2.1.0",
      "model_name": "TextTextureModel",
      "state": {
       "_view_module": null,
       "_view_module_version": "",
       "size": 100,
       "squareTexture": false,
       "string": "23",
       "version": 2
      }
     },
     "723e88f0dde04787bd6d28a4bf4d8297": {
      "model_module": "jupyter-threejs",
      "model_module_version": "^2.1.0",
      "model_name": "SpriteModel",
      "state": {
       "_view_module": null,
       "_view_module_version": "",
       "material": "IPY_MODEL_517f079963fa4b96b6d6204038f8627b",
       "matrix": [
        0.05,
        0,
        0,
        0,
        0,
        0.07500000000000001,
        0,
        0,
        0,
        0,
        0.05,
        0,
        0,
        0,
        2,
        1
       ],
       "position": [
        0,
        0,
        2
       ],
       "scale": [
        0.05,
        0.07500000000000001,
        0.05
       ]
      }
     },
     "72dc36d1c5c247928ef386ae63a05c50": {
      "model_module": "jupyter-threejs",
      "model_module_version": "^2.1.0",
      "model_name": "SpriteModel",
      "state": {
       "_view_module": null,
       "_view_module_version": "",
       "material": "IPY_MODEL_b8d56f9fa6314879a34f17876654821d",
       "matrix": [
        0.05,
        0,
        0,
        0,
        0,
        0.07500000000000001,
        0,
        0,
        0,
        0,
        0.05,
        0,
        0.5,
        0,
        0.5,
        1
       ],
       "position": [
        0.5,
        0,
        0.5
       ],
       "scale": [
        0.05,
        0.07500000000000001,
        0.05
       ]
      }
     },
     "7379d191d67e433aa7cea1f904c095b7": {
      "model_module": "jupyter-threejs",
      "model_module_version": "^2.1.0",
      "model_name": "MeshModel",
      "state": {
       "_view_module": null,
       "_view_module_version": "",
       "geometry": "IPY_MODEL_e30ac98005d949519c00084577f95cfa",
       "material": "IPY_MODEL_9650f686041e41b09d5febc276c53e4c",
       "morphTargetInfluences": []
      }
     },
     "73bd3e7faaea40028f7e73136b40e091": {
      "model_module": "jupyter-threejs",
      "model_module_version": "^2.1.0",
      "model_name": "SceneModel",
      "state": {
       "_view_module": null,
       "_view_module_version": "",
       "children": [
        "IPY_MODEL_93c529f720474d8c92e0656faef5fae5",
        "IPY_MODEL_c3888378d4294626a0fdec0f7619f2cd",
        "IPY_MODEL_c73e66ec175244cb94806d198ba5f0bf",
        "IPY_MODEL_7e2e5cd25a4a45fb99cc88a3456c6625",
        "IPY_MODEL_e56d920ba5da4d129e94ec65cd577396",
        "IPY_MODEL_fb47f358b4d14fbfa0e046a0fd708f26",
        "IPY_MODEL_7846d66504f24074a1212fa8ba63a5c0",
        "IPY_MODEL_b994a8a6c38446dba10c3600aababf2e"
       ]
      }
     },
     "7511414fe9864c53be8a51d27438963c": {
      "model_module": "jupyter-threejs",
      "model_module_version": "^2.1.0",
      "model_name": "SpriteMaterialModel",
      "state": {
       "_view_module": null,
       "_view_module_version": "",
       "map": "IPY_MODEL_9ec097b97e1346f1a9ec521b12e8545d"
      }
     },
     "761af75658124c399cbcdf194690d4a4": {
      "model_module": "jupyter-threejs",
      "model_module_version": "^2.1.0",
      "model_name": "SpriteModel",
      "state": {
       "_view_module": null,
       "_view_module_version": "",
       "material": "IPY_MODEL_fee853a2dcbd430f883ccecd240f7c9d",
       "matrix": [
        0.05,
        0,
        0,
        0,
        0,
        0.07500000000000001,
        0,
        0,
        0,
        0,
        0.05,
        0,
        1,
        1,
        0,
        1
       ],
       "position": [
        1,
        1,
        0
       ],
       "scale": [
        0.05,
        0.07500000000000001,
        0.05
       ]
      }
     },
     "76ee6f0396f141f2b2118dd6c6bd39e4": {
      "model_module": "jupyter-threejs",
      "model_module_version": "^2.1.0",
      "model_name": "SpriteMaterialModel",
      "state": {
       "_view_module": null,
       "_view_module_version": "",
       "map": "IPY_MODEL_48cfb44aee3a4211b94a98fe05b44c2c"
      }
     },
     "7846d66504f24074a1212fa8ba63a5c0": {
      "model_module": "jupyter-threejs",
      "model_module_version": "^2.1.0",
      "model_name": "SpriteModel",
      "state": {
       "_view_module": null,
       "_view_module_version": "",
       "material": "IPY_MODEL_085470f0cc2b4d69b0c8e9b577516225",
       "matrix": [
        0.05,
        0,
        0,
        0,
        0,
        0.07500000000000001,
        0,
        0,
        0,
        0,
        0.05,
        0,
        0,
        2,
        0,
        1
       ],
       "position": [
        0,
        2,
        0
       ],
       "scale": [
        0.05,
        0.07500000000000001,
        0.05
       ]
      }
     },
     "79d562a1d8fa4784ba77c5e5e17ce69a": {
      "model_module": "jupyter-threejs",
      "model_module_version": "^2.1.0",
      "model_name": "MeshLambertMaterialModel",
      "state": {
       "_view_module": null,
       "_view_module_version": "",
       "vertexColors": "VertexColors"
      }
     },
     "7b77995a6be3424b9130e88bd19b8e4d": {
      "model_module": "jupyter-threejs",
      "model_module_version": "^2.1.0",
      "model_name": "TextTextureModel",
      "state": {
       "_view_module": null,
       "_view_module_version": "",
       "size": 100,
       "squareTexture": false,
       "string": "7",
       "version": 2
      }
     },
     "7bb4460acb1b46d2b736168fd0717161": {
      "model_module": "jupyter-threejs",
      "model_module_version": "^2.1.0",
      "model_name": "SpriteModel",
      "state": {
       "_view_module": null,
       "_view_module_version": "",
       "material": "IPY_MODEL_e230e37a593b48df8e4f125fd25afb5f",
       "matrix": [
        0.05,
        0,
        0,
        0,
        0,
        0.07500000000000001,
        0,
        0,
        0,
        0,
        0.05,
        0,
        0,
        2,
        0,
        1
       ],
       "position": [
        0,
        2,
        0
       ],
       "scale": [
        0.05,
        0.07500000000000001,
        0.05
       ]
      }
     },
     "7be6738ba8944bf7a19ad0d66f82795b": {
      "model_module": "jupyter-threejs",
      "model_module_version": "^2.1.0",
      "model_name": "TextTextureModel",
      "state": {
       "_view_module": null,
       "_view_module_version": "",
       "size": 100,
       "squareTexture": false,
       "string": "12",
       "version": 2
      }
     },
     "7be951c5267e448cb63a4586b3f1c013": {
      "model_module": "jupyter-threejs",
      "model_module_version": "^2.1.0",
      "model_name": "SpriteModel",
      "state": {
       "_view_module": null,
       "_view_module_version": "",
       "material": "IPY_MODEL_d6fe3604932e4f5282dc40af78438696",
       "matrix": [
        0.05,
        0,
        0,
        0,
        0,
        0.07500000000000001,
        0,
        0,
        0,
        0,
        0.05,
        0,
        1,
        1,
        1,
        1
       ],
       "position": [
        1,
        1,
        1
       ],
       "scale": [
        0.05,
        0.07500000000000001,
        0.05
       ]
      }
     },
     "7c5a382ca6da4fb8a5a418e01447d6b1": {
      "model_module": "jupyter-threejs",
      "model_module_version": "^2.1.0",
      "model_name": "OrbitControlsModel",
      "state": {
       "_view_module": null,
       "_view_module_version": "",
       "controlling": "IPY_MODEL_2e5acd4fe4764880a8af4d1575b1820e",
       "maxAzimuthAngle": "inf",
       "maxDistance": "inf",
       "maxZoom": "inf",
       "minAzimuthAngle": "-inf",
       "target": [
        0.5,
        0.5,
        0.5
       ]
      }
     },
     "7e24e42126e643f1a261e8b7f67c5d87": {
      "model_module": "jupyter-threejs",
      "model_module_version": "^2.1.0",
      "model_name": "MeshLambertMaterialModel",
      "state": {
       "_view_module": null,
       "_view_module_version": "",
       "vertexColors": "VertexColors"
      }
     },
     "7e2e5cd25a4a45fb99cc88a3456c6625": {
      "model_module": "jupyter-threejs",
      "model_module_version": "^2.1.0",
      "model_name": "DirectionalLightModel",
      "state": {
       "_view_module": null,
       "_view_module_version": "",
       "intensity": 0.5,
       "matrixWorldNeedsUpdate": true,
       "position": [
        16,
        12,
        17
       ],
       "shadow": "IPY_MODEL_450fe5eb-4d34-44d6-a336-3b29c74e87b2",
       "target": "IPY_MODEL_2a0999d1-5f54-4b3b-9360-0248e929bc6b"
      }
     },
     "7e4f1ae651914afaba196bc4b4f32b94": {
      "model_module": "jupyter-threejs",
      "model_module_version": "^2.1.0",
      "model_name": "GroupModel",
      "state": {
       "_view_module": null,
       "_view_module_version": "",
       "children": [
        "IPY_MODEL_87ad3f91d1304ac3b8f9a5260f751f92",
        "IPY_MODEL_7379d191d67e433aa7cea1f904c095b7"
       ]
      }
     },
     "7e9cfbd9c5af4d42bc0a71a0850981e6": {
      "model_module": "jupyter-threejs",
      "model_module_version": "^2.1.0",
      "model_name": "TextTextureModel",
      "state": {
       "_view_module": null,
       "_view_module_version": "",
       "size": 100,
       "squareTexture": false,
       "string": "21",
       "version": 2
      }
     },
     "819bc234380041e68224c4db777b840c": {
      "model_module": "jupyter-threejs",
      "model_module_version": "^2.1.0",
      "model_name": "SpriteModel",
      "state": {
       "_view_module": null,
       "_view_module_version": "",
       "material": "IPY_MODEL_e5c0bf46e37c4372a2dc4253eae1a666",
       "matrix": [
        0.05,
        0,
        0,
        0,
        0,
        0.07500000000000001,
        0,
        0,
        0,
        0,
        0.05,
        0,
        0,
        1,
        1,
        1
       ],
       "position": [
        0,
        1,
        1
       ],
       "scale": [
        0.05,
        0.07500000000000001,
        0.05
       ]
      }
     },
     "844ae0731304416182b0083bbb06de8a": {
      "model_module": "jupyter-threejs",
      "model_module_version": "^2.1.0",
      "model_name": "WebGLShadowMapModel",
      "state": {
       "_view_module": null,
       "_view_module_version": ""
      }
     },
     "84b53c1bc95849c59be690bf4ced7f5f": {
      "model_module": "jupyter-threejs",
      "model_module_version": "^2.1.0",
      "model_name": "TextTextureModel",
      "state": {
       "_view_module": null,
       "_view_module_version": "",
       "size": 100,
       "squareTexture": false,
       "string": "27",
       "version": 2
      }
     },
     "86497a47cc1c4fda9bcb2587dbd9a471": {
      "model_module": "jupyter-threejs",
      "model_module_version": "^2.1.0",
      "model_name": "TextTextureModel",
      "state": {
       "_view_module": null,
       "_view_module_version": "",
       "size": 100,
       "squareTexture": false,
       "string": "5",
       "version": 2
      }
     },
     "8673a30c-ba36-4992-8702-fb15a1f03fdf": {
      "model_module": "jupyter-threejs",
      "model_module_version": "^2.1.0",
      "model_name": "OrthographicCameraModel",
      "state": {
       "bottom": -5,
       "far": 500,
       "left": -5,
       "near": 0.5,
       "projectionMatrix": [
        0.2,
        0,
        0,
        0,
        0,
        0.2,
        0,
        0,
        0,
        0,
        -0.004004004004004004,
        0,
        0,
        0,
        -1.002002002002002,
        1
       ],
       "right": 5,
       "top": 5
      }
     },
     "8749a0e75fbc46e08ecd283c567d21a4": {
      "buffers": [
       {
        "data": "AAAAPwAAAD8AAAA/AAAAPwAAAD8AAAA/AAAAPwAAAD8AAAA/AAAAPwAAAD8AAAA/AAAAPwAAAD8AAAA/AAAAPwAAAD8AAAA/AAAAPwAAAD8AAAA/AAAAPwAAAD8AAAA/AAAAPwAAAD8AAAA/AAAAPwAAAD8AAAA/AAAAPwAAAD8AAAA/AAAAPwAAAD8AAAA/AAAAPwAAAD8AAAA/AAAAPwAAAD8AAAA/AAAAPwAAAD8AAAA/AAAAPwAAAD8AAAA/AAAAPwAAAD8AAAA/AAAAPwAAAD8AAAA/AAAAPwAAAD8AAAA/AAAAPwAAAD8AAAA/AAAAPwAAAD8AAAA/AAAAPwAAAD8AAAA/AAAAPwAAAD8AAAA/AAAAPwAAAD8AAAA/AAAAPwAAAD8AAAA/AAAAPwAAAD8AAAA/AAAAPwAAAD8AAAA/AAAAPwAAAD8AAAA/AAAAPwAAAD8AAAA/AAAAPwAAAD8AAAA/AAAAPwAAAD8AAAA/AAAAPwAAAD8AAAA/AAAAPwAAAD8AAAA/AAAAPwAAAD8AAAA/AAAAPwAAAD8AAAA/AAAAPwAAAD8AAAA/AAAAPwAAAD8AAAA/AAAAPwAAAD8AAAA/AAAAPwAAAD8AAAA/AAAAPwAAAD8AAAA/AAAAPwAAAD8AAAA/AAAAPwAAAD8AAAA/AAAAPwAAAD8AAAA/AAAAPwAAAD8AAAA/AAAAPwAAAD8AAAA/AAAAPwAAAD8AAAA/AAAAPwAAAD8AAAA/AAAAPwAAAD8AAAA/AAAAPwAAAD8AAAA/AAAAPwAAAD8AAAA/AAAAPwAAAD8AAAA/AAAAPwAAAD8AAAA/AAAAPwAAAD8AAAA/AAAAPwAAAD8AAAA/AAAAPwAAAD8AAAA/AAAAPwAAAD8AAAA/AAAAPwAAAD8AAAA/AAAAPwAAAD8AAAA/AAAAPwAAAD8AAAA/AAAAPwAAAD8AAAA/AAAAPwAAAD8AAAA/AAAAPwAAAD8AAAA/AAAAPwAAAD8AAAA/AAAAPwAAAD8AAAA/AAAAPwAAAD8AAAA/AAAAPwAAAD8AAAA/AAAAPwAAAD8AAAA/AAAAPwAAAD8AAAA/AAAAPwAAAD8AAAA/AAAAPwAAAD8AAAA/AAAAPwAAAD8AAAA/AAAAPwAAAD8AAAA/AAAAPwAAAD8AAAA/AAAAPwAAAD8AAAA/AAAAPwAAAD8AAAA/AAAAPwAAAD8AAAA/AAAAPwAAAD8AAAA/AAAAPwAAAD8AAAA/AAAAPwAAAD8AAAA/AAAAPwAAAD8AAAA/AAAAPwAAAD8AAAA/AAAAPwAAAD8AAAA/AAAAPwAAAD8AAAA/AAAAPwAAAD8AAAA/AAAAPwAAAD8AAAA/AAAAPwAAAD8AAAA/AAAAPwAAAD8AAAA/AAAAPwAAAD8AAAA/AAAAPwAAAD8AAAA/AAAAPwAAAD8AAAA/AAAAPwAAAD8AAAA/AAAAPwAAAD8AAAA/AAAAPwAAAD8AAAA/AAAAPwAAAD8AAAA/AAAAPwAAAD8AAAA/AAAAPwAAAD8AAAA/",
        "encoding": "base64",
        "path": [
         "array",
         "buffer"
        ]
       }
      ],
      "model_module": "jupyter-threejs",
      "model_module_version": "^2.1.0",
      "model_name": "BufferAttributeModel",
      "state": {
       "_view_module": null,
       "_view_module_version": "",
       "array": {
        "buffer": {},
        "dtype": "float32",
        "shape": [
         96,
         3
        ]
       },
       "normalized": true,
       "version": 2
      }
     },
     "87ad3f91d1304ac3b8f9a5260f751f92": {
      "model_module": "jupyter-threejs",
      "model_module_version": "^2.1.0",
      "model_name": "MeshModel",
      "state": {
       "_view_module": null,
       "_view_module_version": "",
       "geometry": "IPY_MODEL_e30ac98005d949519c00084577f95cfa",
       "material": "IPY_MODEL_7e24e42126e643f1a261e8b7f67c5d87",
       "morphTargetInfluences": []
      }
     },
     "8826376ae9a0489888d6f50c2ac6ad58": {
      "model_module": "jupyter-threejs",
      "model_module_version": "^2.1.0",
      "model_name": "SpriteModel",
      "state": {
       "_view_module": null,
       "_view_module_version": "",
       "material": "IPY_MODEL_085b382f9c1e44589dbfa74dcc78b763",
       "matrix": [
        0.05,
        0,
        0,
        0,
        0,
        0.07500000000000001,
        0,
        0,
        0,
        0,
        0.05,
        0,
        2,
        0,
        0,
        1
       ],
       "position": [
        2,
        0,
        0
       ],
       "scale": [
        0.05,
        0.07500000000000001,
        0.05
       ]
      }
     },
     "885b0d17cd4542e6a022ba54d67b6c6e": {
      "model_module": "jupyter-threejs",
      "model_module_version": "^2.1.0",
      "model_name": "TextTextureModel",
      "state": {
       "_view_module": null,
       "_view_module_version": "",
       "size": 100,
       "squareTexture": false,
       "string": "21",
       "version": 2
      }
     },
     "885e8466a05946a88d84a56927a5bfc3": {
      "model_module": "jupyter-threejs",
      "model_module_version": "^2.1.0",
      "model_name": "SpriteMaterialModel",
      "state": {
       "_view_module": null,
       "_view_module_version": "",
       "map": "IPY_MODEL_f34cf0c806b045648f76ec3e37a14063"
      }
     },
     "8881268e1a6a44588b683caa4eb4964b": {
      "model_module": "jupyter-threejs",
      "model_module_version": "^2.1.0",
      "model_name": "SpriteMaterialModel",
      "state": {
       "_view_module": null,
       "_view_module_version": "",
       "map": "IPY_MODEL_349f1dc316a14b17afaab0adad3c5925"
      }
     },
     "8912be14921f4d09b24a209aecf1fb66": {
      "model_module": "@jupyter-widgets/base",
      "model_module_version": "1.2.0",
      "model_name": "LayoutModel",
      "state": {}
     },
     "8958e236e1fb4eddb2a8811206e2b0e4": {
      "model_module": "jupyter-threejs",
      "model_module_version": "^2.1.0",
      "model_name": "MeshLambertMaterialModel",
      "state": {
       "_view_module": null,
       "_view_module_version": "",
       "side": "BackSide",
       "vertexColors": "VertexColors"
      }
     },
     "898095a24a144e689f0f4c3b19ef3480": {
      "model_module": "jupyter-threejs",
      "model_module_version": "^2.1.0",
      "model_name": "SpriteModel",
      "state": {
       "_view_module": null,
       "_view_module_version": "",
       "material": "IPY_MODEL_457cb1c7bf094df29cf6174f7bbde364",
       "matrix": [
        0.05,
        0,
        0,
        0,
        0,
        0.07500000000000001,
        0,
        0,
        0,
        0,
        0.05,
        0,
        0,
        0.5,
        0.5,
        1
       ],
       "position": [
        0,
        0.5,
        0.5
       ],
       "scale": [
        0.05,
        0.07500000000000001,
        0.05
       ]
      }
     },
     "89ac5640dcd14353828d09f892d6ea25": {
      "model_module": "jupyter-threejs",
      "model_module_version": "^2.1.0",
      "model_name": "SpriteModel",
      "state": {
       "_view_module": null,
       "_view_module_version": "",
       "material": "IPY_MODEL_501073c00d6d4b539327477e6a746f17",
       "matrix": [
        0.05,
        0,
        0,
        0,
        0,
        0.07500000000000001,
        0,
        0,
        0,
        0,
        0.05,
        0,
        1,
        0,
        0.5,
        1
       ],
       "position": [
        1,
        0,
        0.5
       ],
       "scale": [
        0.05,
        0.07500000000000001,
        0.05
       ]
      }
     },
     "8ac99563f521483e97344d23cd4444b6": {
      "model_module": "jupyter-threejs",
      "model_module_version": "^2.1.0",
      "model_name": "SpriteMaterialModel",
      "state": {
       "_view_module": null,
       "_view_module_version": "",
       "map": "IPY_MODEL_84b53c1bc95849c59be690bf4ced7f5f"
      }
     },
     "8ad0a2dbfc04440d82ef84e4c4308c66": {
      "model_module": "jupyter-threejs",
      "model_module_version": "^2.1.0",
      "model_name": "SpriteMaterialModel",
      "state": {
       "_view_module": null,
       "_view_module_version": "",
       "map": "IPY_MODEL_5e9e5dcd63044d58b38b09b1d2954586"
      }
     },
     "8bb42529962d40099d1226663f34fc35": {
      "model_module": "jupyter-threejs",
      "model_module_version": "^2.1.0",
      "model_name": "SpriteModel",
      "state": {
       "_view_module": null,
       "_view_module_version": "",
       "material": "IPY_MODEL_0ff2cc9c691d49078ef8c0adfd08ec5f",
       "matrix": [
        0.05,
        0,
        0,
        0,
        0,
        0.07500000000000001,
        0,
        0,
        0,
        0,
        0.05,
        0,
        0.5,
        0.5,
        1,
        1
       ],
       "position": [
        0.5,
        0.5,
        1
       ],
       "scale": [
        0.05,
        0.07500000000000001,
        0.05
       ]
      }
     },
     "8cd783fa55564504912937e8ebdfab14": {
      "model_module": "jupyter-threejs",
      "model_module_version": "^2.1.0",
      "model_name": "SpriteMaterialModel",
      "state": {
       "_view_module": null,
       "_view_module_version": "",
       "map": "IPY_MODEL_d1aa198814d44a35b2c63def5fbf9f08"
      }
     },
     "8ce2d3c67b214f6d8f725ec2ddaa47a7": {
      "model_module": "jupyter-threejs",
      "model_module_version": "^2.1.0",
      "model_name": "SpriteMaterialModel",
      "state": {
       "_view_module": null,
       "_view_module_version": "",
       "map": "IPY_MODEL_9484fde4c0034329ae5a860a1f12da55"
      }
     },
     "90ca3b595fc449088217626237af0f91": {
      "model_module": "jupyter-threejs",
      "model_module_version": "^2.1.0",
      "model_name": "TextTextureModel",
      "state": {
       "_view_module": null,
       "_view_module_version": "",
       "size": 100,
       "squareTexture": false,
       "string": "20",
       "version": 2
      }
     },
     "90ed30172b9948878a010b5e925d72b0": {
      "model_module": "jupyter-threejs",
      "model_module_version": "^2.1.0",
      "model_name": "PerspectiveCameraModel",
      "state": {
       "_view_module": null,
       "_view_module_version": "",
       "matrix": [
        0.7071067811865477,
        2.7755575615628914e-17,
        -0.7071067811865474,
        0,
        -0.4082482904638629,
        0.816496580927726,
        -0.40824829046386296,
        0,
        0.5773502691896256,
        0.5773502691896256,
        0.577350269189626,
        0,
        3,
        3,
        3,
        1
       ],
       "matrixWorld": [
        0.7071067811865477,
        2.7755575615628914e-17,
        -0.7071067811865474,
        0,
        -0.4082482904638629,
        0.816496580927726,
        -0.40824829046386296,
        0,
        0.5773502691896256,
        0.5773502691896256,
        0.577350269189626,
        0,
        3,
        3,
        3,
        1
       ],
       "position": [
        3,
        3,
        3
       ],
       "projectionMatrix": [
        2.1445069205095586,
        0,
        0,
        0,
        0,
        2.1445069205095586,
        0,
        0,
        0,
        0,
        -1.00010000500025,
        -1,
        0,
        0,
        -0.200010000500025,
        0
       ],
       "quaternion": [
        -0.2798481423331213,
        0.3647051996310008,
        0.11591689595929511,
        0.8804762392171493
       ],
       "rotation": [
        -0.7853981633974481,
        0.6154797086703871,
        0.5235987755982987,
        "XYZ"
       ]
      }
     },
     "93c529f720474d8c92e0656faef5fae5": {
      "model_module": "jupyter-threejs",
      "model_module_version": "^2.1.0",
      "model_name": "AxesHelperModel",
      "state": {
       "_view_module": null,
       "_view_module_version": "",
       "size": 2,
       "type": "LineSegments"
      }
     },
     "940c4118771c42ba98fa016a8f41276d": {
      "model_module": "jupyter-threejs",
      "model_module_version": "^2.1.0",
      "model_name": "TextTextureModel",
      "state": {
       "_view_module": null,
       "_view_module_version": "",
       "size": 100,
       "squareTexture": false,
       "string": "3",
       "version": 2
      }
     },
     "9484fde4c0034329ae5a860a1f12da55": {
      "model_module": "jupyter-threejs",
      "model_module_version": "^2.1.0",
      "model_name": "TextTextureModel",
      "state": {
       "_view_module": null,
       "_view_module_version": "",
       "size": 100,
       "squareTexture": false,
       "string": "16",
       "version": 2
      }
     },
     "9585541b0a3446309d51fb26a61fc46f": {
      "model_module": "jupyter-threejs",
      "model_module_version": "^2.1.0",
      "model_name": "TextTextureModel",
      "state": {
       "_view_module": null,
       "_view_module_version": "",
       "size": 100,
       "squareTexture": false,
       "string": "16",
       "version": 2
      }
     },
     "95df3c5a43134d509ce67c42cf1db43a": {
      "model_module": "jupyter-threejs",
      "model_module_version": "^2.1.0",
      "model_name": "TextTextureModel",
      "state": {
       "_view_module": null,
       "_view_module_version": "",
       "size": 100,
       "squareTexture": false,
       "string": "15",
       "version": 2
      }
     },
     "96091a9ed97a4096bee523a1444bec16": {
      "model_module": "jupyter-threejs",
      "model_module_version": "^2.1.0",
      "model_name": "SpriteModel",
      "state": {
       "_view_module": null,
       "_view_module_version": "",
       "material": "IPY_MODEL_e9735d50c6d94bfaa62cd08e775a58aa",
       "matrix": [
        0.05,
        0,
        0,
        0,
        0,
        0.07500000000000001,
        0,
        0,
        0,
        0,
        0.05,
        0,
        0,
        0,
        0.5,
        1
       ],
       "position": [
        0,
        0,
        0.5
       ],
       "scale": [
        0.05,
        0.07500000000000001,
        0.05
       ]
      }
     },
     "9650f686041e41b09d5febc276c53e4c": {
      "model_module": "jupyter-threejs",
      "model_module_version": "^2.1.0",
      "model_name": "MeshLambertMaterialModel",
      "state": {
       "_view_module": null,
       "_view_module_version": "",
       "side": "BackSide",
       "vertexColors": "VertexColors"
      }
     },
     "973b33bdf0774032b8a771a63ca7b5a3": {
      "model_module": "jupyter-threejs",
      "model_module_version": "^2.1.0",
      "model_name": "TextTextureModel",
      "state": {
       "_view_module": null,
       "_view_module_version": "",
       "size": 100,
       "squareTexture": false,
       "string": "13",
       "version": 2
      }
     },
     "975537f9198f4d26a073926868f4ea0a": {
      "model_module": "jupyter-threejs",
      "model_module_version": "^2.1.0",
      "model_name": "SpriteModel",
      "state": {
       "_view_module": null,
       "_view_module_version": "",
       "material": "IPY_MODEL_f22667e5f7d34c7a81acb9c3999e5b78",
       "matrix": [
        0.05,
        0,
        0,
        0,
        0,
        0.07500000000000001,
        0,
        0,
        0,
        0,
        0.05,
        0,
        0.5,
        0.5,
        1,
        1
       ],
       "position": [
        0.5,
        0.5,
        1
       ],
       "scale": [
        0.05,
        0.07500000000000001,
        0.05
       ]
      }
     },
     "98cae1627c184a6581f81e7a5a708a53": {
      "model_module": "jupyter-threejs",
      "model_module_version": "^2.1.0",
      "model_name": "WebGLShadowMapModel",
      "state": {
       "_view_module": null,
       "_view_module_version": ""
      }
     },
     "9a42a4f9ecc440b38d2ba9064128cf65": {
      "model_module": "jupyter-threejs",
      "model_module_version": "^2.1.0",
      "model_name": "SpriteMaterialModel",
      "state": {
       "_view_module": null,
       "_view_module_version": "",
       "map": "IPY_MODEL_9585541b0a3446309d51fb26a61fc46f"
      }
     },
     "9b5c40b73ea84bb38bb1b2c369576660": {
      "model_module": "jupyter-threejs",
      "model_module_version": "^2.1.0",
      "model_name": "AxesHelperModel",
      "state": {
       "_view_module": null,
       "_view_module_version": "",
       "size": 2,
       "type": "LineSegments"
      }
     },
     "9b7b569ab06f4f03932113ae3627a856": {
      "model_module": "jupyter-threejs",
      "model_module_version": "^2.1.0",
      "model_name": "SpriteMaterialModel",
      "state": {
       "_view_module": null,
       "_view_module_version": "",
       "map": "IPY_MODEL_36f2a525f4f642869f5b116bf401fcb8"
      }
     },
     "9c76d0389e724cad9cdcb5ed4cd5f4e0": {
      "buffers": [
       {
        "data": "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",
        "encoding": "base64",
        "path": [
         "array",
         "buffer"
        ]
       }
      ],
      "model_module": "jupyter-threejs",
      "model_module_version": "^2.1.0",
      "model_name": "BufferAttributeModel",
      "state": {
       "_view_module": null,
       "_view_module_version": "",
       "array": {
        "buffer": {},
        "dtype": "uint16",
        "shape": [
         9216
        ]
       },
       "version": 2
      }
     },
     "9c9a8f81f51b49989b6ae0137d486a7b": {
      "model_module": "jupyter-threejs",
      "model_module_version": "^2.1.0",
      "model_name": "AmbientLightModel",
      "state": {
       "_view_module": null,
       "_view_module_version": "",
       "intensity": 0.8
      }
     },
     "9da83362fe1e48d7a61cb0bb70a9c532": {
      "model_module": "jupyter-threejs",
      "model_module_version": "^2.1.0",
      "model_name": "SpriteMaterialModel",
      "state": {
       "_view_module": null,
       "_view_module_version": "",
       "map": "IPY_MODEL_c20ad8fb32194b7dbdb1582fbb524a66"
      }
     },
     "9dc0a381bcfa4597b3ca4d7216a6839b": {
      "model_module": "jupyter-threejs",
      "model_module_version": "^2.1.0",
      "model_name": "DirectionalLightModel",
      "state": {
       "_view_module": null,
       "_view_module_version": "",
       "intensity": 0.5,
       "matrixWorldNeedsUpdate": true,
       "position": [
        16,
        12,
        17
       ],
       "shadow": "IPY_MODEL_b4f73955-408f-43a2-8a47-d54939de0a22",
       "target": "IPY_MODEL_df7f59be-2a92-406b-adbe-5780f242d281"
      }
     },
     "9ebba29087a14578b9f029915845c8fb": {
      "model_module": "jupyter-threejs",
      "model_module_version": "^2.1.0",
      "model_name": "BufferGeometryModel",
      "state": {
       "_view_module": null,
       "_view_module_version": "",
       "attributes": {
        "color": "IPY_MODEL_c5ddb220a6304f3bb7178089509a03e1",
        "position": "IPY_MODEL_3e133d38c9c342748cf69e59fb9d5d18"
       },
       "index": "IPY_MODEL_9c76d0389e724cad9cdcb5ed4cd5f4e0"
      }
     },
     "9ec097b97e1346f1a9ec521b12e8545d": {
      "model_module": "jupyter-threejs",
      "model_module_version": "^2.1.0",
      "model_name": "TextTextureModel",
      "state": {
       "_view_module": null,
       "_view_module_version": "",
       "size": 100,
       "squareTexture": false,
       "string": "x",
       "version": 2
      }
     },
     "9fe7412c9abb46c58384d16833ec2af2": {
      "model_module": "jupyter-threejs",
      "model_module_version": "^2.1.0",
      "model_name": "TextTextureModel",
      "state": {
       "_view_module": null,
       "_view_module_version": "",
       "size": 100,
       "squareTexture": false,
       "string": "26",
       "version": 2
      }
     },
     "a0e5e91ed0e74af2b0c4b663caaabac4": {
      "model_module": "jupyter-threejs",
      "model_module_version": "^2.1.0",
      "model_name": "SpriteModel",
      "state": {
       "_view_module": null,
       "_view_module_version": "",
       "material": "IPY_MODEL_49a08c072ac54af69616e44ca4dbeebc",
       "matrix": [
        0.05,
        0,
        0,
        0,
        0,
        0.07500000000000001,
        0,
        0,
        0,
        0,
        0.05,
        0,
        1,
        1,
        0.5,
        1
       ],
       "position": [
        1,
        1,
        0.5
       ],
       "scale": [
        0.05,
        0.07500000000000001,
        0.05
       ]
      }
     },
     "a1719fa6df1043fb99f360de0b44c154": {
      "model_module": "jupyter-threejs",
      "model_module_version": "^2.1.0",
      "model_name": "TextTextureModel",
      "state": {
       "_view_module": null,
       "_view_module_version": "",
       "size": 100,
       "squareTexture": false,
       "string": "1",
       "version": 2
      }
     },
     "a234456995d04312adc7c0534975e74c": {
      "model_module": "jupyter-threejs",
      "model_module_version": "^2.1.0",
      "model_name": "SpriteModel",
      "state": {
       "_view_module": null,
       "_view_module_version": "",
       "material": "IPY_MODEL_292b0530e5e04ad3bee9d8aae175832b",
       "matrix": [
        0.05,
        0,
        0,
        0,
        0,
        0.07500000000000001,
        0,
        0,
        0,
        0,
        0.05,
        0,
        1,
        1,
        0,
        1
       ],
       "position": [
        1,
        1,
        0
       ],
       "scale": [
        0.05,
        0.07500000000000001,
        0.05
       ]
      }
     },
     "a31c686862e044ccacd8cc7872a27350": {
      "model_module": "jupyter-threejs",
      "model_module_version": "^2.1.0",
      "model_name": "SpriteMaterialModel",
      "state": {
       "_view_module": null,
       "_view_module_version": "",
       "map": "IPY_MODEL_973b33bdf0774032b8a771a63ca7b5a3"
      }
     },
     "a51bc7f5d86140a7924ba07ee69ac4c2": {
      "model_module": "jupyter-threejs",
      "model_module_version": "^2.1.0",
      "model_name": "SpriteModel",
      "state": {
       "_view_module": null,
       "_view_module_version": "",
       "material": "IPY_MODEL_2adc5da295354e2c93df4eefe9674bcf",
       "matrix": [
        0.05,
        0,
        0,
        0,
        0,
        0.07500000000000001,
        0,
        0,
        0,
        0,
        0.05,
        0,
        0.5,
        1,
        0,
        1
       ],
       "position": [
        0.5,
        1,
        0
       ],
       "scale": [
        0.05,
        0.07500000000000001,
        0.05
       ]
      }
     },
     "a598ae52a71548889e70286d15ae5d53": {
      "model_module": "jupyter-threejs",
      "model_module_version": "^2.1.0",
      "model_name": "SpriteMaterialModel",
      "state": {
       "_view_module": null,
       "_view_module_version": "",
       "map": "IPY_MODEL_194ffbceb1b94ee6bec11fee026f3e18"
      }
     },
     "a66f2efce7664b5793356fd5332922b1": {
      "model_module": "jupyter-threejs",
      "model_module_version": "^2.1.0",
      "model_name": "TextTextureModel",
      "state": {
       "_view_module": null,
       "_view_module_version": "",
       "size": 100,
       "squareTexture": false,
       "string": "13",
       "version": 2
      }
     },
     "a7b6288fdd584f3f89681296eebffefb": {
      "model_module": "jupyter-threejs",
      "model_module_version": "^2.1.0",
      "model_name": "SpriteMaterialModel",
      "state": {
       "_view_module": null,
       "_view_module_version": "",
       "map": "IPY_MODEL_a1719fa6df1043fb99f360de0b44c154"
      }
     },
     "a9a5bfb6785d46749b52a6633ee7b6e6": {
      "model_module": "jupyter-threejs",
      "model_module_version": "^2.1.0",
      "model_name": "SpriteMaterialModel",
      "state": {
       "_view_module": null,
       "_view_module_version": "",
       "map": "IPY_MODEL_7b77995a6be3424b9130e88bd19b8e4d"
      }
     },
     "a9d80f62cb0c4692a3933507158ae79c": {
      "model_module": "jupyter-threejs",
      "model_module_version": "^2.1.0",
      "model_name": "SpriteModel",
      "state": {
       "_view_module": null,
       "_view_module_version": "",
       "material": "IPY_MODEL_c46aa7a1a1a247d691484afbfd2127cd",
       "matrix": [
        0.05,
        0,
        0,
        0,
        0,
        0.07500000000000001,
        0,
        0,
        0,
        0,
        0.05,
        0,
        0.5,
        0.5,
        0.5,
        1
       ],
       "position": [
        0.5,
        0.5,
        0.5
       ],
       "scale": [
        0.05,
        0.07500000000000001,
        0.05
       ]
      }
     },
     "aaae2d75f8054e66be85e8b113c584a4": {
      "model_module": "jupyter-threejs",
      "model_module_version": "^2.1.0",
      "model_name": "RendererModel",
      "state": {
       "_height": 600,
       "_webgl_version": 2,
       "_width": 600,
       "camera": "IPY_MODEL_17aaf546392643a1885958af08bcbeab",
       "controls": [
        "IPY_MODEL_57438d7d2c1f43b584ebb764d8a3cb0a"
       ],
       "layout": "IPY_MODEL_8912be14921f4d09b24a209aecf1fb66",
       "scene": "IPY_MODEL_285f3e716c054488a775bf94d07a383f",
       "shadowMap": "IPY_MODEL_98cae1627c184a6581f81e7a5a708a53"
      }
     },
     "ad7becb7a8644892ad5d3be3d7d8935a": {
      "model_module": "jupyter-threejs",
      "model_module_version": "^2.1.0",
      "model_name": "SpriteModel",
      "state": {
       "_view_module": null,
       "_view_module_version": "",
       "material": "IPY_MODEL_b2e610e2cef24aa3a8cac660da969e31",
       "matrix": [
        0.05,
        0,
        0,
        0,
        0,
        0.07500000000000001,
        0,
        0,
        0,
        0,
        0.05,
        0,
        1,
        0.5,
        0.5,
        1
       ],
       "position": [
        1,
        0.5,
        0.5
       ],
       "scale": [
        0.05,
        0.07500000000000001,
        0.05
       ]
      }
     },
     "aec30d8442a74f0fa8c9c523531454d4": {
      "model_module": "jupyter-threejs",
      "model_module_version": "^2.1.0",
      "model_name": "WebGLShadowMapModel",
      "state": {
       "_view_module": null,
       "_view_module_version": ""
      }
     },
     "b081bc4030bb40d9bda75fa2e913fa15": {
      "model_module": "jupyter-threejs",
      "model_module_version": "^2.1.0",
      "model_name": "SpriteModel",
      "state": {
       "_view_module": null,
       "_view_module_version": "",
       "material": "IPY_MODEL_885e8466a05946a88d84a56927a5bfc3",
       "matrix": [
        0.05,
        0,
        0,
        0,
        0,
        0.07500000000000001,
        0,
        0,
        0,
        0,
        0.05,
        0,
        0.5,
        0.5,
        0,
        1
       ],
       "position": [
        0.5,
        0.5,
        0
       ],
       "scale": [
        0.05,
        0.07500000000000001,
        0.05
       ]
      }
     },
     "b0eadea5951346d2869ecf9fbec47554": {
      "model_module": "jupyter-threejs",
      "model_module_version": "^2.1.0",
      "model_name": "TextTextureModel",
      "state": {
       "_view_module": null,
       "_view_module_version": "",
       "size": 100,
       "squareTexture": false,
       "string": "12",
       "version": 2
      }
     },
     "b2e031610c274b73a7ae2991e9e0ef92": {
      "model_module": "jupyter-threejs",
      "model_module_version": "^2.1.0",
      "model_name": "SpriteMaterialModel",
      "state": {
       "_view_module": null,
       "_view_module_version": "",
       "map": "IPY_MODEL_083ed9cb3ea54407aaa60c271d01d9dc"
      }
     },
     "b2e610e2cef24aa3a8cac660da969e31": {
      "model_module": "jupyter-threejs",
      "model_module_version": "^2.1.0",
      "model_name": "SpriteMaterialModel",
      "state": {
       "_view_module": null,
       "_view_module_version": "",
       "map": "IPY_MODEL_506a2a2854d846cf9e581603ce77ebdd"
      }
     },
     "b357cc9f532b463cad95a2eb03a217d1": {
      "model_module": "jupyter-threejs",
      "model_module_version": "^2.1.0",
      "model_name": "GroupModel",
      "state": {
       "_view_module": null,
       "_view_module_version": "",
       "children": [
        "IPY_MODEL_07446174e82c49068d51e53bef77cc1d",
        "IPY_MODEL_4111938ac7e84bb9bcf01adb157d18b4"
       ]
      }
     },
     "b39ead21e39249649e495a0bda73b9ee": {
      "model_module": "jupyter-threejs",
      "model_module_version": "^2.1.0",
      "model_name": "DirectionalLightModel",
      "state": {
       "_view_module": null,
       "_view_module_version": "",
       "intensity": 0.5,
       "matrixWorldNeedsUpdate": true,
       "position": [
        16,
        12,
        17
       ],
       "shadow": "IPY_MODEL_281ab52b-6234-48cb-8ddb-b5f46a6679ba",
       "target": "IPY_MODEL_f39645be-4faf-4c6d-b268-d87fa8559732"
      }
     },
     "b3c7d6c37f6b473188f419c8ea8d0314": {
      "model_module": "jupyter-threejs",
      "model_module_version": "^2.1.0",
      "model_name": "TextTextureModel",
      "state": {
       "_view_module": null,
       "_view_module_version": "",
       "size": 100,
       "squareTexture": false,
       "string": "24",
       "version": 2
      }
     },
     "b4f73955-408f-43a2-8a47-d54939de0a22": {
      "model_module": "jupyter-threejs",
      "model_module_version": "^2.1.0",
      "model_name": "DirectionalLightShadowModel",
      "state": {
       "camera": "IPY_MODEL_8673a30c-ba36-4992-8702-fb15a1f03fdf"
      }
     },
     "b60dd767952d4bc6b6071853141de9f8": {
      "model_module": "jupyter-threejs",
      "model_module_version": "^2.1.0",
      "model_name": "SpriteMaterialModel",
      "state": {
       "_view_module": null,
       "_view_module_version": "",
       "map": "IPY_MODEL_376f900a5fff480eb452e422128fc402"
      }
     },
     "b8d56f9fa6314879a34f17876654821d": {
      "model_module": "jupyter-threejs",
      "model_module_version": "^2.1.0",
      "model_name": "SpriteMaterialModel",
      "state": {
       "_view_module": null,
       "_view_module_version": "",
       "map": "IPY_MODEL_effa692272a7482582489871e66c1cbd"
      }
     },
     "b994a8a6c38446dba10c3600aababf2e": {
      "model_module": "jupyter-threejs",
      "model_module_version": "^2.1.0",
      "model_name": "SpriteModel",
      "state": {
       "_view_module": null,
       "_view_module_version": "",
       "material": "IPY_MODEL_76ee6f0396f141f2b2118dd6c6bd39e4",
       "matrix": [
        0.05,
        0,
        0,
        0,
        0,
        0.07500000000000001,
        0,
        0,
        0,
        0,
        0.05,
        0,
        0,
        0,
        2,
        1
       ],
       "position": [
        0,
        0,
        2
       ],
       "scale": [
        0.05,
        0.07500000000000001,
        0.05
       ]
      }
     },
     "bc59a98acf554714ab771421c9307ad5": {
      "model_module": "jupyter-threejs",
      "model_module_version": "^2.1.0",
      "model_name": "TextTextureModel",
      "state": {
       "_view_module": null,
       "_view_module_version": "",
       "size": 100,
       "squareTexture": false,
       "string": "14",
       "version": 2
      }
     },
     "bd363f9eb27e493a964aeb053ec22993": {
      "model_module": "jupyter-threejs",
      "model_module_version": "^2.1.0",
      "model_name": "SpriteModel",
      "state": {
       "_view_module": null,
       "_view_module_version": "",
       "material": "IPY_MODEL_28d546b29574417b8b578dcbf042a13f",
       "matrix": [
        0.05,
        0,
        0,
        0,
        0,
        0.07500000000000001,
        0,
        0,
        0,
        0,
        0.05,
        0,
        1,
        0,
        0.5,
        1
       ],
       "position": [
        1,
        0,
        0.5
       ],
       "scale": [
        0.05,
        0.07500000000000001,
        0.05
       ]
      }
     },
     "be34cba44cc74cc0b56c2e55e3c28213": {
      "model_module": "jupyter-threejs",
      "model_module_version": "^2.1.0",
      "model_name": "TextTextureModel",
      "state": {
       "_view_module": null,
       "_view_module_version": "",
       "size": 100,
       "squareTexture": false,
       "string": "27",
       "version": 2
      }
     },
     "be7a4b6a09aa4a2d8e9af4630970a8f1": {
      "model_module": "jupyter-threejs",
      "model_module_version": "^2.1.0",
      "model_name": "MeshLambertMaterialModel",
      "state": {
       "_view_module": null,
       "_view_module_version": "",
       "side": "BackSide",
       "vertexColors": "VertexColors"
      }
     },
     "c20ad8fb32194b7dbdb1582fbb524a66": {
      "model_module": "jupyter-threejs",
      "model_module_version": "^2.1.0",
      "model_name": "TextTextureModel",
      "state": {
       "_view_module": null,
       "_view_module_version": "",
       "size": 100,
       "squareTexture": false,
       "string": "y",
       "version": 2
      }
     },
     "c35c5be7898b4f61bcc86acab8b02364": {
      "model_module": "jupyter-threejs",
      "model_module_version": "^2.1.0",
      "model_name": "AmbientLightModel",
      "state": {
       "_view_module": null,
       "_view_module_version": "",
       "intensity": 0.8
      }
     },
     "c3888378d4294626a0fdec0f7619f2cd": {
      "model_module": "jupyter-threejs",
      "model_module_version": "^2.1.0",
      "model_name": "MeshModel",
      "state": {
       "_view_module": null,
       "_view_module_version": "",
       "geometry": "IPY_MODEL_9ebba29087a14578b9f029915845c8fb",
       "material": "IPY_MODEL_08cc21fcf5ff4412a1081e0d555ac95d",
       "morphTargetInfluences": []
      }
     },
     "c46aa7a1a1a247d691484afbfd2127cd": {
      "model_module": "jupyter-threejs",
      "model_module_version": "^2.1.0",
      "model_name": "SpriteMaterialModel",
      "state": {
       "_view_module": null,
       "_view_module_version": "",
       "map": "IPY_MODEL_532736226fdf4b338173ef7156f2a875"
      }
     },
     "c47fa8cebf374379bf517657a87893b4": {
      "model_module": "jupyter-threejs",
      "model_module_version": "^2.1.0",
      "model_name": "SpriteMaterialModel",
      "state": {
       "_view_module": null,
       "_view_module_version": "",
       "map": "IPY_MODEL_13cc089ba0dd4a04b649a6c06865cd90"
      }
     },
     "c5ddb220a6304f3bb7178089509a03e1": {
      "buffers": [
       {
        "data": "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",
        "encoding": "base64",
        "path": [
         "array",
         "buffer"
        ]
       }
      ],
      "model_module": "jupyter-threejs",
      "model_module_version": "^2.1.0",
      "model_name": "BufferAttributeModel",
      "state": {
       "_view_module": null,
       "_view_module_version": "",
       "array": {
        "buffer": {},
        "dtype": "float32",
        "shape": [
         1944,
         3
        ]
       },
       "normalized": true,
       "version": 2
      }
     },
     "c73e66ec175244cb94806d198ba5f0bf": {
      "model_module": "jupyter-threejs",
      "model_module_version": "^2.1.0",
      "model_name": "MeshModel",
      "state": {
       "_view_module": null,
       "_view_module_version": "",
       "geometry": "IPY_MODEL_9ebba29087a14578b9f029915845c8fb",
       "material": "IPY_MODEL_8958e236e1fb4eddb2a8811206e2b0e4",
       "morphTargetInfluences": []
      }
     },
     "c794201a-0832-4bcc-bf56-82c396939182": {
      "model_module": "jupyter-threejs",
      "model_module_version": "^2.1.0",
      "model_name": "OrthographicCameraModel",
      "state": {
       "bottom": -5,
       "far": 500,
       "left": -5,
       "near": 0.5,
       "projectionMatrix": [
        0.2,
        0,
        0,
        0,
        0,
        0.2,
        0,
        0,
        0,
        0,
        -0.004004004004004004,
        0,
        0,
        0,
        -1.002002002002002,
        1
       ],
       "right": 5,
       "top": 5
      }
     },
     "c79e72f265654995a623add435cec8b1": {
      "model_module": "jupyter-threejs",
      "model_module_version": "^2.1.0",
      "model_name": "SpriteModel",
      "state": {
       "_view_module": null,
       "_view_module_version": "",
       "material": "IPY_MODEL_20f0fe95595e4120a2ee727b53be6013",
       "matrix": [
        0.05,
        0,
        0,
        0,
        0,
        0.07500000000000001,
        0,
        0,
        0,
        0,
        0.05,
        0,
        0,
        1,
        0,
        1
       ],
       "position": [
        0,
        1,
        0
       ],
       "scale": [
        0.05,
        0.07500000000000001,
        0.05
       ]
      }
     },
     "c9776d145db6412585e22d619cc9df3d": {
      "model_module": "jupyter-threejs",
      "model_module_version": "^2.1.0",
      "model_name": "SpriteModel",
      "state": {
       "_view_module": null,
       "_view_module_version": "",
       "material": "IPY_MODEL_a9a5bfb6785d46749b52a6633ee7b6e6",
       "matrix": [
        0.05,
        0,
        0,
        0,
        0,
        0.07500000000000001,
        0,
        0,
        0,
        0,
        0.05,
        0,
        0,
        1,
        0,
        1
       ],
       "position": [
        0,
        1,
        0
       ],
       "scale": [
        0.05,
        0.07500000000000001,
        0.05
       ]
      }
     },
     "c9b675267d80489b9f612e0a21f5df8c": {
      "model_module": "jupyter-threejs",
      "model_module_version": "^2.1.0",
      "model_name": "TextTextureModel",
      "state": {
       "_view_module": null,
       "_view_module_version": "",
       "size": 100,
       "squareTexture": false,
       "string": "18",
       "version": 2
      }
     },
     "c9f491d7-8c3c-43c4-a79b-f49bcd683d93": {
      "model_module": "jupyter-threejs",
      "model_module_version": "^2.1.0",
      "model_name": "OrthographicCameraModel",
      "state": {
       "bottom": -5,
       "far": 500,
       "left": -5,
       "near": 0.5,
       "projectionMatrix": [
        0.2,
        0,
        0,
        0,
        0,
        0.2,
        0,
        0,
        0,
        0,
        -0.004004004004004004,
        0,
        0,
        0,
        -1.002002002002002,
        1
       ],
       "right": 5,
       "top": 5
      }
     },
     "cc47d2fa15334fbbbcb8f6d7efe7fe67": {
      "model_module": "jupyter-threejs",
      "model_module_version": "^2.1.0",
      "model_name": "TextTextureModel",
      "state": {
       "_view_module": null,
       "_view_module_version": "",
       "size": 100,
       "squareTexture": false,
       "string": "9",
       "version": 2
      }
     },
     "ce71f12f4f5347d598cebb57dc00f4c5": {
      "buffers": [
       {
        "data": "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",
        "encoding": "base64",
        "path": [
         "array",
         "buffer"
        ]
       }
      ],
      "model_module": "jupyter-threejs",
      "model_module_version": "^2.1.0",
      "model_name": "BufferAttributeModel",
      "state": {
       "_view_module": null,
       "_view_module_version": "",
       "array": {
        "buffer": {},
        "dtype": "uint16",
        "shape": [
         9216
        ]
       },
       "version": 2
      }
     },
     "cf452af525f14a51950c4d820bf2b9c2": {
      "model_module": "jupyter-threejs",
      "model_module_version": "^2.1.0",
      "model_name": "TextTextureModel",
      "state": {
       "_view_module": null,
       "_view_module_version": "",
       "size": 100,
       "squareTexture": false,
       "string": "19",
       "version": 2
      }
     },
     "d02a15f513754f17bb1ab8037365712e": {
      "model_module": "jupyter-threejs",
      "model_module_version": "^2.1.0",
      "model_name": "TextTextureModel",
      "state": {
       "_view_module": null,
       "_view_module_version": "",
       "size": 100,
       "squareTexture": false,
       "string": "22",
       "version": 2
      }
     },
     "d09ba555e27641d586c1111a6ce89833": {
      "model_module": "jupyter-threejs",
      "model_module_version": "^2.1.0",
      "model_name": "TextTextureModel",
      "state": {
       "_view_module": null,
       "_view_module_version": "",
       "size": 100,
       "squareTexture": false,
       "string": "10",
       "version": 2
      }
     },
     "d1aa198814d44a35b2c63def5fbf9f08": {
      "model_module": "jupyter-threejs",
      "model_module_version": "^2.1.0",
      "model_name": "TextTextureModel",
      "state": {
       "_view_module": null,
       "_view_module_version": "",
       "size": 100,
       "squareTexture": false,
       "string": "20",
       "version": 2
      }
     },
     "d2a68136791148b598f666c1dad28156": {
      "model_module": "jupyter-threejs",
      "model_module_version": "^2.1.0",
      "model_name": "SpriteModel",
      "state": {
       "_view_module": null,
       "_view_module_version": "",
       "material": "IPY_MODEL_b60dd767952d4bc6b6071853141de9f8",
       "matrix": [
        0.05,
        0,
        0,
        0,
        0,
        0.07500000000000001,
        0,
        0,
        0,
        0,
        0.05,
        0,
        0,
        0.5,
        0,
        1
       ],
       "position": [
        0,
        0.5,
        0
       ],
       "scale": [
        0.05,
        0.07500000000000001,
        0.05
       ]
      }
     },
     "d3619959297b460cbb4704f7509c788f": {
      "model_module": "jupyter-threejs",
      "model_module_version": "^2.1.0",
      "model_name": "SpriteModel",
      "state": {
       "_view_module": null,
       "_view_module_version": "",
       "material": "IPY_MODEL_9b7b569ab06f4f03932113ae3627a856",
       "matrix": [
        0.05,
        0,
        0,
        0,
        0,
        0.07500000000000001,
        0,
        0,
        0,
        0,
        0.05,
        0,
        0,
        0,
        0,
        1
       ],
       "scale": [
        0.05,
        0.07500000000000001,
        0.05
       ]
      }
     },
     "d4e2e5b2ba83434a92d79580ad02cf54": {
      "model_module": "jupyter-threejs",
      "model_module_version": "^2.1.0",
      "model_name": "TextTextureModel",
      "state": {
       "_view_module": null,
       "_view_module_version": "",
       "size": 100,
       "squareTexture": false,
       "string": "8",
       "version": 2
      }
     },
     "d5da4cd9ce8840049c0cbf319439c7bb": {
      "model_module": "jupyter-threejs",
      "model_module_version": "^2.1.0",
      "model_name": "TextTextureModel",
      "state": {
       "_view_module": null,
       "_view_module_version": "",
       "size": 100,
       "squareTexture": false,
       "string": "11",
       "version": 2
      }
     },
     "d6907067d09344449a880da2d6bd4557": {
      "model_module": "jupyter-threejs",
      "model_module_version": "^2.1.0",
      "model_name": "SpriteMaterialModel",
      "state": {
       "_view_module": null,
       "_view_module_version": "",
       "map": "IPY_MODEL_7e9cfbd9c5af4d42bc0a71a0850981e6"
      }
     },
     "d6b7291d8dc64486b1f010b2a7d75d9e": {
      "model_module": "jupyter-threejs",
      "model_module_version": "^2.1.0",
      "model_name": "TextTextureModel",
      "state": {
       "_view_module": null,
       "_view_module_version": "",
       "size": 100,
       "squareTexture": false,
       "string": "3",
       "version": 2
      }
     },
     "d6fe3604932e4f5282dc40af78438696": {
      "model_module": "jupyter-threejs",
      "model_module_version": "^2.1.0",
      "model_name": "SpriteMaterialModel",
      "state": {
       "_view_module": null,
       "_view_module_version": "",
       "map": "IPY_MODEL_be34cba44cc74cc0b56c2e55e3c28213"
      }
     },
     "d7656efa7f4e43c796aea71fe5a947d0": {
      "model_module": "jupyter-threejs",
      "model_module_version": "^2.1.0",
      "model_name": "SpriteModel",
      "state": {
       "_view_module": null,
       "_view_module_version": "",
       "material": "IPY_MODEL_8881268e1a6a44588b683caa4eb4964b",
       "matrix": [
        0.05,
        0,
        0,
        0,
        0,
        0.07500000000000001,
        0,
        0,
        0,
        0,
        0.05,
        0,
        0,
        0,
        2,
        1
       ],
       "position": [
        0,
        0,
        2
       ],
       "scale": [
        0.05,
        0.07500000000000001,
        0.05
       ]
      }
     },
     "d8786c95e2474de8b0999dbeeabbc4a0": {
      "model_module": "jupyter-threejs",
      "model_module_version": "^2.1.0",
      "model_name": "SceneModel",
      "state": {
       "_view_module": null,
       "_view_module_version": "",
       "children": [
        "IPY_MODEL_4a83d85526af44a3bf09afb0cbb7ae39",
        "IPY_MODEL_064500540f6943119cd97bbe4d233896",
        "IPY_MODEL_eeb968ddabc24cefbc232704002df673",
        "IPY_MODEL_5bbf512b7f394a5c892255f836e76821",
        "IPY_MODEL_c35c5be7898b4f61bcc86acab8b02364",
        "IPY_MODEL_597cf0b8d58b4fe99f6cf762404e3bbe",
        "IPY_MODEL_696dc6b5526d4c808bb1cace01a00ab8",
        "IPY_MODEL_e0de481c242341aaa27e610eb7f2569c"
       ]
      }
     },
     "d903e52abe9446b387b24a0635b94ae8": {
      "model_module": "jupyter-threejs",
      "model_module_version": "^2.1.0",
      "model_name": "TextTextureModel",
      "state": {
       "_view_module": null,
       "_view_module_version": "",
       "size": 100,
       "squareTexture": false,
       "string": "x",
       "version": 2
      }
     },
     "dac9343c00a04c7db69db2df2a91479a": {
      "model_module": "jupyter-threejs",
      "model_module_version": "^2.1.0",
      "model_name": "TextTextureModel",
      "state": {
       "_view_module": null,
       "_view_module_version": "",
       "size": 100,
       "squareTexture": false,
       "string": "17",
       "version": 2
      }
     },
     "dc13f195cc00406ea173d2dfccae1025": {
      "model_module": "jupyter-threejs",
      "model_module_version": "^2.1.0",
      "model_name": "SpriteModel",
      "state": {
       "_view_module": null,
       "_view_module_version": "",
       "material": "IPY_MODEL_20a28d660d61434eacff44ecbc833397",
       "matrix": [
        0.05,
        0,
        0,
        0,
        0,
        0.07500000000000001,
        0,
        0,
        0,
        0,
        0.05,
        0,
        0,
        2,
        0,
        1
       ],
       "position": [
        0,
        2,
        0
       ],
       "scale": [
        0.05,
        0.07500000000000001,
        0.05
       ]
      }
     },
     "dc6358d521164146be8088ec3a8b7ae5": {
      "model_module": "jupyter-threejs",
      "model_module_version": "^2.1.0",
      "model_name": "TextTextureModel",
      "state": {
       "_view_module": null,
       "_view_module_version": "",
       "size": 100,
       "squareTexture": false,
       "string": "6",
       "version": 2
      }
     },
     "dc75d406d5e24911a68849d5a972c2b0": {
      "model_module": "jupyter-threejs",
      "model_module_version": "^2.1.0",
      "model_name": "SpriteModel",
      "state": {
       "_view_module": null,
       "_view_module_version": "",
       "material": "IPY_MODEL_e98cda344d114060848a53c2536c98d7",
       "matrix": [
        0.05,
        0,
        0,
        0,
        0,
        0.07500000000000001,
        0,
        0,
        0,
        0,
        0.05,
        0,
        0.5,
        0,
        0,
        1
       ],
       "position": [
        0.5,
        0,
        0
       ],
       "scale": [
        0.05,
        0.07500000000000001,
        0.05
       ]
      }
     },
     "dd2270803eab471592a44b2cb287651e": {
      "model_module": "jupyter-threejs",
      "model_module_version": "^2.1.0",
      "model_name": "SpriteMaterialModel",
      "state": {
       "_view_module": null,
       "_view_module_version": "",
       "map": "IPY_MODEL_12ca518c36ba4a30a080ba4000d9204b"
      }
     },
     "ddd8159fec6e4da991ee9b148e3f813d": {
      "model_module": "jupyter-threejs",
      "model_module_version": "^2.1.0",
      "model_name": "TextTextureModel",
      "state": {
       "_view_module": null,
       "_view_module_version": "",
       "size": 100,
       "squareTexture": false,
       "string": "z",
       "version": 2
      }
     },
     "de17c70c32fd43c7b1c005675dc3961f": {
      "model_module": "jupyter-threejs",
      "model_module_version": "^2.1.0",
      "model_name": "SpriteModel",
      "state": {
       "_view_module": null,
       "_view_module_version": "",
       "material": "IPY_MODEL_1dc2beebfff04e09a36fccc1f01db277",
       "matrix": [
        0.05,
        0,
        0,
        0,
        0,
        0.07500000000000001,
        0,
        0,
        0,
        0,
        0.05,
        0,
        0.5,
        1,
        0.5,
        1
       ],
       "position": [
        0.5,
        1,
        0.5
       ],
       "scale": [
        0.05,
        0.07500000000000001,
        0.05
       ]
      }
     },
     "deb9a921dbe04330a0350d36393a1179": {
      "model_module": "jupyter-threejs",
      "model_module_version": "^2.1.0",
      "model_name": "SpriteModel",
      "state": {
       "_view_module": null,
       "_view_module_version": "",
       "material": "IPY_MODEL_8ce2d3c67b214f6d8f725ec2ddaa47a7",
       "matrix": [
        0.05,
        0,
        0,
        0,
        0,
        0.07500000000000001,
        0,
        0,
        0,
        0,
        0.05,
        0,
        0,
        1,
        0.5,
        1
       ],
       "position": [
        0,
        1,
        0.5
       ],
       "scale": [
        0.05,
        0.07500000000000001,
        0.05
       ]
      }
     },
     "df7f59be-2a92-406b-adbe-5780f242d281": {
      "model_module": "jupyter-threejs",
      "model_module_version": "^2.1.0",
      "model_name": "Object3DModel",
      "state": {}
     },
     "dffd2c7363ad4c9682d04d66ea58e3e5": {
      "model_module": "jupyter-threejs",
      "model_module_version": "^2.1.0",
      "model_name": "SpriteMaterialModel",
      "state": {
       "_view_module": null,
       "_view_module_version": "",
       "map": "IPY_MODEL_049d1fda87d148358c426604517320c6"
      }
     },
     "e0461757b2ff40c39222988b3923317f": {
      "model_module": "jupyter-threejs",
      "model_module_version": "^2.1.0",
      "model_name": "RendererModel",
      "state": {
       "_height": 600,
       "_webgl_version": 2,
       "_width": 600,
       "camera": "IPY_MODEL_90ed30172b9948878a010b5e925d72b0",
       "controls": [
        "IPY_MODEL_4cce16640cb848f288d9631a4d09367a"
       ],
       "layout": "IPY_MODEL_5fe66011b49b452faaf5d17e4f802a65",
       "scene": "IPY_MODEL_59a7675b5d3a44e8a208e9e21f232a54",
       "shadowMap": "IPY_MODEL_4dba43c5d04543a282d34a4a226ae6d1"
      }
     },
     "e0c4db7d42964caba662639bb627a70b": {
      "model_module": "jupyter-threejs",
      "model_module_version": "^2.1.0",
      "model_name": "SpriteModel",
      "state": {
       "_view_module": null,
       "_view_module_version": "",
       "material": "IPY_MODEL_a7b6288fdd584f3f89681296eebffefb",
       "matrix": [
        0.05,
        0,
        0,
        0,
        0,
        0.07500000000000001,
        0,
        0,
        0,
        0,
        0.05,
        0,
        0,
        0,
        0,
        1
       ],
       "scale": [
        0.05,
        0.07500000000000001,
        0.05
       ]
      }
     },
     "e0de481c242341aaa27e610eb7f2569c": {
      "model_module": "jupyter-threejs",
      "model_module_version": "^2.1.0",
      "model_name": "SpriteModel",
      "state": {
       "_view_module": null,
       "_view_module_version": "",
       "material": "IPY_MODEL_8ad0a2dbfc04440d82ef84e4c4308c66",
       "matrix": [
        0.05,
        0,
        0,
        0,
        0,
        0.07500000000000001,
        0,
        0,
        0,
        0,
        0.05,
        0,
        0,
        0,
        2,
        1
       ],
       "position": [
        0,
        0,
        2
       ],
       "scale": [
        0.05,
        0.07500000000000001,
        0.05
       ]
      }
     },
     "e1d7eb286ab74c06ba8f7204744b1756": {
      "model_module": "@jupyter-widgets/base",
      "model_module_version": "1.2.0",
      "model_name": "LayoutModel",
      "state": {}
     },
     "e2221fc0-220f-45da-9948-337d56980437": {
      "model_module": "jupyter-threejs",
      "model_module_version": "^2.1.0",
      "model_name": "DirectionalLightShadowModel",
      "state": {
       "camera": "IPY_MODEL_2bf19694-7fcd-44a4-9c71-16079e6d92bc"
      }
     },
     "e230e37a593b48df8e4f125fd25afb5f": {
      "model_module": "jupyter-threejs",
      "model_module_version": "^2.1.0",
      "model_name": "SpriteMaterialModel",
      "state": {
       "_view_module": null,
       "_view_module_version": "",
       "map": "IPY_MODEL_27033c3eb1714f22b847bc7ee6ecd7ef"
      }
     },
     "e30ac98005d949519c00084577f95cfa": {
      "model_module": "jupyter-threejs",
      "model_module_version": "^2.1.0",
      "model_name": "BufferGeometryModel",
      "state": {
       "_view_module": null,
       "_view_module_version": "",
       "attributes": {
        "color": "IPY_MODEL_8749a0e75fbc46e08ecd283c567d21a4",
        "position": "IPY_MODEL_59c472fbef874837b25f4c5552168733"
       },
       "index": "IPY_MODEL_1abb43a503d94e8198efb0d97a8452ac"
      }
     },
     "e51caf0c11014cd1b12bc5d2e5e6edb8": {
      "model_module": "jupyter-threejs",
      "model_module_version": "^2.1.0",
      "model_name": "SpriteModel",
      "state": {
       "_view_module": null,
       "_view_module_version": "",
       "material": "IPY_MODEL_29a37fc51e454fcdb689ba8639a4e87a",
       "matrix": [
        0.05,
        0,
        0,
        0,
        0,
        0.07500000000000001,
        0,
        0,
        0,
        0,
        0.05,
        0,
        1,
        0.5,
        0,
        1
       ],
       "position": [
        1,
        0.5,
        0
       ],
       "scale": [
        0.05,
        0.07500000000000001,
        0.05
       ]
      }
     },
     "e54796074d5147e6a0f0e238c4f67c08": {
      "model_module": "jupyter-threejs",
      "model_module_version": "^2.1.0",
      "model_name": "SpriteMaterialModel",
      "state": {
       "_view_module": null,
       "_view_module_version": "",
       "map": "IPY_MODEL_ffc033bbc3634767ae4798acaae8337c"
      }
     },
     "e56d920ba5da4d129e94ec65cd577396": {
      "model_module": "jupyter-threejs",
      "model_module_version": "^2.1.0",
      "model_name": "AmbientLightModel",
      "state": {
       "_view_module": null,
       "_view_module_version": "",
       "intensity": 0.8
      }
     },
     "e5c0bf46e37c4372a2dc4253eae1a666": {
      "model_module": "jupyter-threejs",
      "model_module_version": "^2.1.0",
      "model_name": "SpriteMaterialModel",
      "state": {
       "_view_module": null,
       "_view_module_version": "",
       "map": "IPY_MODEL_3dd11b0259484c17a059bd5d5cb50a0f"
      }
     },
     "e5f7d1a2e5e34c2a950b1a62199ec535": {
      "model_module": "jupyter-threejs",
      "model_module_version": "^2.1.0",
      "model_name": "SpriteMaterialModel",
      "state": {
       "_view_module": null,
       "_view_module_version": "",
       "map": "IPY_MODEL_d903e52abe9446b387b24a0635b94ae8"
      }
     },
     "e757acd3525e415eb1c68326a7607c36": {
      "model_module": "jupyter-threejs",
      "model_module_version": "^2.1.0",
      "model_name": "SpriteMaterialModel",
      "state": {
       "_view_module": null,
       "_view_module_version": "",
       "map": "IPY_MODEL_f84df582ebe44d7daae785b82d87e42b"
      }
     },
     "e9735d50c6d94bfaa62cd08e775a58aa": {
      "model_module": "jupyter-threejs",
      "model_module_version": "^2.1.0",
      "model_name": "SpriteMaterialModel",
      "state": {
       "_view_module": null,
       "_view_module_version": "",
       "map": "IPY_MODEL_70fa8fbbfb73408dad6e27852a0290f6"
      }
     },
     "e98cda344d114060848a53c2536c98d7": {
      "model_module": "jupyter-threejs",
      "model_module_version": "^2.1.0",
      "model_name": "SpriteMaterialModel",
      "state": {
       "_view_module": null,
       "_view_module_version": "",
       "map": "IPY_MODEL_0354c51499104ddb8a5f0abc27c9eb25"
      }
     },
     "eb7c1ec28fdb428990b476e962f569e9": {
      "model_module": "jupyter-threejs",
      "model_module_version": "^2.1.0",
      "model_name": "SpriteMaterialModel",
      "state": {
       "_view_module": null,
       "_view_module_version": "",
       "map": "IPY_MODEL_0ea23b7a8b8b4fc097aa71640fe89f63"
      }
     },
     "ed66779780ab4ed79ee99699791d6225": {
      "model_module": "jupyter-threejs",
      "model_module_version": "^2.1.0",
      "model_name": "SpriteMaterialModel",
      "state": {
       "_view_module": null,
       "_view_module_version": "",
       "map": "IPY_MODEL_86497a47cc1c4fda9bcb2587dbd9a471"
      }
     },
     "ee05f377e50e45e1ac51d083db9214dd": {
      "model_module": "jupyter-threejs",
      "model_module_version": "^2.1.0",
      "model_name": "RendererModel",
      "state": {
       "_height": 600,
       "_webgl_version": 2,
       "_width": 600,
       "camera": "IPY_MODEL_1d039f4766f645818f901cd169a39691",
       "controls": [
        "IPY_MODEL_0f841c5d755a477caf9b2ed7015f7510"
       ],
       "layout": "IPY_MODEL_e1d7eb286ab74c06ba8f7204744b1756",
       "scene": "IPY_MODEL_73bd3e7faaea40028f7e73136b40e091",
       "shadowMap": "IPY_MODEL_aec30d8442a74f0fa8c9c523531454d4"
      }
     },
     "eeb968ddabc24cefbc232704002df673": {
      "model_module": "jupyter-threejs",
      "model_module_version": "^2.1.0",
      "model_name": "MeshModel",
      "state": {
       "_view_module": null,
       "_view_module_version": "",
       "geometry": "IPY_MODEL_1b50acd2372a40fbb0887a3cd5810d9a",
       "material": "IPY_MODEL_be7a4b6a09aa4a2d8e9af4630970a8f1",
       "morphTargetInfluences": []
      }
     },
     "effa692272a7482582489871e66c1cbd": {
      "model_module": "jupyter-threejs",
      "model_module_version": "^2.1.0",
      "model_name": "TextTextureModel",
      "state": {
       "_view_module": null,
       "_view_module_version": "",
       "size": 100,
       "squareTexture": false,
       "string": "11",
       "version": 2
      }
     },
     "f138bd62a773485bb61fe4856f7d8e0a": {
      "model_module": "jupyter-threejs",
      "model_module_version": "^2.1.0",
      "model_name": "AxesHelperModel",
      "state": {
       "_view_module": null,
       "_view_module_version": "",
       "size": 2,
       "type": "LineSegments"
      }
     },
     "f22667e5f7d34c7a81acb9c3999e5b78": {
      "model_module": "jupyter-threejs",
      "model_module_version": "^2.1.0",
      "model_name": "SpriteMaterialModel",
      "state": {
       "_view_module": null,
       "_view_module_version": "",
       "map": "IPY_MODEL_2743cc81acc24bbe8f242901838c48ba"
      }
     },
     "f254598bb9344ddabd66e891c8168dbf": {
      "model_module": "jupyter-threejs",
      "model_module_version": "^2.1.0",
      "model_name": "SpriteModel",
      "state": {
       "_view_module": null,
       "_view_module_version": "",
       "material": "IPY_MODEL_c47fa8cebf374379bf517657a87893b4",
       "matrix": [
        0.05,
        0,
        0,
        0,
        0,
        0.07500000000000001,
        0,
        0,
        0,
        0,
        0.05,
        0,
        0,
        1,
        1,
        1
       ],
       "position": [
        0,
        1,
        1
       ],
       "scale": [
        0.05,
        0.07500000000000001,
        0.05
       ]
      }
     },
     "f34cf0c806b045648f76ec3e37a14063": {
      "model_module": "jupyter-threejs",
      "model_module_version": "^2.1.0",
      "model_name": "TextTextureModel",
      "state": {
       "_view_module": null,
       "_view_module_version": "",
       "size": 100,
       "squareTexture": false,
       "string": "5",
       "version": 2
      }
     },
     "f39645be-4faf-4c6d-b268-d87fa8559732": {
      "model_module": "jupyter-threejs",
      "model_module_version": "^2.1.0",
      "model_name": "Object3DModel",
      "state": {}
     },
     "f56c518dd2254ffd8c6a6d7164f72128": {
      "model_module": "jupyter-threejs",
      "model_module_version": "^2.1.0",
      "model_name": "SpriteModel",
      "state": {
       "_view_module": null,
       "_view_module_version": "",
       "material": "IPY_MODEL_6d40cbff50b1477b9e0ff81d1107e5b7",
       "matrix": [
        0.05,
        0,
        0,
        0,
        0,
        0.07500000000000001,
        0,
        0,
        0,
        0,
        0.05,
        0,
        1,
        1,
        0.5,
        1
       ],
       "position": [
        1,
        1,
        0.5
       ],
       "scale": [
        0.05,
        0.07500000000000001,
        0.05
       ]
      }
     },
     "f68ab224-8e1b-435c-981a-b34132afaa80": {
      "model_module": "jupyter-threejs",
      "model_module_version": "^2.1.0",
      "model_name": "Object3DModel",
      "state": {}
     },
     "f712465e90cd4b2ea6554a611ad7f8fc": {
      "model_module": "jupyter-threejs",
      "model_module_version": "^2.1.0",
      "model_name": "BufferGeometryModel",
      "state": {
       "_view_module": null,
       "_view_module_version": "",
       "attributes": {
        "color": "IPY_MODEL_20eb560a2836481bbe405ab289b98f70",
        "position": "IPY_MODEL_5d8ef099addb42b9a02f0354ce6850d7"
       },
       "index": "IPY_MODEL_3a5f33aa8ecf4f568cdeb73706217e41"
      }
     },
     "f84df582ebe44d7daae785b82d87e42b": {
      "model_module": "jupyter-threejs",
      "model_module_version": "^2.1.0",
      "model_name": "TextTextureModel",
      "state": {
       "_view_module": null,
       "_view_module_version": "",
       "size": 100,
       "squareTexture": false,
       "string": "4",
       "version": 2
      }
     },
     "f8b93eb578a140f5926542d611ebd2c6": {
      "model_module": "jupyter-threejs",
      "model_module_version": "^2.1.0",
      "model_name": "SpriteMaterialModel",
      "state": {
       "_view_module": null,
       "_view_module_version": "",
       "map": "IPY_MODEL_b3c7d6c37f6b473188f419c8ea8d0314"
      }
     },
     "f93e79d9e43744edac85e79bffe9d202": {
      "model_module": "jupyter-threejs",
      "model_module_version": "^2.1.0",
      "model_name": "TextTextureModel",
      "state": {
       "_view_module": null,
       "_view_module_version": "",
       "size": 100,
       "squareTexture": false,
       "string": "7",
       "version": 2
      }
     },
     "fa563c476bb048f88f2aa64bc5f6e159": {
      "model_module": "jupyter-threejs",
      "model_module_version": "^2.1.0",
      "model_name": "SpriteMaterialModel",
      "state": {
       "_view_module": null,
       "_view_module_version": "",
       "map": "IPY_MODEL_d5da4cd9ce8840049c0cbf319439c7bb"
      }
     },
     "fb47f358b4d14fbfa0e046a0fd708f26": {
      "model_module": "jupyter-threejs",
      "model_module_version": "^2.1.0",
      "model_name": "SpriteModel",
      "state": {
       "_view_module": null,
       "_view_module_version": "",
       "material": "IPY_MODEL_7511414fe9864c53be8a51d27438963c",
       "matrix": [
        0.05,
        0,
        0,
        0,
        0,
        0.07500000000000001,
        0,
        0,
        0,
        0,
        0.05,
        0,
        2,
        0,
        0,
        1
       ],
       "position": [
        2,
        0,
        0
       ],
       "scale": [
        0.05,
        0.07500000000000001,
        0.05
       ]
      }
     },
     "fe6505ff1306470fa9f4f5bd22426dfe": {
      "model_module": "jupyter-threejs",
      "model_module_version": "^2.1.0",
      "model_name": "SpriteMaterialModel",
      "state": {
       "_view_module": null,
       "_view_module_version": "",
       "map": "IPY_MODEL_d02a15f513754f17bb1ab8037365712e"
      }
     },
     "fee853a2dcbd430f883ccecd240f7c9d": {
      "model_module": "jupyter-threejs",
      "model_module_version": "^2.1.0",
      "model_name": "SpriteMaterialModel",
      "state": {
       "_view_module": null,
       "_view_module_version": "",
       "map": "IPY_MODEL_cc47d2fa15334fbbbcb8f6d7efe7fe67"
      }
     },
     "ff053ce7694645ddb3c199a55bd75363": {
      "model_module": "jupyter-threejs",
      "model_module_version": "^2.1.0",
      "model_name": "SpriteModel",
      "state": {
       "_view_module": null,
       "_view_module_version": "",
       "material": "IPY_MODEL_dffd2c7363ad4c9682d04d66ea58e3e5",
       "matrix": [
        0.05,
        0,
        0,
        0,
        0,
        0.07500000000000001,
        0,
        0,
        0,
        0,
        0.05,
        0,
        0.5,
        1,
        0,
        1
       ],
       "position": [
        0.5,
        1,
        0
       ],
       "scale": [
        0.05,
        0.07500000000000001,
        0.05
       ]
      }
     },
     "ffc033bbc3634767ae4798acaae8337c": {
      "model_module": "jupyter-threejs",
      "model_module_version": "^2.1.0",
      "model_name": "TextTextureModel",
      "state": {
       "_view_module": null,
       "_view_module_version": "",
       "size": 100,
       "squareTexture": false,
       "string": "22",
       "version": 2
      }
     }
    },
    "version_major": 2,
    "version_minor": 0
   }
  }
 },
 "nbformat": 4,
 "nbformat_minor": 4
}
